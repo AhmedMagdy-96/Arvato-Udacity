{
 "cells": [
  {
   "cell_type": "markdown",
   "metadata": {},
   "source": [
    "# Capstone Project: Create a Customer Segmentation Report for Arvato Financial Services\n",
    "\n",
    "In this project, you will analyze demographics data for customers of a mail-order sales company in Germany, comparing it against demographics information for the general population. You'll use unsupervised learning techniques to perform customer segmentation, identifying the parts of the population that best describe the core customer base of the company. Then, you'll apply what you've learned on a third dataset with demographics information for targets of a marketing campaign for the company, and use a model to predict which individuals are most likely to convert into becoming customers for the company. The data that you will use has been provided by our partners at Bertelsmann Arvato Analytics, and represents a real-life data science task.\n",
    "\n",
    "If you completed the first term of this program, you will be familiar with the first part of this project, from the unsupervised learning project. The versions of those two datasets used in this project will include many more features and has not been pre-cleaned. You are also free to choose whatever approach you'd like to analyzing the data rather than follow pre-determined steps. In your work on this project, make sure that you carefully document your steps and decisions, since your main deliverable for this project will be a blog post reporting your findings."
   ]
  },
  {
   "cell_type": "code",
   "execution_count": 1,
   "metadata": {},
   "outputs": [],
   "source": [
    "# import libraries here; add more as necessary\n",
    "import numpy as np\n",
    "import pandas as pd\n",
    "import matplotlib.pyplot as plt\n",
    "import time\n",
    "import pickle as pickle\n",
    "from sklearn.preprocessing import LabelEncoder\n",
    "from sklearn.preprocessing import Imputer\n",
    "from sklearn.preprocessing import StandardScaler\n",
    "from sklearn.decomposition import PCA\n",
    "from sklearn.cluster import KMeans\n",
    "from sklearn.model_selection import StratifiedKFold\n",
    "from sklearn.ensemble import RandomForestClassifier,GradientBoostingClassifier,AdaBoostClassifier\n",
    "from sklearn.linear_model import LogisticRegression\n",
    "from sklearn.naive_bayes import GaussianNB\n",
    "from sklearn.model_selection import GridSearchCV\n",
    "from sklearn.metrics import roc_auc_score\n",
    "from sklearn.metrics import roc_curve\n",
    "# magic word for producing visualizations in notebook\n",
    "%matplotlib inline"
   ]
  },
  {
   "cell_type": "code",
   "execution_count": 2,
   "metadata": {},
   "outputs": [],
   "source": [
    "def Explore(df):\n",
    "        print('DataFrame Shape : \\n')\n",
    "        print(df.shape)\n",
    "        print('DataFrame examples : \\n')\n",
    "        print(df.head())\n",
    "        print('DataFrame Description : \\n')\n",
    "        print(df.describe())"
   ]
  },
  {
   "cell_type": "code",
   "execution_count": 3,
   "metadata": {},
   "outputs": [],
   "source": [
    "def Cleaning_dataframe(df,azdias=True,cust=True):\n",
    "    \n",
    "    if cust:\n",
    "        df.drop(columns=['CUSTOMER_GROUP', 'ONLINE_PURCHASE', 'PRODUCT_GROUP'], inplace=True)\n",
    "    elif azdias:\n",
    "        df=df[df.isnull().sum(axis=1) <= 16]\n",
    "    \n",
    "    df_null_count=df.isnull().sum()*100/len(df)\n",
    "    \n",
    "    drop_columns_list=df.columns[(df_null_count/100) > .30]\n",
    "    drop_columns_list=list(drop_columns_list)\n",
    "    print('columns to drop : ',drop_columns_list)\n",
    "    \n",
    "    df=df.drop(drop_columns_list,axis=1)\n",
    "    \n",
    "    \n",
    "    df = df.drop(['EINGEFUEGT_AM'],axis=1)\n",
    "    df = df.drop(['D19_LETZTER_KAUF_BRANCHE'],axis=1)\n",
    "    df = df.drop(['CAMEO_DEU_2015'],axis=1)\n",
    "    return df"
   ]
  },
  {
   "cell_type": "code",
   "execution_count": 4,
   "metadata": {},
   "outputs": [],
   "source": [
    "def Handle_category_values(df):\n",
    "    df['CAMEO_DEUG_2015']=df['CAMEO_DEUG_2015'].replace('X',np.NaN)\n",
    "    df['CAMEO_INTL_2015']=df['CAMEO_INTL_2015'].replace('XX',np.NaN)\n",
    "    df['CAMEO_DEUG_2015'].fillna(-1, inplace=True)\n",
    "    df['CAMEO_INTL_2015'].fillna(-1, inplace=True)\n",
    "    df['OST_WEST_KZ'].fillna(-1, inplace=True)\n",
    "    df['CAMEO_DEUG_2015']=df['CAMEO_DEUG_2015'].astype(float)\n",
    "    df['CAMEO_INTL_2015']=df['CAMEO_INTL_2015'].astype(float)\n",
    "    df['OST_WEST_KZ'] = df.OST_WEST_KZ.map({'W':0,'O':1})\n",
    "    return df"
   ]
  },
  {
   "cell_type": "markdown",
   "metadata": {},
   "source": [
    "## Part 0: Get to Know the Data\n",
    "\n",
    "There are four data files associated with this project:\n",
    "\n",
    "- `Udacity_AZDIAS_052018.csv`: Demographics data for the general population of Germany; 891 211 persons (rows) x 366 features (columns).\n",
    "- `Udacity_CUSTOMERS_052018.csv`: Demographics data for customers of a mail-order company; 191 652 persons (rows) x 369 features (columns).\n",
    "- `Udacity_MAILOUT_052018_TRAIN.csv`: Demographics data for individuals who were targets of a marketing campaign; 42 982 persons (rows) x 367 (columns).\n",
    "- `Udacity_MAILOUT_052018_TEST.csv`: Demographics data for individuals who were targets of a marketing campaign; 42 833 persons (rows) x 366 (columns).\n",
    "\n",
    "Each row of the demographics files represents a single person, but also includes information outside of individuals, including information about their household, building, and neighborhood. Use the information from the first two files to figure out how customers (\"CUSTOMERS\") are similar to or differ from the general population at large (\"AZDIAS\"), then use your analysis to make predictions on the other two files (\"MAILOUT\"), predicting which recipients are most likely to become a customer for the mail-order company.\n",
    "\n",
    "The \"CUSTOMERS\" file contains three extra columns ('CUSTOMER_GROUP', 'ONLINE_PURCHASE', and 'PRODUCT_GROUP'), which provide broad information about the customers depicted in the file. The original \"MAILOUT\" file included one additional column, \"RESPONSE\", which indicated whether or not each recipient became a customer of the company. For the \"TRAIN\" subset, this column has been retained, but in the \"TEST\" subset it has been removed; it is against that withheld column that your final predictions will be assessed in the Kaggle competition.\n",
    "\n",
    "Otherwise, all of the remaining columns are the same between the three data files. For more information about the columns depicted in the files, you can refer to two Excel spreadsheets provided in the workspace. [One of them](./DIAS Information Levels - Attributes 2017.xlsx) is a top-level list of attributes and descriptions, organized by informational category. [The other](./DIAS Attributes - Values 2017.xlsx) is a detailed mapping of data values for each feature in alphabetical order.\n",
    "\n",
    "In the below cell, we've provided some initial code to load in the first two datasets. Note for all of the `.csv` data files in this project that they're semicolon (`;`) delimited, so an additional argument in the [`read_csv()`](https://pandas.pydata.org/pandas-docs/stable/generated/pandas.read_csv.html) call has been included to read in the data properly. Also, considering the size of the datasets, it may take some time for them to load completely.\n",
    "\n",
    "You'll notice when the data is loaded in that a warning message will immediately pop up. Before you really start digging into the modeling and analysis, you're going to need to perform some cleaning. Take some time to browse the structure of the data and look over the informational spreadsheets to understand the data values. Make some decisions on which features to keep, which features to drop, and if any revisions need to be made on data formats. It'll be a good idea to create a function with pre-processing steps, since you'll need to clean all of the datasets before you work with them."
   ]
  },
  {
   "cell_type": "code",
   "execution_count": 5,
   "metadata": {},
   "outputs": [
    {
     "name": "stderr",
     "output_type": "stream",
     "text": [
      "/opt/conda/lib/python3.6/site-packages/IPython/core/interactiveshell.py:2785: DtypeWarning: Columns (18,19) have mixed types. Specify dtype option on import or set low_memory=False.\n",
      "  interactivity=interactivity, compiler=compiler, result=result)\n"
     ]
    }
   ],
   "source": [
    "# load in the data\n",
    "azdias = pd.read_csv('../../data/Term2/capstone/arvato_data/Udacity_AZDIAS_052018.csv', sep=';')\n",
    "customers = pd.read_csv('../../data/Term2/capstone/arvato_data/Udacity_CUSTOMERS_052018.csv', sep=';')"
   ]
  },
  {
   "cell_type": "code",
   "execution_count": 6,
   "metadata": {},
   "outputs": [
    {
     "name": "stdout",
     "output_type": "stream",
     "text": [
      "DataFrame Shape : \n",
      "\n",
      "(891221, 366)\n",
      "DataFrame examples : \n",
      "\n",
      "      LNR  AGER_TYP  AKT_DAT_KL  ALTER_HH  ALTER_KIND1  ALTER_KIND2  \\\n",
      "0  910215        -1         NaN       NaN          NaN          NaN   \n",
      "1  910220        -1         9.0       0.0          NaN          NaN   \n",
      "2  910225        -1         9.0      17.0          NaN          NaN   \n",
      "3  910226         2         1.0      13.0          NaN          NaN   \n",
      "4  910241        -1         1.0      20.0          NaN          NaN   \n",
      "\n",
      "   ALTER_KIND3  ALTER_KIND4  ALTERSKATEGORIE_FEIN  ANZ_HAUSHALTE_AKTIV  \\\n",
      "0          NaN          NaN                   NaN                  NaN   \n",
      "1          NaN          NaN                  21.0                 11.0   \n",
      "2          NaN          NaN                  17.0                 10.0   \n",
      "3          NaN          NaN                  13.0                  1.0   \n",
      "4          NaN          NaN                  14.0                  3.0   \n",
      "\n",
      "          ...           VHN  VK_DHT4A  VK_DISTANZ  VK_ZG11  W_KEIT_KIND_HH  \\\n",
      "0         ...           NaN       NaN         NaN      NaN             NaN   \n",
      "1         ...           4.0       8.0        11.0     10.0             3.0   \n",
      "2         ...           2.0       9.0         9.0      6.0             3.0   \n",
      "3         ...           0.0       7.0        10.0     11.0             NaN   \n",
      "4         ...           2.0       3.0         5.0      4.0             2.0   \n",
      "\n",
      "   WOHNDAUER_2008  WOHNLAGE ZABEOTYP ANREDE_KZ ALTERSKATEGORIE_GROB  \n",
      "0             NaN       NaN        3         1                    2  \n",
      "1             9.0       4.0        5         2                    1  \n",
      "2             9.0       2.0        5         2                    3  \n",
      "3             9.0       7.0        3         2                    4  \n",
      "4             9.0       3.0        4         1                    3  \n",
      "\n",
      "[5 rows x 366 columns]\n",
      "DataFrame Description : \n",
      "\n",
      "                LNR       AGER_TYP     AKT_DAT_KL       ALTER_HH  \\\n",
      "count  8.912210e+05  891221.000000  817722.000000  817722.000000   \n",
      "mean   6.372630e+05      -0.358435       4.421928      10.864126   \n",
      "std    2.572735e+05       1.198724       3.638805       7.639683   \n",
      "min    1.916530e+05      -1.000000       1.000000       0.000000   \n",
      "25%    4.144580e+05      -1.000000       1.000000       0.000000   \n",
      "50%    6.372630e+05      -1.000000       3.000000      13.000000   \n",
      "75%    8.600680e+05      -1.000000       9.000000      17.000000   \n",
      "max    1.082873e+06       3.000000       9.000000      21.000000   \n",
      "\n",
      "        ALTER_KIND1   ALTER_KIND2  ALTER_KIND3  ALTER_KIND4  \\\n",
      "count  81058.000000  29499.000000  6170.000000  1205.000000   \n",
      "mean      11.745392     13.402658    14.476013    15.089627   \n",
      "std        4.097660      3.243300     2.712427     2.452932   \n",
      "min        2.000000      2.000000     4.000000     7.000000   \n",
      "25%        8.000000     11.000000    13.000000    14.000000   \n",
      "50%       12.000000     14.000000    15.000000    15.000000   \n",
      "75%       15.000000     16.000000    17.000000    17.000000   \n",
      "max       18.000000     18.000000    18.000000    18.000000   \n",
      "\n",
      "       ALTERSKATEGORIE_FEIN  ANZ_HAUSHALTE_AKTIV          ...           \\\n",
      "count         628274.000000        798073.000000          ...            \n",
      "mean              13.700717             8.287263          ...            \n",
      "std                5.079849            15.628087          ...            \n",
      "min                0.000000             0.000000          ...            \n",
      "25%               11.000000             1.000000          ...            \n",
      "50%               14.000000             4.000000          ...            \n",
      "75%               17.000000             9.000000          ...            \n",
      "max               25.000000           595.000000          ...            \n",
      "\n",
      "                 VHN       VK_DHT4A     VK_DISTANZ        VK_ZG11  \\\n",
      "count  770025.000000  815304.000000  815304.000000  815304.000000   \n",
      "mean        2.417322       6.001214       7.532130       5.945972   \n",
      "std         1.166572       2.856091       3.247789       2.771464   \n",
      "min         0.000000       1.000000       1.000000       1.000000   \n",
      "25%         2.000000       3.000000       5.000000       4.000000   \n",
      "50%         2.000000       6.000000       8.000000       6.000000   \n",
      "75%         3.000000       9.000000      10.000000       8.000000   \n",
      "max         4.000000      11.000000      13.000000      11.000000   \n",
      "\n",
      "       W_KEIT_KIND_HH  WOHNDAUER_2008       WOHNLAGE       ZABEOTYP  \\\n",
      "count   783619.000000   817722.000000  798073.000000  891221.000000   \n",
      "mean         3.933406        7.908791       4.052836       3.362438   \n",
      "std          1.964701        1.923137       1.949539       1.352704   \n",
      "min          0.000000        1.000000       0.000000       1.000000   \n",
      "25%          2.000000        8.000000       3.000000       3.000000   \n",
      "50%          4.000000        9.000000       3.000000       3.000000   \n",
      "75%          6.000000        9.000000       5.000000       4.000000   \n",
      "max          6.000000        9.000000       8.000000       6.000000   \n",
      "\n",
      "           ANREDE_KZ  ALTERSKATEGORIE_GROB  \n",
      "count  891221.000000         891221.000000  \n",
      "mean        1.522098              2.777398  \n",
      "std         0.499512              1.068775  \n",
      "min         1.000000              1.000000  \n",
      "25%         1.000000              2.000000  \n",
      "50%         2.000000              3.000000  \n",
      "75%         2.000000              4.000000  \n",
      "max         2.000000              9.000000  \n",
      "\n",
      "[8 rows x 360 columns]\n"
     ]
    }
   ],
   "source": [
    "Explore(azdias)"
   ]
  },
  {
   "cell_type": "code",
   "execution_count": 7,
   "metadata": {
    "scrolled": false
   },
   "outputs": [
    {
     "name": "stdout",
     "output_type": "stream",
     "text": [
      "DataFrame Shape : \n",
      "\n",
      "(191652, 369)\n",
      "DataFrame examples : \n",
      "\n",
      "      LNR  AGER_TYP  AKT_DAT_KL  ALTER_HH  ALTER_KIND1  ALTER_KIND2  \\\n",
      "0    9626         2         1.0      10.0          NaN          NaN   \n",
      "1    9628        -1         9.0      11.0          NaN          NaN   \n",
      "2  143872        -1         1.0       6.0          NaN          NaN   \n",
      "3  143873         1         1.0       8.0          NaN          NaN   \n",
      "4  143874        -1         1.0      20.0          NaN          NaN   \n",
      "\n",
      "   ALTER_KIND3  ALTER_KIND4  ALTERSKATEGORIE_FEIN  ANZ_HAUSHALTE_AKTIV  \\\n",
      "0          NaN          NaN                  10.0                  1.0   \n",
      "1          NaN          NaN                   NaN                  NaN   \n",
      "2          NaN          NaN                   0.0                  1.0   \n",
      "3          NaN          NaN                   8.0                  0.0   \n",
      "4          NaN          NaN                  14.0                  7.0   \n",
      "\n",
      "          ...           VK_ZG11  W_KEIT_KIND_HH  WOHNDAUER_2008  WOHNLAGE  \\\n",
      "0         ...               2.0             6.0             9.0       7.0   \n",
      "1         ...               3.0             0.0             9.0       NaN   \n",
      "2         ...              11.0             6.0             9.0       2.0   \n",
      "3         ...               2.0             NaN             9.0       7.0   \n",
      "4         ...               4.0             2.0             9.0       3.0   \n",
      "\n",
      "   ZABEOTYP      PRODUCT_GROUP  CUSTOMER_GROUP ONLINE_PURCHASE ANREDE_KZ  \\\n",
      "0         3  COSMETIC_AND_FOOD     MULTI_BUYER               0         1   \n",
      "1         3               FOOD    SINGLE_BUYER               0         1   \n",
      "2         3  COSMETIC_AND_FOOD     MULTI_BUYER               0         2   \n",
      "3         1           COSMETIC     MULTI_BUYER               0         1   \n",
      "4         1               FOOD     MULTI_BUYER               0         1   \n",
      "\n",
      "  ALTERSKATEGORIE_GROB  \n",
      "0                    4  \n",
      "1                    4  \n",
      "2                    4  \n",
      "3                    4  \n",
      "4                    3  \n",
      "\n",
      "[5 rows x 369 columns]\n",
      "DataFrame Description : \n",
      "\n",
      "                 LNR       AGER_TYP     AKT_DAT_KL       ALTER_HH  \\\n",
      "count  191652.000000  191652.000000  145056.000000  145056.000000   \n",
      "mean    95826.500000       0.344359       1.747525      11.352009   \n",
      "std     55325.311233       1.391672       1.966334       6.275026   \n",
      "min         1.000000      -1.000000       1.000000       0.000000   \n",
      "25%     47913.750000      -1.000000       1.000000       8.000000   \n",
      "50%     95826.500000       0.000000       1.000000      11.000000   \n",
      "75%    143739.250000       2.000000       1.000000      16.000000   \n",
      "max    191652.000000       3.000000       9.000000      21.000000   \n",
      "\n",
      "        ALTER_KIND1  ALTER_KIND2  ALTER_KIND3  ALTER_KIND4  \\\n",
      "count  11766.000000  5100.000000  1275.000000   236.000000   \n",
      "mean      12.337243    13.672353    14.647059    15.377119   \n",
      "std        4.006050     3.243335     2.753787     2.307653   \n",
      "min        2.000000     2.000000     5.000000     8.000000   \n",
      "25%        9.000000    11.000000    13.000000    14.000000   \n",
      "50%       13.000000    14.000000    15.000000    16.000000   \n",
      "75%       16.000000    16.000000    17.000000    17.000000   \n",
      "max       18.000000    18.000000    18.000000    18.000000   \n",
      "\n",
      "       ALTERSKATEGORIE_FEIN  ANZ_HAUSHALTE_AKTIV          ...           \\\n",
      "count         139810.000000        141725.000000          ...            \n",
      "mean              10.331579             4.965863          ...            \n",
      "std                4.134828            14.309694          ...            \n",
      "min                0.000000             0.000000          ...            \n",
      "25%                9.000000             1.000000          ...            \n",
      "50%               10.000000             1.000000          ...            \n",
      "75%               13.000000             4.000000          ...            \n",
      "max               25.000000           523.000000          ...            \n",
      "\n",
      "            VK_DHT4A     VK_DISTANZ        VK_ZG11  W_KEIT_KIND_HH  \\\n",
      "count  143781.000000  143781.000000  143781.000000   137910.000000   \n",
      "mean        4.374417       4.564769       3.168868        4.152716   \n",
      "std         2.924355       2.887035       2.233516        1.974375   \n",
      "min         1.000000       1.000000       1.000000        0.000000   \n",
      "25%         2.000000       2.000000       1.000000        2.000000   \n",
      "50%         4.000000       4.000000       3.000000        5.000000   \n",
      "75%         7.000000       7.000000       4.000000        6.000000   \n",
      "max        11.000000      13.000000      11.000000        6.000000   \n",
      "\n",
      "       WOHNDAUER_2008       WOHNLAGE       ZABEOTYP  ONLINE_PURCHASE  \\\n",
      "count   145056.000000  141725.000000  191652.000000    191652.000000   \n",
      "mean         8.646371       3.723133       2.576806         0.090247   \n",
      "std          1.154001       2.095540       1.168486         0.286536   \n",
      "min          1.000000       0.000000       1.000000         0.000000   \n",
      "25%          9.000000       2.000000       1.000000         0.000000   \n",
      "50%          9.000000       3.000000       3.000000         0.000000   \n",
      "75%          9.000000       5.000000       3.000000         0.000000   \n",
      "max          9.000000       8.000000       6.000000         1.000000   \n",
      "\n",
      "           ANREDE_KZ  ALTERSKATEGORIE_GROB  \n",
      "count  191652.000000         191652.000000  \n",
      "mean        1.376432              3.060907  \n",
      "std         0.484492              1.086254  \n",
      "min         1.000000              1.000000  \n",
      "25%         1.000000              3.000000  \n",
      "50%         1.000000              3.000000  \n",
      "75%         2.000000              4.000000  \n",
      "max         2.000000              9.000000  \n",
      "\n",
      "[8 rows x 361 columns]\n"
     ]
    }
   ],
   "source": [
    "Explore(customers)"
   ]
  },
  {
   "cell_type": "code",
   "execution_count": 8,
   "metadata": {},
   "outputs": [
    {
     "data": {
      "text/plain": [
       "Index(['CAMEO_DEUG_2015', 'CAMEO_INTL_2015'], dtype='object')"
      ]
     },
     "execution_count": 8,
     "metadata": {},
     "output_type": "execute_result"
    }
   ],
   "source": [
    "mixed_cols=azdias.columns[18:20]\n",
    "mixed_cols"
   ]
  },
  {
   "cell_type": "code",
   "execution_count": 9,
   "metadata": {
    "scrolled": true
   },
   "outputs": [
    {
     "name": "stdout",
     "output_type": "stream",
     "text": [
      "[nan 8.0 4.0 2.0 6.0 1.0 9.0 5.0 7.0 3.0 '4' '3' '7' '2' '8' '9' '6' '5'\n",
      " '1' 'X']\n",
      "[nan 51.0 24.0 12.0 43.0 54.0 22.0 14.0 13.0 15.0 33.0 41.0 34.0 55.0 25.0\n",
      " 23.0 31.0 52.0 35.0 45.0 44.0 32.0 '22' '24' '41' '12' '54' '51' '44' '35'\n",
      " '23' '25' '14' '34' '52' '55' '31' '32' '15' '13' '43' '33' '45' 'XX']\n"
     ]
    }
   ],
   "source": [
    "print(azdias['CAMEO_DEUG_2015'].unique())\n",
    "print(azdias['CAMEO_INTL_2015'].unique())"
   ]
  },
  {
   "cell_type": "markdown",
   "metadata": {},
   "source": [
    "after checking dias attributes i found that -1 means this value is unknown or missing"
   ]
  },
  {
   "cell_type": "code",
   "execution_count": 10,
   "metadata": {},
   "outputs": [
    {
     "data": {
      "text/plain": [
       "Index(['CAMEO_DEU_2015', 'CAMEO_DEUG_2015', 'CAMEO_INTL_2015',\n",
       "       'D19_LETZTER_KAUF_BRANCHE', 'EINGEFUEGT_AM', 'OST_WEST_KZ'],\n",
       "      dtype='object')"
      ]
     },
     "execution_count": 10,
     "metadata": {},
     "output_type": "execute_result"
    }
   ],
   "source": [
    "obj_cols=azdias.select_dtypes('object').columns\n",
    "obj_cols"
   ]
  },
  {
   "cell_type": "code",
   "execution_count": 11,
   "metadata": {},
   "outputs": [
    {
     "data": {
      "text/html": [
       "<div>\n",
       "<style scoped>\n",
       "    .dataframe tbody tr th:only-of-type {\n",
       "        vertical-align: middle;\n",
       "    }\n",
       "\n",
       "    .dataframe tbody tr th {\n",
       "        vertical-align: top;\n",
       "    }\n",
       "\n",
       "    .dataframe thead th {\n",
       "        text-align: right;\n",
       "    }\n",
       "</style>\n",
       "<table border=\"1\" class=\"dataframe\">\n",
       "  <thead>\n",
       "    <tr style=\"text-align: right;\">\n",
       "      <th></th>\n",
       "      <th>CAMEO_DEU_2015</th>\n",
       "      <th>CAMEO_DEUG_2015</th>\n",
       "      <th>CAMEO_INTL_2015</th>\n",
       "      <th>D19_LETZTER_KAUF_BRANCHE</th>\n",
       "      <th>EINGEFUEGT_AM</th>\n",
       "      <th>OST_WEST_KZ</th>\n",
       "    </tr>\n",
       "  </thead>\n",
       "  <tbody>\n",
       "    <tr>\n",
       "      <th>0</th>\n",
       "      <td>NaN</td>\n",
       "      <td>NaN</td>\n",
       "      <td>NaN</td>\n",
       "      <td>NaN</td>\n",
       "      <td>NaN</td>\n",
       "      <td>NaN</td>\n",
       "    </tr>\n",
       "    <tr>\n",
       "      <th>1</th>\n",
       "      <td>8A</td>\n",
       "      <td>8</td>\n",
       "      <td>51</td>\n",
       "      <td>NaN</td>\n",
       "      <td>1992-02-10 00:00:00</td>\n",
       "      <td>W</td>\n",
       "    </tr>\n",
       "    <tr>\n",
       "      <th>2</th>\n",
       "      <td>4C</td>\n",
       "      <td>4</td>\n",
       "      <td>24</td>\n",
       "      <td>D19_UNBEKANNT</td>\n",
       "      <td>1992-02-12 00:00:00</td>\n",
       "      <td>W</td>\n",
       "    </tr>\n",
       "    <tr>\n",
       "      <th>3</th>\n",
       "      <td>2A</td>\n",
       "      <td>2</td>\n",
       "      <td>12</td>\n",
       "      <td>D19_UNBEKANNT</td>\n",
       "      <td>1997-04-21 00:00:00</td>\n",
       "      <td>W</td>\n",
       "    </tr>\n",
       "    <tr>\n",
       "      <th>4</th>\n",
       "      <td>6B</td>\n",
       "      <td>6</td>\n",
       "      <td>43</td>\n",
       "      <td>D19_SCHUHE</td>\n",
       "      <td>1992-02-12 00:00:00</td>\n",
       "      <td>W</td>\n",
       "    </tr>\n",
       "  </tbody>\n",
       "</table>\n",
       "</div>"
      ],
      "text/plain": [
       "  CAMEO_DEU_2015 CAMEO_DEUG_2015 CAMEO_INTL_2015 D19_LETZTER_KAUF_BRANCHE  \\\n",
       "0            NaN             NaN             NaN                      NaN   \n",
       "1             8A               8              51                      NaN   \n",
       "2             4C               4              24            D19_UNBEKANNT   \n",
       "3             2A               2              12            D19_UNBEKANNT   \n",
       "4             6B               6              43               D19_SCHUHE   \n",
       "\n",
       "         EINGEFUEGT_AM OST_WEST_KZ  \n",
       "0                  NaN         NaN  \n",
       "1  1992-02-10 00:00:00           W  \n",
       "2  1992-02-12 00:00:00           W  \n",
       "3  1997-04-21 00:00:00           W  \n",
       "4  1992-02-12 00:00:00           W  "
      ]
     },
     "execution_count": 11,
     "metadata": {},
     "output_type": "execute_result"
    }
   ],
   "source": [
    "azdias.select_dtypes('object').head()"
   ]
  },
  {
   "cell_type": "code",
   "execution_count": 12,
   "metadata": {},
   "outputs": [
    {
     "name": "stdout",
     "output_type": "stream",
     "text": [
      "CAMEO_DEU_2015 column has 45 unique values\n",
      "CAMEO_DEUG_2015 column has 19 unique values\n",
      "CAMEO_INTL_2015 column has 43 unique values\n",
      "D19_LETZTER_KAUF_BRANCHE column has 35 unique values\n",
      "EINGEFUEGT_AM column has 5162 unique values\n",
      "OST_WEST_KZ column has 2 unique values\n"
     ]
    }
   ],
   "source": [
    "for col in obj_cols:\n",
    "    print('{} column has {} unique values'.format(col,azdias[col].nunique()))"
   ]
  },
  {
   "cell_type": "code",
   "execution_count": 13,
   "metadata": {},
   "outputs": [
    {
     "name": "stdout",
     "output_type": "stream",
     "text": [
      "0              NaN\n",
      "1              NaN\n",
      "2    D19_UNBEKANNT\n",
      "3    D19_UNBEKANNT\n",
      "4       D19_SCHUHE\n",
      "Name: D19_LETZTER_KAUF_BRANCHE, dtype: object\n"
     ]
    }
   ],
   "source": [
    "print(azdias['D19_LETZTER_KAUF_BRANCHE'].head())"
   ]
  },
  {
   "cell_type": "code",
   "execution_count": 14,
   "metadata": {},
   "outputs": [
    {
     "name": "stdout",
     "output_type": "stream",
     "text": [
      "[nan '8A' '4C' '2A' '6B' '8C' '4A' '2D' '1A' '1E' '9D' '5C' '8B' '7A' '5D'\n",
      " '9E' '9B' '1B' '3D' '4E' '4B' '3C' '5A' '7B' '9A' '6D' '6E' '2C' '7C' '9C'\n",
      " '7D' '5E' '1D' '8D' '6C' '6A' '5B' '4D' '3A' '2B' '7E' '3B' '6F' '5F' '1C'\n",
      " 'XX']\n",
      "[nan 8.0 4.0 2.0 6.0 1.0 9.0 5.0 7.0 3.0 '4' '3' '7' '2' '8' '9' '6' '5'\n",
      " '1' 'X']\n",
      "[nan 51.0 24.0 12.0 43.0 54.0 22.0 14.0 13.0 15.0 33.0 41.0 34.0 55.0 25.0\n",
      " 23.0 31.0 52.0 35.0 45.0 44.0 32.0 '22' '24' '41' '12' '54' '51' '44' '35'\n",
      " '23' '25' '14' '34' '52' '55' '31' '32' '15' '13' '43' '33' '45' 'XX']\n",
      "[nan 'W' 'O']\n",
      "[nan 'D19_UNBEKANNT' 'D19_SCHUHE' 'D19_ENERGIE' 'D19_KOSMETIK'\n",
      " 'D19_VOLLSORTIMENT' 'D19_SONSTIGE' 'D19_BANKEN_GROSS'\n",
      " 'D19_DROGERIEARTIKEL' 'D19_HANDWERK' 'D19_BUCH_CD' 'D19_VERSICHERUNGEN'\n",
      " 'D19_VERSAND_REST' 'D19_TELKO_REST' 'D19_BANKEN_DIREKT' 'D19_BANKEN_REST'\n",
      " 'D19_FREIZEIT' 'D19_LEBENSMITTEL' 'D19_HAUS_DEKO' 'D19_BEKLEIDUNG_REST'\n",
      " 'D19_SAMMELARTIKEL' 'D19_TELKO_MOBILE' 'D19_REISEN' 'D19_BEKLEIDUNG_GEH'\n",
      " 'D19_TECHNIK' 'D19_NAHRUNGSERGAENZUNG' 'D19_DIGIT_SERV' 'D19_LOTTO'\n",
      " 'D19_RATGEBER' 'D19_TIERARTIKEL' 'D19_KINDERARTIKEL' 'D19_BIO_OEKO'\n",
      " 'D19_WEIN_FEINKOST' 'D19_GARTEN' 'D19_BILDUNG' 'D19_BANKEN_LOKAL']\n"
     ]
    }
   ],
   "source": [
    "print(azdias['CAMEO_DEU_2015'].unique())\n",
    "print(azdias['CAMEO_DEUG_2015'].unique())\n",
    "print(azdias['CAMEO_INTL_2015'].unique())\n",
    "print(azdias['OST_WEST_KZ'].unique())\n",
    "print(azdias['D19_LETZTER_KAUF_BRANCHE'].unique())"
   ]
  },
  {
   "cell_type": "markdown",
   "metadata": {},
   "source": [
    "the above cells shows that D19_LETZTER_KAUF_BRANCHE has many unique values and after checking the dias attributes and dias info excel sheets i found no discribtion for it so i decided to drop it ,EINGEFUEGT_AM  has significant number of mising values so should be dropped,also CAMEO_DEU_2015 column has many unique values and in the description it is like the CAMEO_DEUG_2015 column so i decided to drop it toom deug and intl columns has mixed values should be handled "
   ]
  },
  {
   "cell_type": "code",
   "execution_count": 7,
   "metadata": {},
   "outputs": [],
   "source": [
    "azdias=Handle_category_values(azdias)"
   ]
  },
  {
   "cell_type": "code",
   "execution_count": 16,
   "metadata": {},
   "outputs": [
    {
     "name": "stdout",
     "output_type": "stream",
     "text": [
      "0    -1\n",
      "1    8A\n",
      "2    4C\n",
      "3    2A\n",
      "4    6B\n",
      "Name: CAMEO_DEU_2015, dtype: object\n"
     ]
    }
   ],
   "source": [
    "print(azdias['CAMEO_DEU_2015'].head())"
   ]
  },
  {
   "cell_type": "code",
   "execution_count": 8,
   "metadata": {},
   "outputs": [],
   "source": [
    "customers=Handle_category_values(customers)"
   ]
  },
  {
   "cell_type": "code",
   "execution_count": 18,
   "metadata": {},
   "outputs": [],
   "source": [
    "azdias_null_count=azdias.isnull().sum()*100/len(azdias)"
   ]
  },
  {
   "cell_type": "code",
   "execution_count": 19,
   "metadata": {},
   "outputs": [
    {
     "data": {
      "image/png": "[encoded data removed]",
      "text/plain": [
       "<matplotlib.figure.Figure at 0x7f03700a37b8>"
      ]
     },
     "metadata": {
      "needs_background": "light"
     },
     "output_type": "display_data"
    }
   ],
   "source": [
    "miss_azdias_plot=azdias_null_count.sort_values(ascending=False).head(70).plot(kind='bar',figsize=(60,20),fontsize=30)"
   ]
  },
  {
   "cell_type": "code",
   "execution_count": 20,
   "metadata": {},
   "outputs": [
    {
     "data": {
      "text/plain": [
       "ALTER_KIND4                    99.864792\n",
       "ALTER_KIND3                    99.307691\n",
       "ALTER_KIND2                    96.690047\n",
       "ALTER_KIND1                    90.904837\n",
       "EXTSEL992                      73.399639\n",
       "KK_KUNDENTYP                   65.596749\n",
       "ALTERSKATEGORIE_FEIN           29.504130\n",
       "D19_LETZTER_KAUF_BRANCHE       28.849522\n",
       "D19_LOTTO                      28.849522\n",
       "D19_VERSI_ONLINE_QUOTE_12      28.849522\n",
       "D19_BANKEN_ONLINE_QUOTE_12     28.849522\n",
       "D19_SOZIALES                   28.849522\n",
       "D19_GESAMT_ONLINE_QUOTE_12     28.849522\n",
       "D19_KONSUMTYP                  28.849522\n",
       "D19_TELKO_ONLINE_QUOTE_12      28.849522\n",
       "D19_VERSAND_ONLINE_QUOTE_12    28.849522\n",
       "KBA05_MOTOR                    14.959701\n",
       "KBA05_MOD8                     14.959701\n",
       "KBA05_MOD4                     14.959701\n",
       "KBA05_MOD3                     14.959701\n",
       "dtype: float64"
      ]
     },
     "execution_count": 20,
     "metadata": {},
     "output_type": "execute_result"
    }
   ],
   "source": [
    "azdias_null_count.sort_values(ascending=False)[0:20]\n"
   ]
  },
  {
   "cell_type": "code",
   "execution_count": 21,
   "metadata": {},
   "outputs": [
    {
     "data": {
      "text/plain": [
       "count    366.000000\n",
       "mean      10.176984\n",
       "std       12.199039\n",
       "min        0.000000\n",
       "25%        0.000000\n",
       "50%       11.871354\n",
       "75%       12.023000\n",
       "max       99.864792\n",
       "dtype: float64"
      ]
     },
     "execution_count": 21,
     "metadata": {},
     "output_type": "execute_result"
    }
   ],
   "source": [
    "azdias_null_count.describe()"
   ]
  },
  {
   "cell_type": "code",
   "execution_count": 22,
   "metadata": {},
   "outputs": [
    {
     "name": "stdout",
     "output_type": "stream",
     "text": [
      "4 columns having missing values > 90% of 366 total columns\n",
      "6 columns having missing values > 50% of 366 total columns\n",
      "6 columns having missing values > 30% of 366 total columns\n",
      "16 columns having missing values > 25% of 366 total columns\n"
     ]
    }
   ],
   "source": [
    "print('{} columns having missing values > 90% of {} total columns'.format(len(azdias.columns[azdias_null_count/100 > .90]),len(azdias.columns)))\n",
    "print('{} columns having missing values > 50% of {} total columns'.format(len(azdias.columns[azdias_null_count/100 > .50]),len(azdias.columns)))\n",
    "print('{} columns having missing values > 30% of {} total columns'.format(len(azdias.columns[azdias_null_count/100 > .30]),len(azdias.columns)))\n",
    "print('{} columns having missing values > 25% of {} total columns'.format(len(azdias.columns[azdias_null_count/100 > .25]),len(azdias.columns)))\n"
   ]
  },
  {
   "cell_type": "code",
   "execution_count": 23,
   "metadata": {},
   "outputs": [
    {
     "data": {
      "text/plain": [
       "['ALTER_KIND1',\n",
       " 'ALTER_KIND2',\n",
       " 'ALTER_KIND3',\n",
       " 'ALTER_KIND4',\n",
       " 'EXTSEL992',\n",
       " 'KK_KUNDENTYP']"
      ]
     },
     "execution_count": 23,
     "metadata": {},
     "output_type": "execute_result"
    }
   ],
   "source": [
    "drop_columns_list=azdias.columns[(azdias_null_count/100) > .30]\n",
    "drop_columns_list=list(drop_columns_list)\n",
    "drop_columns_list"
   ]
  },
  {
   "cell_type": "code",
   "execution_count": 24,
   "metadata": {},
   "outputs": [
    {
     "data": {
      "text/plain": [
       "count    891221.000000\n",
       "mean         37.247760\n",
       "std          74.405408\n",
       "min           0.000000\n",
       "25%           5.000000\n",
       "50%           6.000000\n",
       "75%          16.000000\n",
       "max         256.000000\n",
       "dtype: float64"
      ]
     },
     "execution_count": 24,
     "metadata": {},
     "output_type": "execute_result"
    }
   ],
   "source": [
    "#for rows\n",
    "azdias_row_null_count=azdias.isnull().sum(axis=1)\n",
    "azdias_row_null_count.describe()"
   ]
  },
  {
   "cell_type": "code",
   "execution_count": 25,
   "metadata": {},
   "outputs": [
    {
     "name": "stdout",
     "output_type": "stream",
     "text": [
      "percent of data have 10 missing columns or less = 64\n",
      "percent of data have 11 missing columns or less = 64\n",
      "percent of data have 12 missing columns or less = 65\n",
      "percent of data have 13 missing columns or less = 65\n",
      "percent of data have 14 missing columns or less = 65\n",
      "percent of data have 15 missing columns or less = 73\n",
      "percent of data have 16 missing columns or less = 82\n",
      "percent of data have 17 missing columns or less = 83\n",
      "percent of data have 18 missing columns or less = 83\n",
      "percent of data have 19 missing columns or less = 84\n",
      "percent of data have 20 missing columns or less = 84\n",
      "percent of data have 21 missing columns or less = 84\n",
      "percent of data have 22 missing columns or less = 84\n",
      "percent of data have 23 missing columns or less = 84\n",
      "percent of data have 24 missing columns or less = 84\n"
     ]
    }
   ],
   "source": [
    "#from the previouse stats we conclude that about 75% of data have 16 mising values or less\n",
    "#so we test for the percent of data containing around this number as a threshold\n",
    "for i in range(10,25):\n",
    "    print('percent of data have {} missing columns or less = {}'.format(i,round(sum(azdias_row_null_count <=i)*100/len(azdias))))"
   ]
  },
  {
   "cell_type": "code",
   "execution_count": 26,
   "metadata": {},
   "outputs": [
    {
     "data": {
      "text/plain": [
       "count    191652.000000\n",
       "mean         71.552804\n",
       "std         106.299784\n",
       "min           0.000000\n",
       "25%           4.000000\n",
       "50%           5.000000\n",
       "75%         222.000000\n",
       "max         256.000000\n",
       "dtype: float64"
      ]
     },
     "execution_count": 26,
     "metadata": {},
     "output_type": "execute_result"
    }
   ],
   "source": [
    "customers_row_null_count=customers.isnull().sum(axis=1)\n",
    "customers_row_null_count.describe()"
   ]
  },
  {
   "cell_type": "code",
   "execution_count": 27,
   "metadata": {},
   "outputs": [
    {
     "name": "stdout",
     "output_type": "stream",
     "text": [
      "percent of data have 10 missing columns or less = 68\n",
      "percent of data have 11 missing columns or less = 68\n",
      "percent of data have 12 missing columns or less = 68\n",
      "percent of data have 13 missing columns or less = 68\n",
      "percent of data have 14 missing columns or less = 68\n",
      "percent of data have 15 missing columns or less = 69\n",
      "percent of data have 16 missing columns or less = 69\n",
      "percent of data have 17 missing columns or less = 69\n",
      "percent of data have 18 missing columns or less = 69\n",
      "percent of data have 19 missing columns or less = 69\n",
      "percent of data have 20 missing columns or less = 69\n",
      "percent of data have 21 missing columns or less = 69\n",
      "percent of data have 22 missing columns or less = 69\n",
      "percent of data have 23 missing columns or less = 69\n",
      "percent of data have 24 missing columns or less = 69\n"
     ]
    }
   ],
   "source": [
    "for i in range(10,25):\n",
    "    print('percent of data have {} missing columns or less = {}'.format(i,round(sum(customers_row_null_count <=i)*100/len(customers))))"
   ]
  },
  {
   "cell_type": "code",
   "execution_count": 9,
   "metadata": {
    "scrolled": true
   },
   "outputs": [
    {
     "name": "stdout",
     "output_type": "stream",
     "text": [
      "columns to drop :  ['ALTER_KIND1', 'ALTER_KIND2', 'ALTER_KIND3', 'ALTER_KIND4', 'EXTSEL992', 'KK_KUNDENTYP']\n"
     ]
    },
    {
     "data": {
      "text/plain": [
       "(733327, 357)"
      ]
     },
     "execution_count": 9,
     "metadata": {},
     "output_type": "execute_result"
    }
   ],
   "source": [
    "azdias=Cleaning_dataframe(azdias,azdias=True,cust=False)\n",
    "azdias.shape"
   ]
  },
  {
   "cell_type": "code",
   "execution_count": 10,
   "metadata": {},
   "outputs": [
    {
     "name": "stdout",
     "output_type": "stream",
     "text": [
      "columns to drop :  ['ALTER_KIND1', 'ALTER_KIND2', 'ALTER_KIND3', 'ALTER_KIND4', 'EXTSEL992', 'KK_KUNDENTYP']\n"
     ]
    },
    {
     "data": {
      "text/plain": [
       "(191652, 357)"
      ]
     },
     "execution_count": 10,
     "metadata": {},
     "output_type": "execute_result"
    }
   ],
   "source": [
    "customers=Cleaning_dataframe(customers,azdias=False,cust=True)\n",
    "customers.shape"
   ]
  },
  {
   "cell_type": "code",
   "execution_count": 11,
   "metadata": {},
   "outputs": [],
   "source": [
    "azdias=azdias.drop('LNR',axis=1)\n",
    "customers=customers.drop('LNR',axis=1)"
   ]
  },
  {
   "cell_type": "code",
   "execution_count": 50,
   "metadata": {},
   "outputs": [
    {
     "data": {
      "text/plain": [
       "(733327, 356)"
      ]
     },
     "execution_count": 50,
     "metadata": {},
     "output_type": "execute_result"
    }
   ],
   "source": [
    "azdias.shape"
   ]
  },
  {
   "cell_type": "code",
   "execution_count": 51,
   "metadata": {},
   "outputs": [
    {
     "data": {
      "text/plain": [
       "Index([], dtype='object')"
      ]
     },
     "execution_count": 51,
     "metadata": {},
     "output_type": "execute_result"
    }
   ],
   "source": [
    "obj_cols=azdias.select_dtypes('object').columns\n",
    "obj_cols"
   ]
  },
  {
   "cell_type": "code",
   "execution_count": 52,
   "metadata": {},
   "outputs": [
    {
     "data": {
      "text/plain": [
       "(733327, 356)"
      ]
     },
     "execution_count": 52,
     "metadata": {},
     "output_type": "execute_result"
    }
   ],
   "source": [
    "azdias.shape"
   ]
  },
  {
   "cell_type": "code",
   "execution_count": 12,
   "metadata": {},
   "outputs": [],
   "source": [
    "azdias=azdias.astype(float)\n",
    "customers=customers.astype(float)"
   ]
  },
  {
   "cell_type": "code",
   "execution_count": 13,
   "metadata": {},
   "outputs": [
    {
     "name": "stdout",
     "output_type": "stream",
     "text": [
      "imputed azdias:     AGER_TYP  AKT_DAT_KL  ALTER_HH  ALTERSKATEGORIE_FEIN  ANZ_HAUSHALTE_AKTIV  \\\n",
      "0      -1.0         9.0       0.0                  21.0                 11.0   \n",
      "1      -1.0         9.0      17.0                  17.0                 10.0   \n",
      "2       2.0         1.0      13.0                  13.0                  1.0   \n",
      "3      -1.0         1.0      20.0                  14.0                  3.0   \n",
      "4       3.0         1.0      10.0                  10.0                  5.0   \n",
      "\n",
      "   ANZ_HH_TITEL  ANZ_KINDER  ANZ_PERSONEN  ANZ_STATISTISCHE_HAUSHALTE  \\\n",
      "0           0.0         0.0           2.0                        12.0   \n",
      "1           0.0         0.0           1.0                         7.0   \n",
      "2           0.0         0.0           0.0                         2.0   \n",
      "3           0.0         0.0           4.0                         3.0   \n",
      "4           0.0         0.0           1.0                         2.0   \n",
      "\n",
      "   ANZ_TITEL          ...           VHN  VK_DHT4A  VK_DISTANZ  VK_ZG11  \\\n",
      "0        0.0          ...           4.0       8.0        11.0     10.0   \n",
      "1        0.0          ...           2.0       9.0         9.0      6.0   \n",
      "2        0.0          ...           0.0       7.0        10.0     11.0   \n",
      "3        0.0          ...           2.0       3.0         5.0      4.0   \n",
      "4        0.0          ...           2.0      10.0         7.0      4.0   \n",
      "\n",
      "   W_KEIT_KIND_HH  WOHNDAUER_2008  WOHNLAGE  ZABEOTYP  ANREDE_KZ  \\\n",
      "0             3.0             9.0       4.0       5.0        2.0   \n",
      "1             3.0             9.0       2.0       5.0        2.0   \n",
      "2             6.0             9.0       7.0       3.0        2.0   \n",
      "3             2.0             9.0       3.0       4.0        1.0   \n",
      "4             6.0             9.0       7.0       4.0        2.0   \n",
      "\n",
      "   ALTERSKATEGORIE_GROB  \n",
      "0                   1.0  \n",
      "1                   3.0  \n",
      "2                   4.0  \n",
      "3                   3.0  \n",
      "4                   1.0  \n",
      "\n",
      "[5 rows x 356 columns]\n",
      "imputed customers:     AGER_TYP  AKT_DAT_KL  ALTER_HH  ALTERSKATEGORIE_FEIN  ANZ_HAUSHALTE_AKTIV  \\\n",
      "0       2.0         1.0      10.0                  10.0                  1.0   \n",
      "1      -1.0         9.0      11.0                  10.0                  1.0   \n",
      "2      -1.0         1.0       6.0                   0.0                  1.0   \n",
      "3       1.0         1.0       8.0                   8.0                  0.0   \n",
      "4      -1.0         1.0      20.0                  14.0                  7.0   \n",
      "\n",
      "   ANZ_HH_TITEL  ANZ_KINDER  ANZ_PERSONEN  ANZ_STATISTISCHE_HAUSHALTE  \\\n",
      "0           0.0         0.0           2.0                         1.0   \n",
      "1           0.0         0.0           3.0                         1.0   \n",
      "2           0.0         0.0           1.0                         1.0   \n",
      "3           0.0         0.0           0.0                         1.0   \n",
      "4           0.0         0.0           4.0                         7.0   \n",
      "\n",
      "   ANZ_TITEL          ...           VHN  VK_DHT4A  VK_DISTANZ  VK_ZG11  \\\n",
      "0        0.0          ...           3.0       5.0         3.0      2.0   \n",
      "1        0.0          ...           2.0       6.0         6.0      3.0   \n",
      "2        0.0          ...           4.0      10.0        13.0     11.0   \n",
      "3        0.0          ...           2.0       6.0         4.0      2.0   \n",
      "4        0.0          ...           4.0       3.0         5.0      4.0   \n",
      "\n",
      "   W_KEIT_KIND_HH  WOHNDAUER_2008  WOHNLAGE  ZABEOTYP  ANREDE_KZ  \\\n",
      "0             6.0             9.0       7.0       3.0        1.0   \n",
      "1             0.0             9.0       3.0       3.0        1.0   \n",
      "2             6.0             9.0       2.0       3.0        2.0   \n",
      "3             6.0             9.0       7.0       1.0        1.0   \n",
      "4             2.0             9.0       3.0       1.0        1.0   \n",
      "\n",
      "   ALTERSKATEGORIE_GROB  \n",
      "0                   4.0  \n",
      "1                   4.0  \n",
      "2                   4.0  \n",
      "3                   4.0  \n",
      "4                   3.0  \n",
      "\n",
      "[5 rows x 356 columns]\n"
     ]
    }
   ],
   "source": [
    "imputer = Imputer(strategy='most_frequent')\n",
    "azdias_col=list(azdias.columns.values)\n",
    "azdias = imputer.fit_transform(azdias)\n",
    "azdias = pd.DataFrame(azdias,columns=azdias_col)\n",
    "print('imputed azdias: ', azdias.head(5))\n",
    "\n",
    "customers_col=list(customers.columns.values)\n",
    "customers = imputer.fit_transform(customers)\n",
    "customers = pd.DataFrame(customers,columns=customers_col)\n",
    "print('imputed customers: ', customers.head(5))"
   ]
  },
  {
   "cell_type": "code",
   "execution_count": 14,
   "metadata": {},
   "outputs": [
    {
     "name": "stdout",
     "output_type": "stream",
     "text": [
      "azdias high correlated columns to drop : \n",
      " ['ANZ_STATISTISCHE_HAUSHALTE', 'CAMEO_INTL_2015', 'D19_GESAMT_ANZ_24', 'D19_KONSUMTYP_MAX', 'D19_VERSAND_ANZ_12', 'D19_VERSAND_ANZ_24', 'D19_VERSAND_DATUM', 'D19_VERSAND_ONLINE_DATUM', 'D19_VERSAND_ONLINE_QUOTE_12', 'KBA05_KRSHERST3', 'KBA13_HALTER_66', 'KBA13_HERST_SONST', 'KBA13_KMH_250', 'LP_FAMILIE_GROB', 'LP_LEBENSPHASE_FEIN', 'LP_LEBENSPHASE_GROB', 'LP_STATUS_GROB', 'ORTSGR_KLS9', 'PLZ8_ANTG1', 'PLZ8_ANTG3', 'PLZ8_BAUMAX', 'PLZ8_GBZ', 'PLZ8_HHZ']\n",
      "customers high correlated columns to drop : \n",
      " ['ANZ_STATISTISCHE_HAUSHALTE', 'CAMEO_INTL_2015', 'CJT_TYP_2', 'D19_GESAMT_ANZ_24', 'D19_VERSAND_ANZ_12', 'D19_VERSAND_ANZ_24', 'D19_VERSAND_ONLINE_DATUM', 'D19_VERSAND_ONLINE_QUOTE_12', 'FINANZ_SPARER', 'FINANZ_VORSORGER', 'KBA13_HALTER_66', 'KBA13_HERST_SONST', 'KBA13_KMH_250', 'LP_FAMILIE_GROB', 'LP_LEBENSPHASE_FEIN', 'LP_LEBENSPHASE_GROB', 'LP_STATUS_GROB', 'ORTSGR_KLS9', 'PLZ8_BAUMAX', 'PLZ8_GBZ', 'PLZ8_HHZ', 'VK_ZG11']\n"
     ]
    }
   ],
   "source": [
    "#there is a way to get columns in dataframe of a correlation higher than a specific threshold\n",
    "#according to https://chrisalbon.com/machine_learning/feature_selection/drop_highly_correlated_features/\n",
    "\n",
    "#for azdias dataframe\n",
    "corr_matrix = azdias.corr().abs()\n",
    "upper = corr_matrix.where(np.triu(np.ones(corr_matrix.shape), k=1).astype(np.bool))\n",
    "to_drop = [column for column in upper.columns if any(upper[column] > 0.9)]\n",
    "print('azdias high correlated columns to drop : \\n',to_drop)\n",
    "azdias=azdias.drop(to_drop,axis=1)\n",
    "\n",
    "#for customers dataframe\n",
    "corr_matrix = customers.corr().abs()\n",
    "upper = corr_matrix.where(np.triu(np.ones(corr_matrix.shape), k=1).astype(np.bool))\n",
    "to_drop = [column for column in upper.columns if any(upper[column] > 0.9)]\n",
    "print('customers high correlated columns to drop : \\n',to_drop)\n",
    "customers=customers.drop(to_drop,axis=1)"
   ]
  },
  {
   "cell_type": "code",
   "execution_count": 56,
   "metadata": {},
   "outputs": [
    {
     "name": "stdout",
     "output_type": "stream",
     "text": [
      "(733327, 333)\n",
      "(191652, 334)\n"
     ]
    }
   ],
   "source": [
    "print(azdias.shape)\n",
    "print(customers.shape)"
   ]
  },
  {
   "cell_type": "code",
   "execution_count": 15,
   "metadata": {},
   "outputs": [],
   "source": [
    "#normalize data\n",
    "scaler=StandardScaler()\n",
    "azdias_col=list(azdias.columns.values)\n",
    "azdias=pd.DataFrame(scaler.fit_transform(azdias))\n",
    "azdias.columns=azdias_col\n",
    "customers_col=list(customers.columns.values)\n",
    "customers=pd.DataFrame(scaler.fit_transform(customers))\n",
    "customers.columns=customers_col"
   ]
  },
  {
   "cell_type": "code",
   "execution_count": 16,
   "metadata": {},
   "outputs": [
    {
     "data": {
      "text/html": [
       "<div>\n",
       "<style scoped>\n",
       "    .dataframe tbody tr th:only-of-type {\n",
       "        vertical-align: middle;\n",
       "    }\n",
       "\n",
       "    .dataframe tbody tr th {\n",
       "        vertical-align: top;\n",
       "    }\n",
       "\n",
       "    .dataframe thead th {\n",
       "        text-align: right;\n",
       "    }\n",
       "</style>\n",
       "<table border=\"1\" class=\"dataframe\">\n",
       "  <thead>\n",
       "    <tr style=\"text-align: right;\">\n",
       "      <th></th>\n",
       "      <th>AGER_TYP</th>\n",
       "      <th>AKT_DAT_KL</th>\n",
       "      <th>ALTER_HH</th>\n",
       "      <th>ALTERSKATEGORIE_FEIN</th>\n",
       "      <th>ANZ_HAUSHALTE_AKTIV</th>\n",
       "      <th>ANZ_HH_TITEL</th>\n",
       "      <th>ANZ_KINDER</th>\n",
       "      <th>ANZ_PERSONEN</th>\n",
       "      <th>ANZ_TITEL</th>\n",
       "      <th>ARBEIT</th>\n",
       "      <th>...</th>\n",
       "      <th>VHN</th>\n",
       "      <th>VK_DHT4A</th>\n",
       "      <th>VK_DISTANZ</th>\n",
       "      <th>VK_ZG11</th>\n",
       "      <th>W_KEIT_KIND_HH</th>\n",
       "      <th>WOHNDAUER_2008</th>\n",
       "      <th>WOHNLAGE</th>\n",
       "      <th>ZABEOTYP</th>\n",
       "      <th>ANREDE_KZ</th>\n",
       "      <th>ALTERSKATEGORIE_GROB</th>\n",
       "    </tr>\n",
       "  </thead>\n",
       "  <tbody>\n",
       "    <tr>\n",
       "      <th>0</th>\n",
       "      <td>-0.575673</td>\n",
       "      <td>1.243365</td>\n",
       "      <td>-1.431126</td>\n",
       "      <td>1.564774</td>\n",
       "      <td>0.160606</td>\n",
       "      <td>-0.128444</td>\n",
       "      <td>-0.298712</td>\n",
       "      <td>0.214938</td>\n",
       "      <td>-0.060847</td>\n",
       "      <td>-0.188551</td>\n",
       "      <td>...</td>\n",
       "      <td>1.366865</td>\n",
       "      <td>0.700026</td>\n",
       "      <td>1.070745</td>\n",
       "      <td>1.467448</td>\n",
       "      <td>-0.589593</td>\n",
       "      <td>0.547723</td>\n",
       "      <td>-0.027030</td>\n",
       "      <td>1.143452</td>\n",
       "      <td>0.957221</td>\n",
       "      <td>-1.684440</td>\n",
       "    </tr>\n",
       "    <tr>\n",
       "      <th>1</th>\n",
       "      <td>-0.575673</td>\n",
       "      <td>1.243365</td>\n",
       "      <td>0.802134</td>\n",
       "      <td>0.675967</td>\n",
       "      <td>0.096492</td>\n",
       "      <td>-0.128444</td>\n",
       "      <td>-0.298712</td>\n",
       "      <td>-0.651211</td>\n",
       "      <td>-0.060847</td>\n",
       "      <td>-0.188551</td>\n",
       "      <td>...</td>\n",
       "      <td>-0.359507</td>\n",
       "      <td>1.050263</td>\n",
       "      <td>0.456879</td>\n",
       "      <td>0.032818</td>\n",
       "      <td>-0.589593</td>\n",
       "      <td>0.547723</td>\n",
       "      <td>-1.084218</td>\n",
       "      <td>1.143452</td>\n",
       "      <td>0.957221</td>\n",
       "      <td>0.164738</td>\n",
       "    </tr>\n",
       "    <tr>\n",
       "      <th>2</th>\n",
       "      <td>1.849078</td>\n",
       "      <td>-0.948717</td>\n",
       "      <td>0.276661</td>\n",
       "      <td>-0.212840</td>\n",
       "      <td>-0.480541</td>\n",
       "      <td>-0.128444</td>\n",
       "      <td>-0.298712</td>\n",
       "      <td>-1.517360</td>\n",
       "      <td>-0.060847</td>\n",
       "      <td>-1.193644</td>\n",
       "      <td>...</td>\n",
       "      <td>-2.085878</td>\n",
       "      <td>0.349790</td>\n",
       "      <td>0.763812</td>\n",
       "      <td>1.826106</td>\n",
       "      <td>0.994053</td>\n",
       "      <td>0.547723</td>\n",
       "      <td>1.558753</td>\n",
       "      <td>-0.281033</td>\n",
       "      <td>0.957221</td>\n",
       "      <td>1.089327</td>\n",
       "    </tr>\n",
       "    <tr>\n",
       "      <th>3</th>\n",
       "      <td>-0.575673</td>\n",
       "      <td>-0.948717</td>\n",
       "      <td>1.196238</td>\n",
       "      <td>0.009362</td>\n",
       "      <td>-0.352312</td>\n",
       "      <td>-0.128444</td>\n",
       "      <td>-0.298712</td>\n",
       "      <td>1.947237</td>\n",
       "      <td>-0.060847</td>\n",
       "      <td>0.816542</td>\n",
       "      <td>...</td>\n",
       "      <td>-0.359507</td>\n",
       "      <td>-1.051157</td>\n",
       "      <td>-0.770854</td>\n",
       "      <td>-0.684497</td>\n",
       "      <td>-1.117475</td>\n",
       "      <td>0.547723</td>\n",
       "      <td>-0.555624</td>\n",
       "      <td>0.431210</td>\n",
       "      <td>-1.044690</td>\n",
       "      <td>0.164738</td>\n",
       "    </tr>\n",
       "    <tr>\n",
       "      <th>4</th>\n",
       "      <td>2.657328</td>\n",
       "      <td>-0.948717</td>\n",
       "      <td>-0.117444</td>\n",
       "      <td>-0.879445</td>\n",
       "      <td>-0.224082</td>\n",
       "      <td>-0.128444</td>\n",
       "      <td>-0.298712</td>\n",
       "      <td>-0.651211</td>\n",
       "      <td>-0.060847</td>\n",
       "      <td>-1.193644</td>\n",
       "      <td>...</td>\n",
       "      <td>-0.359507</td>\n",
       "      <td>1.400500</td>\n",
       "      <td>-0.156988</td>\n",
       "      <td>-0.684497</td>\n",
       "      <td>0.994053</td>\n",
       "      <td>0.547723</td>\n",
       "      <td>1.558753</td>\n",
       "      <td>0.431210</td>\n",
       "      <td>0.957221</td>\n",
       "      <td>-1.684440</td>\n",
       "    </tr>\n",
       "  </tbody>\n",
       "</table>\n",
       "<p>5 rows × 333 columns</p>\n",
       "</div>"
      ],
      "text/plain": [
       "   AGER_TYP  AKT_DAT_KL  ALTER_HH  ALTERSKATEGORIE_FEIN  ANZ_HAUSHALTE_AKTIV  \\\n",
       "0 -0.575673    1.243365 -1.431126              1.564774             0.160606   \n",
       "1 -0.575673    1.243365  0.802134              0.675967             0.096492   \n",
       "2  1.849078   -0.948717  0.276661             -0.212840            -0.480541   \n",
       "3 -0.575673   -0.948717  1.196238              0.009362            -0.352312   \n",
       "4  2.657328   -0.948717 -0.117444             -0.879445            -0.224082   \n",
       "\n",
       "   ANZ_HH_TITEL  ANZ_KINDER  ANZ_PERSONEN  ANZ_TITEL    ARBEIT  \\\n",
       "0     -0.128444   -0.298712      0.214938  -0.060847 -0.188551   \n",
       "1     -0.128444   -0.298712     -0.651211  -0.060847 -0.188551   \n",
       "2     -0.128444   -0.298712     -1.517360  -0.060847 -1.193644   \n",
       "3     -0.128444   -0.298712      1.947237  -0.060847  0.816542   \n",
       "4     -0.128444   -0.298712     -0.651211  -0.060847 -1.193644   \n",
       "\n",
       "           ...                VHN  VK_DHT4A  VK_DISTANZ   VK_ZG11  \\\n",
       "0          ...           1.366865  0.700026    1.070745  1.467448   \n",
       "1          ...          -0.359507  1.050263    0.456879  0.032818   \n",
       "2          ...          -2.085878  0.349790    0.763812  1.826106   \n",
       "3          ...          -0.359507 -1.051157   -0.770854 -0.684497   \n",
       "4          ...          -0.359507  1.400500   -0.156988 -0.684497   \n",
       "\n",
       "   W_KEIT_KIND_HH  WOHNDAUER_2008  WOHNLAGE  ZABEOTYP  ANREDE_KZ  \\\n",
       "0       -0.589593        0.547723 -0.027030  1.143452   0.957221   \n",
       "1       -0.589593        0.547723 -1.084218  1.143452   0.957221   \n",
       "2        0.994053        0.547723  1.558753 -0.281033   0.957221   \n",
       "3       -1.117475        0.547723 -0.555624  0.431210  -1.044690   \n",
       "4        0.994053        0.547723  1.558753  0.431210   0.957221   \n",
       "\n",
       "   ALTERSKATEGORIE_GROB  \n",
       "0             -1.684440  \n",
       "1              0.164738  \n",
       "2              1.089327  \n",
       "3              0.164738  \n",
       "4             -1.684440  \n",
       "\n",
       "[5 rows x 333 columns]"
      ]
     },
     "execution_count": 16,
     "metadata": {},
     "output_type": "execute_result"
    }
   ],
   "source": [
    "azdias.head()"
   ]
  },
  {
   "cell_type": "markdown",
   "metadata": {},
   "source": [
    "## Part 1: Customer Segmentation Report\n",
    "\n",
    "The main bulk of your analysis will come in this part of the project. Here, you should use unsupervised learning techniques to describe the relationship between the demographics of the company's existing customers and the general population of Germany. By the end of this part, you should be able to describe parts of the general population that are more likely to be part of the mail-order company's main customer base, and which parts of the general population are less so."
   ]
  },
  {
   "cell_type": "code",
   "execution_count": 59,
   "metadata": {},
   "outputs": [
    {
     "data": {
      "image/png": "[encoded data removed]",
      "text/plain": [
       "<matplotlib.figure.Figure at 0x7f3e870540b8>"
      ]
     },
     "metadata": {
      "needs_background": "light"
     },
     "output_type": "display_data"
    }
   ],
   "source": [
    "pca = PCA().fit(azdias)\n",
    "plt.rcParams[\"figure.figsize\"] = (20,10)\n",
    "\n",
    "fig, ax = plt.subplots()\n",
    "\n",
    "y = np.cumsum(pca.explained_variance_ratio_)\n",
    "\n",
    "plt.ylim(0.0,1.1)\n",
    "plt.plot(y, marker='o', linestyle='--', color='b')\n",
    "\n",
    "plt.xlabel('Number of Components')\n",
    "plt.ylabel('Cumulative variance (%)')\n",
    "plt.title('The number of components needed to explain variance')\n",
    "\n",
    "plt.axhline(y=0.95, color='r', linestyle='-')\n",
    "plt.text(0.5, 0.85, '95% cut-off threshold', color = 'red', fontsize=16)\n",
    "\n",
    "ax.grid(axis='x')\n",
    "plt.show()"
   ]
  },
  {
   "cell_type": "code",
   "execution_count": 65,
   "metadata": {},
   "outputs": [],
   "source": [
    "def reduce_data(df,comp_number=230):\n",
    "    pca = PCA(n_components=comp_number).fit(df)\n",
    "    reduced_data = pca.transform(df)\n",
    "    with open('pca.pkl', 'wb') as pickle_file:\n",
    "        pickle.dump(pca, pickle_file)\n",
    "    reduced_data = pd.DataFrame(reduced_data)\n",
    "    print(pca.explained_variance_ratio_.sum())\n",
    "    return pca,reduced_data"
   ]
  },
  {
   "cell_type": "code",
   "execution_count": 68,
   "metadata": {},
   "outputs": [
    {
     "name": "stdout",
     "output_type": "stream",
     "text": [
      "0.958344163003\n",
      "0.959930496986\n"
     ]
    }
   ],
   "source": [
    "_,reduced_customers = reduce_data(customers)\n",
    "pca_model,reduced_azdias = reduce_data(azdias)"
   ]
  },
  {
   "cell_type": "code",
   "execution_count": 94,
   "metadata": {},
   "outputs": [
    {
     "name": "stdout",
     "output_type": "stream",
     "text": [
      "(733327, 230)\n",
      "(191652, 230)\n"
     ]
    }
   ],
   "source": [
    "print(reduced_azdias.shape)\n",
    "print(reduced_customers.shape)"
   ]
  },
  {
   "cell_type": "code",
   "execution_count": 5,
   "metadata": {},
   "outputs": [],
   "source": [
    "with open('pca.pkl', 'rb') as pickle_file:\n",
    "    pca_model = pickle.load(pickle_file)"
   ]
  },
  {
   "cell_type": "code",
   "execution_count": 70,
   "metadata": {},
   "outputs": [],
   "source": [
    "reduced_azdias.to_pickle('pca_azdias.pickle')\n",
    "reduced_customers.to_pickle('pca_customers.pickle')"
   ]
  },
  {
   "cell_type": "code",
   "execution_count": 6,
   "metadata": {},
   "outputs": [],
   "source": [
    "pca_azdias = pd.read_pickle('pca_azdias.pickle')\n",
    "pca_customers = pd.read_pickle('pca_customers.pickle')"
   ]
  },
  {
   "cell_type": "code",
   "execution_count": 7,
   "metadata": {},
   "outputs": [
    {
     "data": {
      "text/html": [
       "<div>\n",
       "<style scoped>\n",
       "    .dataframe tbody tr th:only-of-type {\n",
       "        vertical-align: middle;\n",
       "    }\n",
       "\n",
       "    .dataframe tbody tr th {\n",
       "        vertical-align: top;\n",
       "    }\n",
       "\n",
       "    .dataframe thead th {\n",
       "        text-align: right;\n",
       "    }\n",
       "</style>\n",
       "<table border=\"1\" class=\"dataframe\">\n",
       "  <thead>\n",
       "    <tr style=\"text-align: right;\">\n",
       "      <th></th>\n",
       "      <th>0</th>\n",
       "      <th>1</th>\n",
       "      <th>2</th>\n",
       "      <th>3</th>\n",
       "      <th>4</th>\n",
       "      <th>5</th>\n",
       "      <th>6</th>\n",
       "      <th>7</th>\n",
       "      <th>8</th>\n",
       "      <th>9</th>\n",
       "      <th>...</th>\n",
       "      <th>220</th>\n",
       "      <th>221</th>\n",
       "      <th>222</th>\n",
       "      <th>223</th>\n",
       "      <th>224</th>\n",
       "      <th>225</th>\n",
       "      <th>226</th>\n",
       "      <th>227</th>\n",
       "      <th>228</th>\n",
       "      <th>229</th>\n",
       "    </tr>\n",
       "  </thead>\n",
       "  <tbody>\n",
       "    <tr>\n",
       "      <th>0</th>\n",
       "      <td>-1.000023</td>\n",
       "      <td>-5.186488</td>\n",
       "      <td>4.300307</td>\n",
       "      <td>-4.386044</td>\n",
       "      <td>-4.340650</td>\n",
       "      <td>1.132570</td>\n",
       "      <td>-2.136208</td>\n",
       "      <td>3.107988</td>\n",
       "      <td>0.027291</td>\n",
       "      <td>0.181943</td>\n",
       "      <td>...</td>\n",
       "      <td>-0.438474</td>\n",
       "      <td>-0.664531</td>\n",
       "      <td>-0.405082</td>\n",
       "      <td>0.625657</td>\n",
       "      <td>-0.071827</td>\n",
       "      <td>0.306718</td>\n",
       "      <td>-0.350463</td>\n",
       "      <td>-0.688858</td>\n",
       "      <td>0.544537</td>\n",
       "      <td>0.460515</td>\n",
       "    </tr>\n",
       "    <tr>\n",
       "      <th>1</th>\n",
       "      <td>-0.496418</td>\n",
       "      <td>0.424785</td>\n",
       "      <td>0.536721</td>\n",
       "      <td>-3.453316</td>\n",
       "      <td>-2.985621</td>\n",
       "      <td>3.714294</td>\n",
       "      <td>-3.683109</td>\n",
       "      <td>-3.316805</td>\n",
       "      <td>0.215200</td>\n",
       "      <td>0.344947</td>\n",
       "      <td>...</td>\n",
       "      <td>0.477547</td>\n",
       "      <td>-0.353835</td>\n",
       "      <td>0.288281</td>\n",
       "      <td>0.046740</td>\n",
       "      <td>0.123005</td>\n",
       "      <td>-0.145642</td>\n",
       "      <td>0.294937</td>\n",
       "      <td>0.366288</td>\n",
       "      <td>-0.192402</td>\n",
       "      <td>-0.295661</td>\n",
       "    </tr>\n",
       "    <tr>\n",
       "      <th>2</th>\n",
       "      <td>1.078947</td>\n",
       "      <td>5.085777</td>\n",
       "      <td>-4.157769</td>\n",
       "      <td>-1.205890</td>\n",
       "      <td>-3.743275</td>\n",
       "      <td>-0.753332</td>\n",
       "      <td>-1.093128</td>\n",
       "      <td>0.515817</td>\n",
       "      <td>-3.660457</td>\n",
       "      <td>0.111902</td>\n",
       "      <td>...</td>\n",
       "      <td>-0.308408</td>\n",
       "      <td>0.074494</td>\n",
       "      <td>-0.218622</td>\n",
       "      <td>0.881065</td>\n",
       "      <td>0.621962</td>\n",
       "      <td>-0.055637</td>\n",
       "      <td>0.475238</td>\n",
       "      <td>-0.289431</td>\n",
       "      <td>0.128616</td>\n",
       "      <td>0.122836</td>\n",
       "    </tr>\n",
       "    <tr>\n",
       "      <th>3</th>\n",
       "      <td>-1.195386</td>\n",
       "      <td>3.906850</td>\n",
       "      <td>5.632391</td>\n",
       "      <td>-1.197152</td>\n",
       "      <td>8.038112</td>\n",
       "      <td>-3.155957</td>\n",
       "      <td>3.316901</td>\n",
       "      <td>-0.610400</td>\n",
       "      <td>-3.705033</td>\n",
       "      <td>6.422978</td>\n",
       "      <td>...</td>\n",
       "      <td>0.050410</td>\n",
       "      <td>0.664191</td>\n",
       "      <td>0.002912</td>\n",
       "      <td>0.245019</td>\n",
       "      <td>-0.506362</td>\n",
       "      <td>-0.168595</td>\n",
       "      <td>0.812315</td>\n",
       "      <td>-0.033713</td>\n",
       "      <td>0.859856</td>\n",
       "      <td>-0.293980</td>\n",
       "    </tr>\n",
       "    <tr>\n",
       "      <th>4</th>\n",
       "      <td>-0.148332</td>\n",
       "      <td>2.825582</td>\n",
       "      <td>-1.626631</td>\n",
       "      <td>-2.208079</td>\n",
       "      <td>-2.423628</td>\n",
       "      <td>1.145406</td>\n",
       "      <td>0.363662</td>\n",
       "      <td>1.235383</td>\n",
       "      <td>-0.737189</td>\n",
       "      <td>2.060835</td>\n",
       "      <td>...</td>\n",
       "      <td>-0.585778</td>\n",
       "      <td>-0.257875</td>\n",
       "      <td>0.387006</td>\n",
       "      <td>-0.744071</td>\n",
       "      <td>-0.311351</td>\n",
       "      <td>0.292031</td>\n",
       "      <td>0.560780</td>\n",
       "      <td>0.675339</td>\n",
       "      <td>-0.108376</td>\n",
       "      <td>0.351845</td>\n",
       "    </tr>\n",
       "  </tbody>\n",
       "</table>\n",
       "<p>5 rows × 230 columns</p>\n",
       "</div>"
      ],
      "text/plain": [
       "        0         1         2         3         4         5         6    \\\n",
       "0 -1.000023 -5.186488  4.300307 -4.386044 -4.340650  1.132570 -2.136208   \n",
       "1 -0.496418  0.424785  0.536721 -3.453316 -2.985621  3.714294 -3.683109   \n",
       "2  1.078947  5.085777 -4.157769 -1.205890 -3.743275 -0.753332 -1.093128   \n",
       "3 -1.195386  3.906850  5.632391 -1.197152  8.038112 -3.155957  3.316901   \n",
       "4 -0.148332  2.825582 -1.626631 -2.208079 -2.423628  1.145406  0.363662   \n",
       "\n",
       "        7         8         9      ...          220       221       222  \\\n",
       "0  3.107988  0.027291  0.181943    ...    -0.438474 -0.664531 -0.405082   \n",
       "1 -3.316805  0.215200  0.344947    ...     0.477547 -0.353835  0.288281   \n",
       "2  0.515817 -3.660457  0.111902    ...    -0.308408  0.074494 -0.218622   \n",
       "3 -0.610400 -3.705033  6.422978    ...     0.050410  0.664191  0.002912   \n",
       "4  1.235383 -0.737189  2.060835    ...    -0.585778 -0.257875  0.387006   \n",
       "\n",
       "        223       224       225       226       227       228       229  \n",
       "0  0.625657 -0.071827  0.306718 -0.350463 -0.688858  0.544537  0.460515  \n",
       "1  0.046740  0.123005 -0.145642  0.294937  0.366288 -0.192402 -0.295661  \n",
       "2  0.881065  0.621962 -0.055637  0.475238 -0.289431  0.128616  0.122836  \n",
       "3  0.245019 -0.506362 -0.168595  0.812315 -0.033713  0.859856 -0.293980  \n",
       "4 -0.744071 -0.311351  0.292031  0.560780  0.675339 -0.108376  0.351845  \n",
       "\n",
       "[5 rows x 230 columns]"
      ]
     },
     "execution_count": 7,
     "metadata": {},
     "output_type": "execute_result"
    }
   ],
   "source": [
    "pca_azdias.head(5)"
   ]
  },
  {
   "cell_type": "code",
   "execution_count": 7,
   "metadata": {},
   "outputs": [],
   "source": [
    "attributes_info = pd.read_excel('./DIAS Information Levels - Attributes 2017.xlsx', header=1)"
   ]
  },
  {
   "cell_type": "code",
   "execution_count": 59,
   "metadata": {},
   "outputs": [],
   "source": [
    "with open(\"preprocessed_azdias_cols.txt\", \"wb\") as fp:   #Pickling\n",
    "    pickle.dump(list(azdias.columns.values), fp)\n"
   ]
  },
  {
   "cell_type": "code",
   "execution_count": 8,
   "metadata": {},
   "outputs": [],
   "source": [
    "with open(\"preprocessed_azdias_cols.txt\", \"rb\") as fp:   # Unpickling\n",
    "    azdias_cols = pickle.load(fp)"
   ]
  },
  {
   "cell_type": "code",
   "execution_count": 11,
   "metadata": {},
   "outputs": [],
   "source": [
    "def component_stats(pca_model, component):\n",
    "\n",
    "    weights_array = pca_model.components_[component]\n",
    "    df_features = pd.DataFrame({'Features' : azdias_cols,'Weight' : weights_array})\n",
    "    df_features.sort_values(by='Weight',inplace=True, ascending=False)\n",
    "    \n",
    "    feature_names = []\n",
    "    feature_weights = []\n",
    "    feature_descriptions=[]\n",
    "\n",
    "    for feature,weight in df_features[:5].itertuples(index=False):\n",
    "        feature_names.append(feature)\n",
    "        feature_weights.append(weight)\n",
    "        \n",
    "    for feature, weight, in df_features[-5:].itertuples(index=False):\n",
    "        feature_names.append(feature)\n",
    "        feature_weights.append(weight)\n",
    "        \n",
    "    for feature in feature_names:\n",
    "        if feature in attributes_info.Attribute.values:\n",
    "            feature_descriptions.append(attributes_info[attributes_info.Attribute == feature].Description.values[0])\n",
    "        else:\n",
    "            feature_descriptions.append(\"unknown\")\n",
    "            \n",
    "    df_features1 = pd.DataFrame({'Features' : feature_names,'Weight' : feature_weights,'Descriptions' : feature_descriptions})\n",
    "           \n",
    "    return df_features1"
   ]
  },
  {
   "cell_type": "code",
   "execution_count": 12,
   "metadata": {},
   "outputs": [
    {
     "data": {
      "text/html": [
       "<div>\n",
       "<style scoped>\n",
       "    .dataframe tbody tr th:only-of-type {\n",
       "        vertical-align: middle;\n",
       "    }\n",
       "\n",
       "    .dataframe tbody tr th {\n",
       "        vertical-align: top;\n",
       "    }\n",
       "\n",
       "    .dataframe thead th {\n",
       "        text-align: right;\n",
       "    }\n",
       "</style>\n",
       "<table border=\"1\" class=\"dataframe\">\n",
       "  <thead>\n",
       "    <tr style=\"text-align: right;\">\n",
       "      <th></th>\n",
       "      <th>Features</th>\n",
       "      <th>Weight</th>\n",
       "      <th>Descriptions</th>\n",
       "    </tr>\n",
       "  </thead>\n",
       "  <tbody>\n",
       "    <tr>\n",
       "      <th>0</th>\n",
       "      <td>PRAEGENDE_JUGENDJAHRE</td>\n",
       "      <td>0.195279</td>\n",
       "      <td>dominating movement in the person's youth (ava...</td>\n",
       "    </tr>\n",
       "    <tr>\n",
       "      <th>1</th>\n",
       "      <td>CJT_TYP_1</td>\n",
       "      <td>0.188379</td>\n",
       "      <td>unknown</td>\n",
       "    </tr>\n",
       "    <tr>\n",
       "      <th>2</th>\n",
       "      <td>CJT_TYP_2</td>\n",
       "      <td>0.187733</td>\n",
       "      <td>unknown</td>\n",
       "    </tr>\n",
       "    <tr>\n",
       "      <th>3</th>\n",
       "      <td>FINANZ_SPARER</td>\n",
       "      <td>0.183417</td>\n",
       "      <td>financial typology: money saver</td>\n",
       "    </tr>\n",
       "    <tr>\n",
       "      <th>4</th>\n",
       "      <td>ONLINE_AFFINITAET</td>\n",
       "      <td>0.162259</td>\n",
       "      <td>online affinity</td>\n",
       "    </tr>\n",
       "    <tr>\n",
       "      <th>5</th>\n",
       "      <td>FINANZ_UNAUFFAELLIGER</td>\n",
       "      <td>0.161608</td>\n",
       "      <td>financial typology: unremarkable</td>\n",
       "    </tr>\n",
       "    <tr>\n",
       "      <th>6</th>\n",
       "      <td>ALTERSKATEGORIE_FEIN</td>\n",
       "      <td>0.156665</td>\n",
       "      <td>unknown</td>\n",
       "    </tr>\n",
       "    <tr>\n",
       "      <th>7</th>\n",
       "      <td>SEMIO_PFLICHT</td>\n",
       "      <td>0.155770</td>\n",
       "      <td>affinity indicating in what way the person is ...</td>\n",
       "    </tr>\n",
       "    <tr>\n",
       "      <th>8</th>\n",
       "      <td>SEMIO_TRADV</td>\n",
       "      <td>0.153463</td>\n",
       "      <td>affinity indicating in what way the person is ...</td>\n",
       "    </tr>\n",
       "    <tr>\n",
       "      <th>9</th>\n",
       "      <td>FINANZ_ANLEGER</td>\n",
       "      <td>0.149143</td>\n",
       "      <td>financial typology: investor</td>\n",
       "    </tr>\n",
       "    <tr>\n",
       "      <th>10</th>\n",
       "      <td>SEMIO_LUST</td>\n",
       "      <td>-0.121919</td>\n",
       "      <td>affinity indicating in what way the person is ...</td>\n",
       "    </tr>\n",
       "    <tr>\n",
       "      <th>11</th>\n",
       "      <td>RETOURTYP_BK_S</td>\n",
       "      <td>-0.123274</td>\n",
       "      <td>return type</td>\n",
       "    </tr>\n",
       "    <tr>\n",
       "      <th>12</th>\n",
       "      <td>CJT_KATALOGNUTZER</td>\n",
       "      <td>-0.145854</td>\n",
       "      <td>unknown</td>\n",
       "    </tr>\n",
       "    <tr>\n",
       "      <th>13</th>\n",
       "      <td>KOMBIALTER</td>\n",
       "      <td>-0.149062</td>\n",
       "      <td>unknown</td>\n",
       "    </tr>\n",
       "    <tr>\n",
       "      <th>14</th>\n",
       "      <td>CJT_TYP_6</td>\n",
       "      <td>-0.166588</td>\n",
       "      <td>unknown</td>\n",
       "    </tr>\n",
       "    <tr>\n",
       "      <th>15</th>\n",
       "      <td>ALTERSKATEGORIE_GROB</td>\n",
       "      <td>-0.167307</td>\n",
       "      <td>age through prename analysis</td>\n",
       "    </tr>\n",
       "    <tr>\n",
       "      <th>16</th>\n",
       "      <td>CJT_TYP_3</td>\n",
       "      <td>-0.170254</td>\n",
       "      <td>unknown</td>\n",
       "    </tr>\n",
       "    <tr>\n",
       "      <th>17</th>\n",
       "      <td>CJT_TYP_4</td>\n",
       "      <td>-0.173553</td>\n",
       "      <td>unknown</td>\n",
       "    </tr>\n",
       "    <tr>\n",
       "      <th>18</th>\n",
       "      <td>FINANZ_VORSORGER</td>\n",
       "      <td>-0.174465</td>\n",
       "      <td>financial typology: be prepared</td>\n",
       "    </tr>\n",
       "    <tr>\n",
       "      <th>19</th>\n",
       "      <td>CJT_TYP_5</td>\n",
       "      <td>-0.177167</td>\n",
       "      <td>unknown</td>\n",
       "    </tr>\n",
       "  </tbody>\n",
       "</table>\n",
       "</div>"
      ],
      "text/plain": [
       "                 Features    Weight  \\\n",
       "0   PRAEGENDE_JUGENDJAHRE  0.195279   \n",
       "1               CJT_TYP_1  0.188379   \n",
       "2               CJT_TYP_2  0.187733   \n",
       "3           FINANZ_SPARER  0.183417   \n",
       "4       ONLINE_AFFINITAET  0.162259   \n",
       "5   FINANZ_UNAUFFAELLIGER  0.161608   \n",
       "6    ALTERSKATEGORIE_FEIN  0.156665   \n",
       "7           SEMIO_PFLICHT  0.155770   \n",
       "8             SEMIO_TRADV  0.153463   \n",
       "9          FINANZ_ANLEGER  0.149143   \n",
       "10             SEMIO_LUST -0.121919   \n",
       "11         RETOURTYP_BK_S -0.123274   \n",
       "12      CJT_KATALOGNUTZER -0.145854   \n",
       "13             KOMBIALTER -0.149062   \n",
       "14              CJT_TYP_6 -0.166588   \n",
       "15   ALTERSKATEGORIE_GROB -0.167307   \n",
       "16              CJT_TYP_3 -0.170254   \n",
       "17              CJT_TYP_4 -0.173553   \n",
       "18       FINANZ_VORSORGER -0.174465   \n",
       "19              CJT_TYP_5 -0.177167   \n",
       "\n",
       "                                         Descriptions  \n",
       "0   dominating movement in the person's youth (ava...  \n",
       "1                                             unknown  \n",
       "2                                             unknown  \n",
       "3                     financial typology: money saver  \n",
       "4                                     online affinity  \n",
       "5                    financial typology: unremarkable  \n",
       "6                                             unknown  \n",
       "7   affinity indicating in what way the person is ...  \n",
       "8   affinity indicating in what way the person is ...  \n",
       "9                        financial typology: investor  \n",
       "10  affinity indicating in what way the person is ...  \n",
       "11                                        return type  \n",
       "12                                            unknown  \n",
       "13                                            unknown  \n",
       "14                                            unknown  \n",
       "15                      age through prename analysis   \n",
       "16                                            unknown  \n",
       "17                                            unknown  \n",
       "18                    financial typology: be prepared  \n",
       "19                                            unknown  "
      ]
     },
     "execution_count": 12,
     "metadata": {},
     "output_type": "execute_result"
    }
   ],
   "source": [
    "component_0 = component_stats(pca_model, 2)\n",
    "component_0"
   ]
  },
  {
   "cell_type": "code",
   "execution_count": 13,
   "metadata": {},
   "outputs": [
    {
     "data": {
      "text/html": [
       "<div>\n",
       "<style scoped>\n",
       "    .dataframe tbody tr th:only-of-type {\n",
       "        vertical-align: middle;\n",
       "    }\n",
       "\n",
       "    .dataframe tbody tr th {\n",
       "        vertical-align: top;\n",
       "    }\n",
       "\n",
       "    .dataframe thead th {\n",
       "        text-align: right;\n",
       "    }\n",
       "</style>\n",
       "<table border=\"1\" class=\"dataframe\">\n",
       "  <thead>\n",
       "    <tr style=\"text-align: right;\">\n",
       "      <th></th>\n",
       "      <th>Features</th>\n",
       "      <th>Weight</th>\n",
       "      <th>Descriptions</th>\n",
       "    </tr>\n",
       "  </thead>\n",
       "  <tbody>\n",
       "    <tr>\n",
       "      <th>0</th>\n",
       "      <td>KBA13_KMH_140_210</td>\n",
       "      <td>0.204518</td>\n",
       "      <td>share of cars with max speed between 140 and 2...</td>\n",
       "    </tr>\n",
       "    <tr>\n",
       "      <th>1</th>\n",
       "      <td>KBA13_CCM_1401_2500</td>\n",
       "      <td>0.176740</td>\n",
       "      <td>unknown</td>\n",
       "    </tr>\n",
       "    <tr>\n",
       "      <th>2</th>\n",
       "      <td>KBA13_ALTERHALTER_61</td>\n",
       "      <td>0.165377</td>\n",
       "      <td>share of car owners elder than 60 within the PLZ8</td>\n",
       "    </tr>\n",
       "    <tr>\n",
       "      <th>3</th>\n",
       "      <td>KBA13_HALTER_65</td>\n",
       "      <td>0.157145</td>\n",
       "      <td>share of car owners between 61 and 65 within t...</td>\n",
       "    </tr>\n",
       "    <tr>\n",
       "      <th>4</th>\n",
       "      <td>KBA13_SEG_VAN</td>\n",
       "      <td>0.149803</td>\n",
       "      <td>share of vans within the PLZ8</td>\n",
       "    </tr>\n",
       "    <tr>\n",
       "      <th>5</th>\n",
       "      <td>KBA13_SEG_GROSSRAUMVANS</td>\n",
       "      <td>0.141179</td>\n",
       "      <td>share of big sized vans within the PLZ8</td>\n",
       "    </tr>\n",
       "    <tr>\n",
       "      <th>6</th>\n",
       "      <td>KBA13_VORB_1_2</td>\n",
       "      <td>0.137708</td>\n",
       "      <td>share of cars with 1 or 2 preowner - PLZ8</td>\n",
       "    </tr>\n",
       "    <tr>\n",
       "      <th>7</th>\n",
       "      <td>KBA13_SEG_MINIVANS</td>\n",
       "      <td>0.130160</td>\n",
       "      <td>share of minivans within the PLZ8</td>\n",
       "    </tr>\n",
       "    <tr>\n",
       "      <th>8</th>\n",
       "      <td>KBA13_KRSHERST_FORD_OPEL</td>\n",
       "      <td>0.130085</td>\n",
       "      <td>share of FORD/Opel (referred to the county ave...</td>\n",
       "    </tr>\n",
       "    <tr>\n",
       "      <th>9</th>\n",
       "      <td>KBA13_KRSSEG_VAN</td>\n",
       "      <td>0.123337</td>\n",
       "      <td>share of vans (referred to the county average)...</td>\n",
       "    </tr>\n",
       "    <tr>\n",
       "      <th>10</th>\n",
       "      <td>KBA13_FAB_SONSTIGE</td>\n",
       "      <td>-0.127683</td>\n",
       "      <td>share of other Manufacturers within the PLZ8</td>\n",
       "    </tr>\n",
       "    <tr>\n",
       "      <th>11</th>\n",
       "      <td>KBA13_CCM_3001</td>\n",
       "      <td>-0.131996</td>\n",
       "      <td>unknown</td>\n",
       "    </tr>\n",
       "    <tr>\n",
       "      <th>12</th>\n",
       "      <td>KBA13_CCM_2501</td>\n",
       "      <td>-0.135285</td>\n",
       "      <td>share of cars with more than 2501ccm within th...</td>\n",
       "    </tr>\n",
       "    <tr>\n",
       "      <th>13</th>\n",
       "      <td>KBA13_KMH_140</td>\n",
       "      <td>-0.138728</td>\n",
       "      <td>share of cars with max speed between 110 km/h ...</td>\n",
       "    </tr>\n",
       "    <tr>\n",
       "      <th>14</th>\n",
       "      <td>KBA13_KRSZUL_NEU</td>\n",
       "      <td>-0.141209</td>\n",
       "      <td>share of newbuilt cars (referred to the county...</td>\n",
       "    </tr>\n",
       "    <tr>\n",
       "      <th>15</th>\n",
       "      <td>KBA13_KMH_211</td>\n",
       "      <td>-0.142668</td>\n",
       "      <td>share of cars with a greater max speed than 21...</td>\n",
       "    </tr>\n",
       "    <tr>\n",
       "      <th>16</th>\n",
       "      <td>KBA13_KW_121</td>\n",
       "      <td>-0.144008</td>\n",
       "      <td>share of cars with an engine power of more tha...</td>\n",
       "    </tr>\n",
       "    <tr>\n",
       "      <th>17</th>\n",
       "      <td>KBA13_KMH_0_140</td>\n",
       "      <td>-0.149357</td>\n",
       "      <td>share of cars with max speed 140 km/h within t...</td>\n",
       "    </tr>\n",
       "    <tr>\n",
       "      <th>18</th>\n",
       "      <td>KBA13_KMH_110</td>\n",
       "      <td>-0.152984</td>\n",
       "      <td>share of cars with max speed 110 km/h within t...</td>\n",
       "    </tr>\n",
       "    <tr>\n",
       "      <th>19</th>\n",
       "      <td>KBA13_KW_30</td>\n",
       "      <td>-0.153647</td>\n",
       "      <td>share of cars up to 30 KW engine power - PLZ8</td>\n",
       "    </tr>\n",
       "  </tbody>\n",
       "</table>\n",
       "</div>"
      ],
      "text/plain": [
       "                    Features    Weight  \\\n",
       "0          KBA13_KMH_140_210  0.204518   \n",
       "1        KBA13_CCM_1401_2500  0.176740   \n",
       "2       KBA13_ALTERHALTER_61  0.165377   \n",
       "3            KBA13_HALTER_65  0.157145   \n",
       "4              KBA13_SEG_VAN  0.149803   \n",
       "5    KBA13_SEG_GROSSRAUMVANS  0.141179   \n",
       "6             KBA13_VORB_1_2  0.137708   \n",
       "7         KBA13_SEG_MINIVANS  0.130160   \n",
       "8   KBA13_KRSHERST_FORD_OPEL  0.130085   \n",
       "9           KBA13_KRSSEG_VAN  0.123337   \n",
       "10        KBA13_FAB_SONSTIGE -0.127683   \n",
       "11            KBA13_CCM_3001 -0.131996   \n",
       "12            KBA13_CCM_2501 -0.135285   \n",
       "13             KBA13_KMH_140 -0.138728   \n",
       "14          KBA13_KRSZUL_NEU -0.141209   \n",
       "15             KBA13_KMH_211 -0.142668   \n",
       "16              KBA13_KW_121 -0.144008   \n",
       "17           KBA13_KMH_0_140 -0.149357   \n",
       "18             KBA13_KMH_110 -0.152984   \n",
       "19               KBA13_KW_30 -0.153647   \n",
       "\n",
       "                                         Descriptions  \n",
       "0   share of cars with max speed between 140 and 2...  \n",
       "1                                             unknown  \n",
       "2   share of car owners elder than 60 within the PLZ8  \n",
       "3   share of car owners between 61 and 65 within t...  \n",
       "4                       share of vans within the PLZ8  \n",
       "5             share of big sized vans within the PLZ8  \n",
       "6           share of cars with 1 or 2 preowner - PLZ8  \n",
       "7                   share of minivans within the PLZ8  \n",
       "8   share of FORD/Opel (referred to the county ave...  \n",
       "9   share of vans (referred to the county average)...  \n",
       "10       share of other Manufacturers within the PLZ8  \n",
       "11                                            unknown  \n",
       "12  share of cars with more than 2501ccm within th...  \n",
       "13  share of cars with max speed between 110 km/h ...  \n",
       "14  share of newbuilt cars (referred to the county...  \n",
       "15  share of cars with a greater max speed than 21...  \n",
       "16  share of cars with an engine power of more tha...  \n",
       "17  share of cars with max speed 140 km/h within t...  \n",
       "18  share of cars with max speed 110 km/h within t...  \n",
       "19      share of cars up to 30 KW engine power - PLZ8  "
      ]
     },
     "execution_count": 13,
     "metadata": {},
     "output_type": "execute_result"
    }
   ],
   "source": [
    "component_1= component_stats(pca_model, 8)\n",
    "component_1"
   ]
  },
  {
   "cell_type": "code",
   "execution_count": 220,
   "metadata": {},
   "outputs": [
    {
     "data": {
      "text/html": [
       "<div>\n",
       "<style scoped>\n",
       "    .dataframe tbody tr th:only-of-type {\n",
       "        vertical-align: middle;\n",
       "    }\n",
       "\n",
       "    .dataframe tbody tr th {\n",
       "        vertical-align: top;\n",
       "    }\n",
       "\n",
       "    .dataframe thead th {\n",
       "        text-align: right;\n",
       "    }\n",
       "</style>\n",
       "<table border=\"1\" class=\"dataframe\">\n",
       "  <thead>\n",
       "    <tr style=\"text-align: right;\">\n",
       "      <th></th>\n",
       "      <th>Features</th>\n",
       "      <th>Weight</th>\n",
       "      <th>Descriptions</th>\n",
       "    </tr>\n",
       "  </thead>\n",
       "  <tbody>\n",
       "    <tr>\n",
       "      <th>0</th>\n",
       "      <td>PRAEGENDE_JUGENDJAHRE</td>\n",
       "      <td>0.195279</td>\n",
       "      <td>dominating movement in the person's youth (ava...</td>\n",
       "    </tr>\n",
       "    <tr>\n",
       "      <th>1</th>\n",
       "      <td>CJT_TYP_1</td>\n",
       "      <td>0.188379</td>\n",
       "      <td>unknown</td>\n",
       "    </tr>\n",
       "    <tr>\n",
       "      <th>2</th>\n",
       "      <td>CJT_TYP_2</td>\n",
       "      <td>0.187733</td>\n",
       "      <td>unknown</td>\n",
       "    </tr>\n",
       "    <tr>\n",
       "      <th>3</th>\n",
       "      <td>FINANZ_SPARER</td>\n",
       "      <td>0.183417</td>\n",
       "      <td>financial typology: money saver</td>\n",
       "    </tr>\n",
       "    <tr>\n",
       "      <th>4</th>\n",
       "      <td>ONLINE_AFFINITAET</td>\n",
       "      <td>0.162259</td>\n",
       "      <td>online affinity</td>\n",
       "    </tr>\n",
       "    <tr>\n",
       "      <th>5</th>\n",
       "      <td>ALTERSKATEGORIE_GROB</td>\n",
       "      <td>-0.167307</td>\n",
       "      <td>age through prename analysis</td>\n",
       "    </tr>\n",
       "    <tr>\n",
       "      <th>6</th>\n",
       "      <td>CJT_TYP_3</td>\n",
       "      <td>-0.170254</td>\n",
       "      <td>unknown</td>\n",
       "    </tr>\n",
       "    <tr>\n",
       "      <th>7</th>\n",
       "      <td>CJT_TYP_4</td>\n",
       "      <td>-0.173553</td>\n",
       "      <td>unknown</td>\n",
       "    </tr>\n",
       "    <tr>\n",
       "      <th>8</th>\n",
       "      <td>FINANZ_VORSORGER</td>\n",
       "      <td>-0.174465</td>\n",
       "      <td>financial typology: be prepared</td>\n",
       "    </tr>\n",
       "    <tr>\n",
       "      <th>9</th>\n",
       "      <td>CJT_TYP_5</td>\n",
       "      <td>-0.177167</td>\n",
       "      <td>unknown</td>\n",
       "    </tr>\n",
       "  </tbody>\n",
       "</table>\n",
       "</div>"
      ],
      "text/plain": [
       "                Features    Weight  \\\n",
       "0  PRAEGENDE_JUGENDJAHRE  0.195279   \n",
       "1              CJT_TYP_1  0.188379   \n",
       "2              CJT_TYP_2  0.187733   \n",
       "3          FINANZ_SPARER  0.183417   \n",
       "4      ONLINE_AFFINITAET  0.162259   \n",
       "5   ALTERSKATEGORIE_GROB -0.167307   \n",
       "6              CJT_TYP_3 -0.170254   \n",
       "7              CJT_TYP_4 -0.173553   \n",
       "8       FINANZ_VORSORGER -0.174465   \n",
       "9              CJT_TYP_5 -0.177167   \n",
       "\n",
       "                                        Descriptions  \n",
       "0  dominating movement in the person's youth (ava...  \n",
       "1                                            unknown  \n",
       "2                                            unknown  \n",
       "3                    financial typology: money saver  \n",
       "4                                    online affinity  \n",
       "5                      age through prename analysis   \n",
       "6                                            unknown  \n",
       "7                                            unknown  \n",
       "8                    financial typology: be prepared  \n",
       "9                                            unknown  "
      ]
     },
     "execution_count": 220,
     "metadata": {},
     "output_type": "execute_result"
    }
   ],
   "source": [
    "component_2 = component_stats(pca_model, 2)\n",
    "component_2"
   ]
  },
  {
   "cell_type": "code",
   "execution_count": 114,
   "metadata": {},
   "outputs": [],
   "source": [
    "distortions = []\n",
    "K = range(1,30)\n",
    "for k in K:\n",
    "    kmeanModel = KMeans(n_clusters=k)\n",
    "    kmeanModel.fit(pca_azdias.sample(30000))\n",
    "    distortions.append(kmeanModel.inertia_)"
   ]
  },
  {
   "cell_type": "code",
   "execution_count": 115,
   "metadata": {},
   "outputs": [
    {
     "data": {
      "image/png": "[encoded data removed]",
      "text/plain": [
       "<matplotlib.figure.Figure at 0x7f3e86a26908>"
      ]
     },
     "metadata": {
      "needs_background": "light"
     },
     "output_type": "display_data"
    }
   ],
   "source": [
    "plt.figure(figsize=(16,8))\n",
    "plt.plot(K, distortions, 'bx-')\n",
    "plt.xlabel('k')\n",
    "plt.ylabel('Distortion')\n",
    "plt.title('The Elbow Method showing the optimal k')\n",
    "plt.show()"
   ]
  },
  {
   "cell_type": "code",
   "execution_count": 26,
   "metadata": {},
   "outputs": [],
   "source": [
    "kmeanModel = KMeans(9)\n",
    "model_k = kmeanModel.fit(pca_azdias)\n",
    "pickle.dump(model_k, open(\"kmeans_model.pkl\", \"wb\"))"
   ]
  },
  {
   "cell_type": "code",
   "execution_count": 29,
   "metadata": {},
   "outputs": [],
   "source": [
    "model_k = pickle.load(open(\"kmeans_model.pkl\", \"rb\"))"
   ]
  },
  {
   "cell_type": "code",
   "execution_count": null,
   "metadata": {},
   "outputs": [],
   "source": [
    "azdias_clustered = pd.DataFrame(model_k.predict(pca_azdias), columns = ['Cluster'])\n",
    "customers_clustered = pd.DataFrame(model_k.predict(pca_customers), columns = ['Cluster'])"
   ]
  },
  {
   "cell_type": "code",
   "execution_count": 18,
   "metadata": {},
   "outputs": [],
   "source": [
    "azdias_clustered.to_pickle('azdias_clustered')\n",
    "customers_clustered.to_pickle('customers_clustered')"
   ]
  },
  {
   "cell_type": "code",
   "execution_count": 30,
   "metadata": {},
   "outputs": [],
   "source": [
    "azdias_clustered = pd.read_pickle('azdias_clustered')\n",
    "customers_clustered = pd.read_pickle('customers_clustered')"
   ]
  },
  {
   "cell_type": "code",
   "execution_count": 31,
   "metadata": {},
   "outputs": [
    {
     "data": {
      "text/html": [
       "<div>\n",
       "<style scoped>\n",
       "    .dataframe tbody tr th:only-of-type {\n",
       "        vertical-align: middle;\n",
       "    }\n",
       "\n",
       "    .dataframe tbody tr th {\n",
       "        vertical-align: top;\n",
       "    }\n",
       "\n",
       "    .dataframe thead th {\n",
       "        text-align: right;\n",
       "    }\n",
       "</style>\n",
       "<table border=\"1\" class=\"dataframe\">\n",
       "  <thead>\n",
       "    <tr style=\"text-align: right;\">\n",
       "      <th></th>\n",
       "      <th>cluster</th>\n",
       "      <th>population</th>\n",
       "      <th>customer</th>\n",
       "    </tr>\n",
       "  </thead>\n",
       "  <tbody>\n",
       "    <tr>\n",
       "      <th>0</th>\n",
       "      <td>0</td>\n",
       "      <td>76142</td>\n",
       "      <td>5896.0</td>\n",
       "    </tr>\n",
       "    <tr>\n",
       "      <th>1</th>\n",
       "      <td>1</td>\n",
       "      <td>118282</td>\n",
       "      <td>82065.0</td>\n",
       "    </tr>\n",
       "    <tr>\n",
       "      <th>2</th>\n",
       "      <td>2</td>\n",
       "      <td>98032</td>\n",
       "      <td>12199.0</td>\n",
       "    </tr>\n",
       "    <tr>\n",
       "      <th>3</th>\n",
       "      <td>3</td>\n",
       "      <td>118094</td>\n",
       "      <td>31994.0</td>\n",
       "    </tr>\n",
       "    <tr>\n",
       "      <th>4</th>\n",
       "      <td>4</td>\n",
       "      <td>39518</td>\n",
       "      <td>2586.0</td>\n",
       "    </tr>\n",
       "    <tr>\n",
       "      <th>5</th>\n",
       "      <td>5</td>\n",
       "      <td>105135</td>\n",
       "      <td>32363.0</td>\n",
       "    </tr>\n",
       "    <tr>\n",
       "      <th>6</th>\n",
       "      <td>6</td>\n",
       "      <td>67083</td>\n",
       "      <td>12534.0</td>\n",
       "    </tr>\n",
       "    <tr>\n",
       "      <th>7</th>\n",
       "      <td>7</td>\n",
       "      <td>97783</td>\n",
       "      <td>12015.0</td>\n",
       "    </tr>\n",
       "    <tr>\n",
       "      <th>8</th>\n",
       "      <td>8</td>\n",
       "      <td>13258</td>\n",
       "      <td>NaN</td>\n",
       "    </tr>\n",
       "  </tbody>\n",
       "</table>\n",
       "</div>"
      ],
      "text/plain": [
       "   cluster  population  customer\n",
       "0        0       76142    5896.0\n",
       "1        1      118282   82065.0\n",
       "2        2       98032   12199.0\n",
       "3        3      118094   31994.0\n",
       "4        4       39518    2586.0\n",
       "5        5      105135   32363.0\n",
       "6        6       67083   12534.0\n",
       "7        7       97783   12015.0\n",
       "8        8       13258       NaN"
      ]
     },
     "execution_count": 31,
     "metadata": {},
     "output_type": "execute_result"
    }
   ],
   "source": [
    "customer_clusters = pd.Series(customers_clustered['Cluster']).value_counts().sort_index()\n",
    "population_clusters = pd.Series(azdias_clustered['Cluster']).value_counts().sort_index()\n",
    "mixed_stats=pd.concat([population_clusters,customer_clusters],axis=1).reset_index()\n",
    "mixed_stats.columns=['cluster','population','customer']\n",
    "mixed_stats"
   ]
  },
  {
   "cell_type": "code",
   "execution_count": 35,
   "metadata": {},
   "outputs": [
    {
     "data": {
      "image/png": "[encoded data removed]",
      "text/plain": [
       "<matplotlib.figure.Figure at 0x7f14b85025c0>"
      ]
     },
     "metadata": {
      "needs_background": "light"
     },
     "output_type": "display_data"
    }
   ],
   "source": [
    "mixed_stats['pop_percent'] = (mixed_stats['population']/mixed_stats['population'].sum()*100).round(2)\n",
    "mixed_stats['cust_percent'] = (mixed_stats['customer']/mixed_stats['customer'].sum()*100).round(2)\n",
    "\n",
    "\n",
    "fig = plt.figure(figsize=(15,10))\n",
    "\n",
    "ax = fig.add_subplot(111)\n",
    "ax = mixed_stats['pop_percent'].plot(x=mixed_stats['cluster'],width=-0.3,align='edge',color='blue',kind='bar',position=0)\n",
    "ax = mixed_stats['cust_percent'].plot(kind='bar',color='orange',width = 0.3, align='edge',position=1)\n",
    "ax.set_xlabel('Clusters', fontsize=15) \n",
    "ax.set_ylabel('Ratio %', fontsize=15)\n",
    "ax.xaxis.set(ticklabels=range(20))\n",
    "ax.tick_params(axis = 'x', which = 'major', labelsize = 13)\n",
    "ax.margins(x=0.5,y=0.1)\n",
    "\n",
    "plt.legend(('Gen Population', 'Customer'),fontsize=15)\n",
    "plt.title(('Ratio of Gen Population Vs Customer segments as % of total per cluster'))\n",
    "plt.show()"
   ]
  },
  {
   "cell_type": "code",
   "execution_count": 241,
   "metadata": {},
   "outputs": [],
   "source": [
    "def cluster_specs(kmeans_model, cluster_no, pca_model):\n",
    "    \n",
    "    weights = kmeans_model.cluster_centers_[cluster_no]\n",
    "    components = list(range(len(weights)))\n",
    "    cluster_expl = pd.DataFrame({\"Weights\":weights, \"Component\":components})\n",
    "    cluster_expl.sort_values(\"Weights\", ascending=False, inplace=True)\n",
    "\n",
    "    comps = []\n",
    "    comp_info = []\n",
    "    \n",
    "    for index, row in cluster_expl.head(2).iterrows():\n",
    "        component_info = component_stats(pca_model, int(row[\"Component\"]))\n",
    "        comp_info.append(component_info)\n",
    "        comps += [int(row[\"Component\"])] * len(component_info)\n",
    "\n",
    "    component_info = pd.concat(comp_info, ignore_index=True)\n",
    "    component_info.insert(0, \"Component\", pd.Series(comps))\n",
    "        \n",
    "    return component_info"
   ]
  },
  {
   "cell_type": "code",
   "execution_count": 242,
   "metadata": {},
   "outputs": [
    {
     "data": {
      "text/html": [
       "<div>\n",
       "<style scoped>\n",
       "    .dataframe tbody tr th:only-of-type {\n",
       "        vertical-align: middle;\n",
       "    }\n",
       "\n",
       "    .dataframe tbody tr th {\n",
       "        vertical-align: top;\n",
       "    }\n",
       "\n",
       "    .dataframe thead th {\n",
       "        text-align: right;\n",
       "    }\n",
       "</style>\n",
       "<table border=\"1\" class=\"dataframe\">\n",
       "  <thead>\n",
       "    <tr style=\"text-align: right;\">\n",
       "      <th></th>\n",
       "      <th>Component</th>\n",
       "      <th>Features</th>\n",
       "      <th>Weight</th>\n",
       "      <th>Descriptions</th>\n",
       "    </tr>\n",
       "  </thead>\n",
       "  <tbody>\n",
       "    <tr>\n",
       "      <th>0</th>\n",
       "      <td>2</td>\n",
       "      <td>PRAEGENDE_JUGENDJAHRE</td>\n",
       "      <td>0.195279</td>\n",
       "      <td>dominating movement in the person's youth (ava...</td>\n",
       "    </tr>\n",
       "    <tr>\n",
       "      <th>1</th>\n",
       "      <td>2</td>\n",
       "      <td>CJT_TYP_1</td>\n",
       "      <td>0.188379</td>\n",
       "      <td>unknown</td>\n",
       "    </tr>\n",
       "    <tr>\n",
       "      <th>2</th>\n",
       "      <td>2</td>\n",
       "      <td>CJT_TYP_2</td>\n",
       "      <td>0.187733</td>\n",
       "      <td>unknown</td>\n",
       "    </tr>\n",
       "    <tr>\n",
       "      <th>3</th>\n",
       "      <td>2</td>\n",
       "      <td>FINANZ_SPARER</td>\n",
       "      <td>0.183417</td>\n",
       "      <td>financial typology: money saver</td>\n",
       "    </tr>\n",
       "    <tr>\n",
       "      <th>4</th>\n",
       "      <td>2</td>\n",
       "      <td>ONLINE_AFFINITAET</td>\n",
       "      <td>0.162259</td>\n",
       "      <td>online affinity</td>\n",
       "    </tr>\n",
       "    <tr>\n",
       "      <th>5</th>\n",
       "      <td>2</td>\n",
       "      <td>ALTERSKATEGORIE_GROB</td>\n",
       "      <td>-0.167307</td>\n",
       "      <td>age through prename analysis</td>\n",
       "    </tr>\n",
       "    <tr>\n",
       "      <th>6</th>\n",
       "      <td>2</td>\n",
       "      <td>CJT_TYP_3</td>\n",
       "      <td>-0.170254</td>\n",
       "      <td>unknown</td>\n",
       "    </tr>\n",
       "    <tr>\n",
       "      <th>7</th>\n",
       "      <td>2</td>\n",
       "      <td>CJT_TYP_4</td>\n",
       "      <td>-0.173553</td>\n",
       "      <td>unknown</td>\n",
       "    </tr>\n",
       "    <tr>\n",
       "      <th>8</th>\n",
       "      <td>2</td>\n",
       "      <td>FINANZ_VORSORGER</td>\n",
       "      <td>-0.174465</td>\n",
       "      <td>financial typology: be prepared</td>\n",
       "    </tr>\n",
       "    <tr>\n",
       "      <th>9</th>\n",
       "      <td>2</td>\n",
       "      <td>CJT_TYP_5</td>\n",
       "      <td>-0.177167</td>\n",
       "      <td>unknown</td>\n",
       "    </tr>\n",
       "    <tr>\n",
       "      <th>10</th>\n",
       "      <td>8</td>\n",
       "      <td>KBA13_KMH_140_210</td>\n",
       "      <td>0.204518</td>\n",
       "      <td>share of cars with max speed between 140 and 2...</td>\n",
       "    </tr>\n",
       "    <tr>\n",
       "      <th>11</th>\n",
       "      <td>8</td>\n",
       "      <td>KBA13_CCM_1401_2500</td>\n",
       "      <td>0.176740</td>\n",
       "      <td>unknown</td>\n",
       "    </tr>\n",
       "    <tr>\n",
       "      <th>12</th>\n",
       "      <td>8</td>\n",
       "      <td>KBA13_ALTERHALTER_61</td>\n",
       "      <td>0.165377</td>\n",
       "      <td>share of car owners elder than 60 within the PLZ8</td>\n",
       "    </tr>\n",
       "    <tr>\n",
       "      <th>13</th>\n",
       "      <td>8</td>\n",
       "      <td>KBA13_HALTER_65</td>\n",
       "      <td>0.157145</td>\n",
       "      <td>share of car owners between 61 and 65 within t...</td>\n",
       "    </tr>\n",
       "    <tr>\n",
       "      <th>14</th>\n",
       "      <td>8</td>\n",
       "      <td>KBA13_SEG_VAN</td>\n",
       "      <td>0.149803</td>\n",
       "      <td>share of vans within the PLZ8</td>\n",
       "    </tr>\n",
       "    <tr>\n",
       "      <th>15</th>\n",
       "      <td>8</td>\n",
       "      <td>KBA13_KMH_211</td>\n",
       "      <td>-0.142668</td>\n",
       "      <td>share of cars with a greater max speed than 21...</td>\n",
       "    </tr>\n",
       "    <tr>\n",
       "      <th>16</th>\n",
       "      <td>8</td>\n",
       "      <td>KBA13_KW_121</td>\n",
       "      <td>-0.144008</td>\n",
       "      <td>share of cars with an engine power of more tha...</td>\n",
       "    </tr>\n",
       "    <tr>\n",
       "      <th>17</th>\n",
       "      <td>8</td>\n",
       "      <td>KBA13_KMH_0_140</td>\n",
       "      <td>-0.149357</td>\n",
       "      <td>share of cars with max speed 140 km/h within t...</td>\n",
       "    </tr>\n",
       "    <tr>\n",
       "      <th>18</th>\n",
       "      <td>8</td>\n",
       "      <td>KBA13_KMH_110</td>\n",
       "      <td>-0.152984</td>\n",
       "      <td>share of cars with max speed 110 km/h within t...</td>\n",
       "    </tr>\n",
       "    <tr>\n",
       "      <th>19</th>\n",
       "      <td>8</td>\n",
       "      <td>KBA13_KW_30</td>\n",
       "      <td>-0.153647</td>\n",
       "      <td>share of cars up to 30 KW engine power - PLZ8</td>\n",
       "    </tr>\n",
       "  </tbody>\n",
       "</table>\n",
       "</div>"
      ],
      "text/plain": [
       "    Component               Features    Weight  \\\n",
       "0           2  PRAEGENDE_JUGENDJAHRE  0.195279   \n",
       "1           2              CJT_TYP_1  0.188379   \n",
       "2           2              CJT_TYP_2  0.187733   \n",
       "3           2          FINANZ_SPARER  0.183417   \n",
       "4           2      ONLINE_AFFINITAET  0.162259   \n",
       "5           2   ALTERSKATEGORIE_GROB -0.167307   \n",
       "6           2              CJT_TYP_3 -0.170254   \n",
       "7           2              CJT_TYP_4 -0.173553   \n",
       "8           2       FINANZ_VORSORGER -0.174465   \n",
       "9           2              CJT_TYP_5 -0.177167   \n",
       "10          8      KBA13_KMH_140_210  0.204518   \n",
       "11          8    KBA13_CCM_1401_2500  0.176740   \n",
       "12          8   KBA13_ALTERHALTER_61  0.165377   \n",
       "13          8        KBA13_HALTER_65  0.157145   \n",
       "14          8          KBA13_SEG_VAN  0.149803   \n",
       "15          8          KBA13_KMH_211 -0.142668   \n",
       "16          8           KBA13_KW_121 -0.144008   \n",
       "17          8        KBA13_KMH_0_140 -0.149357   \n",
       "18          8          KBA13_KMH_110 -0.152984   \n",
       "19          8            KBA13_KW_30 -0.153647   \n",
       "\n",
       "                                         Descriptions  \n",
       "0   dominating movement in the person's youth (ava...  \n",
       "1                                             unknown  \n",
       "2                                             unknown  \n",
       "3                     financial typology: money saver  \n",
       "4                                     online affinity  \n",
       "5                       age through prename analysis   \n",
       "6                                             unknown  \n",
       "7                                             unknown  \n",
       "8                     financial typology: be prepared  \n",
       "9                                             unknown  \n",
       "10  share of cars with max speed between 140 and 2...  \n",
       "11                                            unknown  \n",
       "12  share of car owners elder than 60 within the PLZ8  \n",
       "13  share of car owners between 61 and 65 within t...  \n",
       "14                      share of vans within the PLZ8  \n",
       "15  share of cars with a greater max speed than 21...  \n",
       "16  share of cars with an engine power of more tha...  \n",
       "17  share of cars with max speed 140 km/h within t...  \n",
       "18  share of cars with max speed 110 km/h within t...  \n",
       "19      share of cars up to 30 KW engine power - PLZ8  "
      ]
     },
     "execution_count": 242,
     "metadata": {},
     "output_type": "execute_result"
    }
   ],
   "source": [
    "cluster_1 = cluster_specs(model_k, 1, pca_model)\n",
    "cluster_1"
   ]
  },
  {
   "cell_type": "code",
   "execution_count": 231,
   "metadata": {},
   "outputs": [
    {
     "data": {
      "text/html": [
       "<div>\n",
       "<style scoped>\n",
       "    .dataframe tbody tr th:only-of-type {\n",
       "        vertical-align: middle;\n",
       "    }\n",
       "\n",
       "    .dataframe tbody tr th {\n",
       "        vertical-align: top;\n",
       "    }\n",
       "\n",
       "    .dataframe thead th {\n",
       "        text-align: right;\n",
       "    }\n",
       "</style>\n",
       "<table border=\"1\" class=\"dataframe\">\n",
       "  <thead>\n",
       "    <tr style=\"text-align: right;\">\n",
       "      <th></th>\n",
       "      <th>Component</th>\n",
       "      <th>Features</th>\n",
       "      <th>Weight</th>\n",
       "      <th>Descriptions</th>\n",
       "    </tr>\n",
       "  </thead>\n",
       "  <tbody>\n",
       "    <tr>\n",
       "      <th>0</th>\n",
       "      <td>1</td>\n",
       "      <td>MOBI_REGIO</td>\n",
       "      <td>0.153979</td>\n",
       "      <td>moving patterns</td>\n",
       "    </tr>\n",
       "    <tr>\n",
       "      <th>1</th>\n",
       "      <td>1</td>\n",
       "      <td>KBA13_ANTG1</td>\n",
       "      <td>0.146132</td>\n",
       "      <td>unknown</td>\n",
       "    </tr>\n",
       "    <tr>\n",
       "      <th>2</th>\n",
       "      <td>1</td>\n",
       "      <td>LP_STATUS_FEIN</td>\n",
       "      <td>0.144552</td>\n",
       "      <td>social status fine</td>\n",
       "    </tr>\n",
       "    <tr>\n",
       "      <th>3</th>\n",
       "      <td>1</td>\n",
       "      <td>KBA05_ANTG1</td>\n",
       "      <td>0.142356</td>\n",
       "      <td>number of 1-2 family houses in the cell</td>\n",
       "    </tr>\n",
       "    <tr>\n",
       "      <th>4</th>\n",
       "      <td>1</td>\n",
       "      <td>MOBI_RASTER</td>\n",
       "      <td>0.141025</td>\n",
       "      <td>unknown</td>\n",
       "    </tr>\n",
       "    <tr>\n",
       "      <th>5</th>\n",
       "      <td>1</td>\n",
       "      <td>HH_EINKOMMEN_SCORE</td>\n",
       "      <td>-0.137772</td>\n",
       "      <td>estimated household_net_income</td>\n",
       "    </tr>\n",
       "    <tr>\n",
       "      <th>6</th>\n",
       "      <td>1</td>\n",
       "      <td>KBA13_BAUMAX</td>\n",
       "      <td>-0.140492</td>\n",
       "      <td>unknown</td>\n",
       "    </tr>\n",
       "    <tr>\n",
       "      <th>7</th>\n",
       "      <td>1</td>\n",
       "      <td>PLZ8_ANTG4</td>\n",
       "      <td>-0.140890</td>\n",
       "      <td>number of &gt;10 family houses in the PLZ8</td>\n",
       "    </tr>\n",
       "    <tr>\n",
       "      <th>8</th>\n",
       "      <td>1</td>\n",
       "      <td>KBA13_ANTG4</td>\n",
       "      <td>-0.141919</td>\n",
       "      <td>unknown</td>\n",
       "    </tr>\n",
       "    <tr>\n",
       "      <th>9</th>\n",
       "      <td>1</td>\n",
       "      <td>KBA13_ANTG3</td>\n",
       "      <td>-0.145805</td>\n",
       "      <td>unknown</td>\n",
       "    </tr>\n",
       "    <tr>\n",
       "      <th>10</th>\n",
       "      <td>12</td>\n",
       "      <td>D19_BANKEN_ONLINE_QUOTE_12</td>\n",
       "      <td>0.164585</td>\n",
       "      <td>amount of online transactions within all trans...</td>\n",
       "    </tr>\n",
       "    <tr>\n",
       "      <th>11</th>\n",
       "      <td>12</td>\n",
       "      <td>D19_BANKEN_ANZ_12</td>\n",
       "      <td>0.163147</td>\n",
       "      <td>unknown</td>\n",
       "    </tr>\n",
       "    <tr>\n",
       "      <th>12</th>\n",
       "      <td>12</td>\n",
       "      <td>D19_BANKEN_ANZ_24</td>\n",
       "      <td>0.156410</td>\n",
       "      <td>unknown</td>\n",
       "    </tr>\n",
       "    <tr>\n",
       "      <th>13</th>\n",
       "      <td>12</td>\n",
       "      <td>KBA05_GBZ</td>\n",
       "      <td>0.146128</td>\n",
       "      <td>number of buildings in the microcell</td>\n",
       "    </tr>\n",
       "    <tr>\n",
       "      <th>14</th>\n",
       "      <td>12</td>\n",
       "      <td>MOBI_REGIO</td>\n",
       "      <td>0.133679</td>\n",
       "      <td>moving patterns</td>\n",
       "    </tr>\n",
       "    <tr>\n",
       "      <th>15</th>\n",
       "      <td>12</td>\n",
       "      <td>KBA05_KW1</td>\n",
       "      <td>-0.125288</td>\n",
       "      <td>share of cars with less than 59 KW engine power</td>\n",
       "    </tr>\n",
       "    <tr>\n",
       "      <th>16</th>\n",
       "      <td>12</td>\n",
       "      <td>KBA13_VW</td>\n",
       "      <td>-0.146327</td>\n",
       "      <td>share of VOLKSWAGEN within the PLZ8</td>\n",
       "    </tr>\n",
       "    <tr>\n",
       "      <th>17</th>\n",
       "      <td>12</td>\n",
       "      <td>D19_BANKEN_DATUM</td>\n",
       "      <td>-0.149316</td>\n",
       "      <td>actuality of the last transaction for the segm...</td>\n",
       "    </tr>\n",
       "    <tr>\n",
       "      <th>18</th>\n",
       "      <td>12</td>\n",
       "      <td>KBA13_HERST_AUDI_VW</td>\n",
       "      <td>-0.158987</td>\n",
       "      <td>share of Volkswagen &amp; Audi within the PLZ8</td>\n",
       "    </tr>\n",
       "    <tr>\n",
       "      <th>19</th>\n",
       "      <td>12</td>\n",
       "      <td>D19_BANKEN_ONLINE_DATUM</td>\n",
       "      <td>-0.161076</td>\n",
       "      <td>actuality of the last transaction for the segm...</td>\n",
       "    </tr>\n",
       "  </tbody>\n",
       "</table>\n",
       "</div>"
      ],
      "text/plain": [
       "    Component                    Features    Weight  \\\n",
       "0           1                  MOBI_REGIO  0.153979   \n",
       "1           1                 KBA13_ANTG1  0.146132   \n",
       "2           1              LP_STATUS_FEIN  0.144552   \n",
       "3           1                 KBA05_ANTG1  0.142356   \n",
       "4           1                 MOBI_RASTER  0.141025   \n",
       "5           1          HH_EINKOMMEN_SCORE -0.137772   \n",
       "6           1                KBA13_BAUMAX -0.140492   \n",
       "7           1                  PLZ8_ANTG4 -0.140890   \n",
       "8           1                 KBA13_ANTG4 -0.141919   \n",
       "9           1                 KBA13_ANTG3 -0.145805   \n",
       "10         12  D19_BANKEN_ONLINE_QUOTE_12  0.164585   \n",
       "11         12           D19_BANKEN_ANZ_12  0.163147   \n",
       "12         12           D19_BANKEN_ANZ_24  0.156410   \n",
       "13         12                   KBA05_GBZ  0.146128   \n",
       "14         12                  MOBI_REGIO  0.133679   \n",
       "15         12                   KBA05_KW1 -0.125288   \n",
       "16         12                    KBA13_VW -0.146327   \n",
       "17         12            D19_BANKEN_DATUM -0.149316   \n",
       "18         12         KBA13_HERST_AUDI_VW -0.158987   \n",
       "19         12     D19_BANKEN_ONLINE_DATUM -0.161076   \n",
       "\n",
       "                                         Descriptions  \n",
       "0                                     moving patterns  \n",
       "1                                             unknown  \n",
       "2                                 social status fine   \n",
       "3             number of 1-2 family houses in the cell  \n",
       "4                                             unknown  \n",
       "5                     estimated household_net_income   \n",
       "6                                             unknown  \n",
       "7             number of >10 family houses in the PLZ8  \n",
       "8                                             unknown  \n",
       "9                                             unknown  \n",
       "10  amount of online transactions within all trans...  \n",
       "11                                            unknown  \n",
       "12                                            unknown  \n",
       "13               number of buildings in the microcell  \n",
       "14                                    moving patterns  \n",
       "15    share of cars with less than 59 KW engine power  \n",
       "16                share of VOLKSWAGEN within the PLZ8  \n",
       "17  actuality of the last transaction for the segm...  \n",
       "18         share of Volkswagen & Audi within the PLZ8  \n",
       "19  actuality of the last transaction for the segm...  "
      ]
     },
     "execution_count": 231,
     "metadata": {},
     "output_type": "execute_result"
    }
   ],
   "source": [
    "cluster_3 = cluster_specs(model_k, 3, pca_model)\n",
    "cluster_3"
   ]
  },
  {
   "cell_type": "code",
   "execution_count": 232,
   "metadata": {},
   "outputs": [
    {
     "data": {
      "text/html": [
       "<div>\n",
       "<style scoped>\n",
       "    .dataframe tbody tr th:only-of-type {\n",
       "        vertical-align: middle;\n",
       "    }\n",
       "\n",
       "    .dataframe tbody tr th {\n",
       "        vertical-align: top;\n",
       "    }\n",
       "\n",
       "    .dataframe thead th {\n",
       "        text-align: right;\n",
       "    }\n",
       "</style>\n",
       "<table border=\"1\" class=\"dataframe\">\n",
       "  <thead>\n",
       "    <tr style=\"text-align: right;\">\n",
       "      <th></th>\n",
       "      <th>Component</th>\n",
       "      <th>Features</th>\n",
       "      <th>Weight</th>\n",
       "      <th>Descriptions</th>\n",
       "    </tr>\n",
       "  </thead>\n",
       "  <tbody>\n",
       "    <tr>\n",
       "      <th>0</th>\n",
       "      <td>4</td>\n",
       "      <td>D19_GESAMT_ANZ_12</td>\n",
       "      <td>0.140064</td>\n",
       "      <td>unknown</td>\n",
       "    </tr>\n",
       "    <tr>\n",
       "      <th>1</th>\n",
       "      <td>4</td>\n",
       "      <td>EWDICHTE</td>\n",
       "      <td>0.124501</td>\n",
       "      <td>density of inhabitants per square kilometer</td>\n",
       "    </tr>\n",
       "    <tr>\n",
       "      <th>2</th>\n",
       "      <td>4</td>\n",
       "      <td>KBA13_ANTG4</td>\n",
       "      <td>0.117606</td>\n",
       "      <td>unknown</td>\n",
       "    </tr>\n",
       "    <tr>\n",
       "      <th>3</th>\n",
       "      <td>4</td>\n",
       "      <td>D19_GESAMT_ONLINE_QUOTE_12</td>\n",
       "      <td>0.117062</td>\n",
       "      <td>amount of online transactions within all trans...</td>\n",
       "    </tr>\n",
       "    <tr>\n",
       "      <th>4</th>\n",
       "      <td>4</td>\n",
       "      <td>KBA13_ANTG3</td>\n",
       "      <td>0.116970</td>\n",
       "      <td>unknown</td>\n",
       "    </tr>\n",
       "    <tr>\n",
       "      <th>5</th>\n",
       "      <td>4</td>\n",
       "      <td>D19_GESAMT_ONLINE_DATUM</td>\n",
       "      <td>-0.138316</td>\n",
       "      <td>actuality of the last transaction with the com...</td>\n",
       "    </tr>\n",
       "    <tr>\n",
       "      <th>6</th>\n",
       "      <td>4</td>\n",
       "      <td>VK_ZG11</td>\n",
       "      <td>-0.146036</td>\n",
       "      <td>unknown</td>\n",
       "    </tr>\n",
       "    <tr>\n",
       "      <th>7</th>\n",
       "      <td>4</td>\n",
       "      <td>D19_KONSUMTYP</td>\n",
       "      <td>-0.150581</td>\n",
       "      <td>consumption type</td>\n",
       "    </tr>\n",
       "    <tr>\n",
       "      <th>8</th>\n",
       "      <td>4</td>\n",
       "      <td>D19_GESAMT_DATUM</td>\n",
       "      <td>-0.152219</td>\n",
       "      <td>actuality of the last transaction with the com...</td>\n",
       "    </tr>\n",
       "    <tr>\n",
       "      <th>9</th>\n",
       "      <td>4</td>\n",
       "      <td>VK_DISTANZ</td>\n",
       "      <td>-0.153777</td>\n",
       "      <td>unknown</td>\n",
       "    </tr>\n",
       "    <tr>\n",
       "      <th>10</th>\n",
       "      <td>8</td>\n",
       "      <td>KBA13_KMH_140_210</td>\n",
       "      <td>0.204518</td>\n",
       "      <td>share of cars with max speed between 140 and 2...</td>\n",
       "    </tr>\n",
       "    <tr>\n",
       "      <th>11</th>\n",
       "      <td>8</td>\n",
       "      <td>KBA13_CCM_1401_2500</td>\n",
       "      <td>0.176740</td>\n",
       "      <td>unknown</td>\n",
       "    </tr>\n",
       "    <tr>\n",
       "      <th>12</th>\n",
       "      <td>8</td>\n",
       "      <td>KBA13_ALTERHALTER_61</td>\n",
       "      <td>0.165377</td>\n",
       "      <td>share of car owners elder than 60 within the PLZ8</td>\n",
       "    </tr>\n",
       "    <tr>\n",
       "      <th>13</th>\n",
       "      <td>8</td>\n",
       "      <td>KBA13_HALTER_65</td>\n",
       "      <td>0.157145</td>\n",
       "      <td>share of car owners between 61 and 65 within t...</td>\n",
       "    </tr>\n",
       "    <tr>\n",
       "      <th>14</th>\n",
       "      <td>8</td>\n",
       "      <td>KBA13_SEG_VAN</td>\n",
       "      <td>0.149803</td>\n",
       "      <td>share of vans within the PLZ8</td>\n",
       "    </tr>\n",
       "    <tr>\n",
       "      <th>15</th>\n",
       "      <td>8</td>\n",
       "      <td>KBA13_KMH_211</td>\n",
       "      <td>-0.142668</td>\n",
       "      <td>share of cars with a greater max speed than 21...</td>\n",
       "    </tr>\n",
       "    <tr>\n",
       "      <th>16</th>\n",
       "      <td>8</td>\n",
       "      <td>KBA13_KW_121</td>\n",
       "      <td>-0.144008</td>\n",
       "      <td>share of cars with an engine power of more tha...</td>\n",
       "    </tr>\n",
       "    <tr>\n",
       "      <th>17</th>\n",
       "      <td>8</td>\n",
       "      <td>KBA13_KMH_0_140</td>\n",
       "      <td>-0.149357</td>\n",
       "      <td>share of cars with max speed 140 km/h within t...</td>\n",
       "    </tr>\n",
       "    <tr>\n",
       "      <th>18</th>\n",
       "      <td>8</td>\n",
       "      <td>KBA13_KMH_110</td>\n",
       "      <td>-0.152984</td>\n",
       "      <td>share of cars with max speed 110 km/h within t...</td>\n",
       "    </tr>\n",
       "    <tr>\n",
       "      <th>19</th>\n",
       "      <td>8</td>\n",
       "      <td>KBA13_KW_30</td>\n",
       "      <td>-0.153647</td>\n",
       "      <td>share of cars up to 30 KW engine power - PLZ8</td>\n",
       "    </tr>\n",
       "  </tbody>\n",
       "</table>\n",
       "</div>"
      ],
      "text/plain": [
       "    Component                    Features    Weight  \\\n",
       "0           4           D19_GESAMT_ANZ_12  0.140064   \n",
       "1           4                    EWDICHTE  0.124501   \n",
       "2           4                 KBA13_ANTG4  0.117606   \n",
       "3           4  D19_GESAMT_ONLINE_QUOTE_12  0.117062   \n",
       "4           4                 KBA13_ANTG3  0.116970   \n",
       "5           4     D19_GESAMT_ONLINE_DATUM -0.138316   \n",
       "6           4                     VK_ZG11 -0.146036   \n",
       "7           4               D19_KONSUMTYP -0.150581   \n",
       "8           4            D19_GESAMT_DATUM -0.152219   \n",
       "9           4                  VK_DISTANZ -0.153777   \n",
       "10          8           KBA13_KMH_140_210  0.204518   \n",
       "11          8         KBA13_CCM_1401_2500  0.176740   \n",
       "12          8        KBA13_ALTERHALTER_61  0.165377   \n",
       "13          8             KBA13_HALTER_65  0.157145   \n",
       "14          8               KBA13_SEG_VAN  0.149803   \n",
       "15          8               KBA13_KMH_211 -0.142668   \n",
       "16          8                KBA13_KW_121 -0.144008   \n",
       "17          8             KBA13_KMH_0_140 -0.149357   \n",
       "18          8               KBA13_KMH_110 -0.152984   \n",
       "19          8                 KBA13_KW_30 -0.153647   \n",
       "\n",
       "                                         Descriptions  \n",
       "0                                             unknown  \n",
       "1         density of inhabitants per square kilometer  \n",
       "2                                             unknown  \n",
       "3   amount of online transactions within all trans...  \n",
       "4                                             unknown  \n",
       "5   actuality of the last transaction with the com...  \n",
       "6                                             unknown  \n",
       "7                                   consumption type   \n",
       "8   actuality of the last transaction with the com...  \n",
       "9                                             unknown  \n",
       "10  share of cars with max speed between 140 and 2...  \n",
       "11                                            unknown  \n",
       "12  share of car owners elder than 60 within the PLZ8  \n",
       "13  share of car owners between 61 and 65 within t...  \n",
       "14                      share of vans within the PLZ8  \n",
       "15  share of cars with a greater max speed than 21...  \n",
       "16  share of cars with an engine power of more tha...  \n",
       "17  share of cars with max speed 140 km/h within t...  \n",
       "18  share of cars with max speed 110 km/h within t...  \n",
       "19      share of cars up to 30 KW engine power - PLZ8  "
      ]
     },
     "execution_count": 232,
     "metadata": {},
     "output_type": "execute_result"
    }
   ],
   "source": [
    "cluster_5 = cluster_specs(model_k, 5, pca_model)\n",
    "cluster_5"
   ]
  },
  {
   "cell_type": "markdown",
   "metadata": {},
   "source": [
    "## Part 2: Supervised Learning Model\n",
    "\n",
    "Now that you've found which parts of the population are more likely to be customers of the mail-order company, it's time to build a prediction model. Each of the rows in the \"MAILOUT\" data files represents an individual that was targeted for a mailout campaign. Ideally, we should be able to use the demographic information from each individual to decide whether or not it will be worth it to include that person in the campaign.\n",
    "\n",
    "The \"MAILOUT\" data has been split into two approximately equal parts, each with almost 43 000 data rows. In this part, you can verify your model with the \"TRAIN\" partition, which includes a column, \"RESPONSE\", that states whether or not a person became a customer of the company following the campaign. In the next part, you'll need to create predictions on the \"TEST\" partition, where the \"RESPONSE\" column has been withheld."
   ]
  },
  {
   "cell_type": "code",
   "execution_count": 7,
   "metadata": {},
   "outputs": [
    {
     "name": "stderr",
     "output_type": "stream",
     "text": [
      "/opt/conda/lib/python3.6/site-packages/IPython/core/interactiveshell.py:2785: DtypeWarning: Columns (18,19) have mixed types. Specify dtype option on import or set low_memory=False.\n",
      "  interactivity=interactivity, compiler=compiler, result=result)\n"
     ]
    }
   ],
   "source": [
    "mailout_train = pd.read_csv('../../data/Term2/capstone/arvato_data/Udacity_MAILOUT_052018_TRAIN.csv', sep=';')"
   ]
  },
  {
   "cell_type": "code",
   "execution_count": 8,
   "metadata": {},
   "outputs": [],
   "source": [
    "x=mailout_train.drop('RESPONSE',axis=1)\n",
    "y=mailout_train['RESPONSE']"
   ]
  },
  {
   "cell_type": "code",
   "execution_count": 9,
   "metadata": {},
   "outputs": [],
   "source": [
    "x=Handle_category_values(x)"
   ]
  },
  {
   "cell_type": "code",
   "execution_count": 10,
   "metadata": {},
   "outputs": [
    {
     "name": "stdout",
     "output_type": "stream",
     "text": [
      "(42962, 366)\n",
      "(42962,)\n"
     ]
    }
   ],
   "source": [
    "print(x.shape)\n",
    "print(y.shape)"
   ]
  },
  {
   "cell_type": "code",
   "execution_count": 11,
   "metadata": {},
   "outputs": [
    {
     "name": "stdout",
     "output_type": "stream",
     "text": [
      "columns to drop :  ['ALTER_KIND1', 'ALTER_KIND2', 'ALTER_KIND3', 'ALTER_KIND4', 'EXTSEL992', 'KK_KUNDENTYP']\n"
     ]
    },
    {
     "data": {
      "text/html": [
       "<div>\n",
       "<style scoped>\n",
       "    .dataframe tbody tr th:only-of-type {\n",
       "        vertical-align: middle;\n",
       "    }\n",
       "\n",
       "    .dataframe tbody tr th {\n",
       "        vertical-align: top;\n",
       "    }\n",
       "\n",
       "    .dataframe thead th {\n",
       "        text-align: right;\n",
       "    }\n",
       "</style>\n",
       "<table border=\"1\" class=\"dataframe\">\n",
       "  <thead>\n",
       "    <tr style=\"text-align: right;\">\n",
       "      <th></th>\n",
       "      <th>LNR</th>\n",
       "      <th>AGER_TYP</th>\n",
       "      <th>AKT_DAT_KL</th>\n",
       "      <th>ALTER_HH</th>\n",
       "      <th>ALTERSKATEGORIE_FEIN</th>\n",
       "      <th>ANZ_HAUSHALTE_AKTIV</th>\n",
       "      <th>ANZ_HH_TITEL</th>\n",
       "      <th>ANZ_KINDER</th>\n",
       "      <th>ANZ_PERSONEN</th>\n",
       "      <th>ANZ_STATISTISCHE_HAUSHALTE</th>\n",
       "      <th>...</th>\n",
       "      <th>VHN</th>\n",
       "      <th>VK_DHT4A</th>\n",
       "      <th>VK_DISTANZ</th>\n",
       "      <th>VK_ZG11</th>\n",
       "      <th>W_KEIT_KIND_HH</th>\n",
       "      <th>WOHNDAUER_2008</th>\n",
       "      <th>WOHNLAGE</th>\n",
       "      <th>ZABEOTYP</th>\n",
       "      <th>ANREDE_KZ</th>\n",
       "      <th>ALTERSKATEGORIE_GROB</th>\n",
       "    </tr>\n",
       "  </thead>\n",
       "  <tbody>\n",
       "    <tr>\n",
       "      <th>0</th>\n",
       "      <td>1763</td>\n",
       "      <td>2</td>\n",
       "      <td>1.0</td>\n",
       "      <td>8.0</td>\n",
       "      <td>8.0</td>\n",
       "      <td>15.0</td>\n",
       "      <td>0.0</td>\n",
       "      <td>0.0</td>\n",
       "      <td>1.0</td>\n",
       "      <td>13.0</td>\n",
       "      <td>...</td>\n",
       "      <td>2.0</td>\n",
       "      <td>5.0</td>\n",
       "      <td>2.0</td>\n",
       "      <td>1.0</td>\n",
       "      <td>6.0</td>\n",
       "      <td>9.0</td>\n",
       "      <td>3.0</td>\n",
       "      <td>3</td>\n",
       "      <td>2</td>\n",
       "      <td>4</td>\n",
       "    </tr>\n",
       "    <tr>\n",
       "      <th>1</th>\n",
       "      <td>1771</td>\n",
       "      <td>1</td>\n",
       "      <td>4.0</td>\n",
       "      <td>13.0</td>\n",
       "      <td>13.0</td>\n",
       "      <td>1.0</td>\n",
       "      <td>0.0</td>\n",
       "      <td>0.0</td>\n",
       "      <td>2.0</td>\n",
       "      <td>1.0</td>\n",
       "      <td>...</td>\n",
       "      <td>3.0</td>\n",
       "      <td>1.0</td>\n",
       "      <td>2.0</td>\n",
       "      <td>1.0</td>\n",
       "      <td>4.0</td>\n",
       "      <td>9.0</td>\n",
       "      <td>7.0</td>\n",
       "      <td>1</td>\n",
       "      <td>2</td>\n",
       "      <td>3</td>\n",
       "    </tr>\n",
       "    <tr>\n",
       "      <th>2</th>\n",
       "      <td>1776</td>\n",
       "      <td>1</td>\n",
       "      <td>1.0</td>\n",
       "      <td>9.0</td>\n",
       "      <td>7.0</td>\n",
       "      <td>0.0</td>\n",
       "      <td>NaN</td>\n",
       "      <td>0.0</td>\n",
       "      <td>0.0</td>\n",
       "      <td>1.0</td>\n",
       "      <td>...</td>\n",
       "      <td>1.0</td>\n",
       "      <td>6.0</td>\n",
       "      <td>4.0</td>\n",
       "      <td>2.0</td>\n",
       "      <td>NaN</td>\n",
       "      <td>9.0</td>\n",
       "      <td>2.0</td>\n",
       "      <td>3</td>\n",
       "      <td>1</td>\n",
       "      <td>4</td>\n",
       "    </tr>\n",
       "    <tr>\n",
       "      <th>3</th>\n",
       "      <td>1460</td>\n",
       "      <td>2</td>\n",
       "      <td>1.0</td>\n",
       "      <td>6.0</td>\n",
       "      <td>6.0</td>\n",
       "      <td>4.0</td>\n",
       "      <td>0.0</td>\n",
       "      <td>0.0</td>\n",
       "      <td>2.0</td>\n",
       "      <td>4.0</td>\n",
       "      <td>...</td>\n",
       "      <td>4.0</td>\n",
       "      <td>8.0</td>\n",
       "      <td>11.0</td>\n",
       "      <td>11.0</td>\n",
       "      <td>6.0</td>\n",
       "      <td>9.0</td>\n",
       "      <td>1.0</td>\n",
       "      <td>3</td>\n",
       "      <td>2</td>\n",
       "      <td>4</td>\n",
       "    </tr>\n",
       "    <tr>\n",
       "      <th>4</th>\n",
       "      <td>1783</td>\n",
       "      <td>2</td>\n",
       "      <td>1.0</td>\n",
       "      <td>9.0</td>\n",
       "      <td>9.0</td>\n",
       "      <td>53.0</td>\n",
       "      <td>0.0</td>\n",
       "      <td>0.0</td>\n",
       "      <td>1.0</td>\n",
       "      <td>44.0</td>\n",
       "      <td>...</td>\n",
       "      <td>4.0</td>\n",
       "      <td>2.0</td>\n",
       "      <td>2.0</td>\n",
       "      <td>1.0</td>\n",
       "      <td>6.0</td>\n",
       "      <td>9.0</td>\n",
       "      <td>3.0</td>\n",
       "      <td>3</td>\n",
       "      <td>1</td>\n",
       "      <td>3</td>\n",
       "    </tr>\n",
       "  </tbody>\n",
       "</table>\n",
       "<p>5 rows × 357 columns</p>\n",
       "</div>"
      ],
      "text/plain": [
       "    LNR  AGER_TYP  AKT_DAT_KL  ALTER_HH  ALTERSKATEGORIE_FEIN  \\\n",
       "0  1763         2         1.0       8.0                   8.0   \n",
       "1  1771         1         4.0      13.0                  13.0   \n",
       "2  1776         1         1.0       9.0                   7.0   \n",
       "3  1460         2         1.0       6.0                   6.0   \n",
       "4  1783         2         1.0       9.0                   9.0   \n",
       "\n",
       "   ANZ_HAUSHALTE_AKTIV  ANZ_HH_TITEL  ANZ_KINDER  ANZ_PERSONEN  \\\n",
       "0                 15.0           0.0         0.0           1.0   \n",
       "1                  1.0           0.0         0.0           2.0   \n",
       "2                  0.0           NaN         0.0           0.0   \n",
       "3                  4.0           0.0         0.0           2.0   \n",
       "4                 53.0           0.0         0.0           1.0   \n",
       "\n",
       "   ANZ_STATISTISCHE_HAUSHALTE          ...           VHN  VK_DHT4A  \\\n",
       "0                        13.0          ...           2.0       5.0   \n",
       "1                         1.0          ...           3.0       1.0   \n",
       "2                         1.0          ...           1.0       6.0   \n",
       "3                         4.0          ...           4.0       8.0   \n",
       "4                        44.0          ...           4.0       2.0   \n",
       "\n",
       "   VK_DISTANZ  VK_ZG11  W_KEIT_KIND_HH  WOHNDAUER_2008  WOHNLAGE  ZABEOTYP  \\\n",
       "0         2.0      1.0             6.0             9.0       3.0         3   \n",
       "1         2.0      1.0             4.0             9.0       7.0         1   \n",
       "2         4.0      2.0             NaN             9.0       2.0         3   \n",
       "3        11.0     11.0             6.0             9.0       1.0         3   \n",
       "4         2.0      1.0             6.0             9.0       3.0         3   \n",
       "\n",
       "   ANREDE_KZ  ALTERSKATEGORIE_GROB  \n",
       "0          2                     4  \n",
       "1          2                     3  \n",
       "2          1                     4  \n",
       "3          2                     4  \n",
       "4          1                     3  \n",
       "\n",
       "[5 rows x 357 columns]"
      ]
     },
     "execution_count": 11,
     "metadata": {},
     "output_type": "execute_result"
    }
   ],
   "source": [
    "x=Cleaning_dataframe(x,azdias=False,cust=False)\n",
    "x.head(5)"
   ]
  },
  {
   "cell_type": "code",
   "execution_count": 12,
   "metadata": {},
   "outputs": [],
   "source": [
    "x=x.drop('LNR',axis=1)"
   ]
  },
  {
   "cell_type": "code",
   "execution_count": 13,
   "metadata": {},
   "outputs": [
    {
     "name": "stdout",
     "output_type": "stream",
     "text": [
      "(42962, 356)\n",
      "(42962,)\n"
     ]
    }
   ],
   "source": [
    "print(x.shape)\n",
    "print(y.shape)"
   ]
  },
  {
   "cell_type": "code",
   "execution_count": 14,
   "metadata": {},
   "outputs": [
    {
     "data": {
      "text/plain": [
       "[]"
      ]
     },
     "execution_count": 14,
     "metadata": {},
     "output_type": "execute_result"
    }
   ],
   "source": [
    "cat_cols = list(x.select_dtypes(['object']).columns)\n",
    "cat_cols"
   ]
  },
  {
   "cell_type": "code",
   "execution_count": 16,
   "metadata": {},
   "outputs": [],
   "source": [
    "x = x.astype(float)"
   ]
  },
  {
   "cell_type": "code",
   "execution_count": 17,
   "metadata": {},
   "outputs": [
    {
     "name": "stdout",
     "output_type": "stream",
     "text": [
      "imputed mailout:     AGER_TYP  AKT_DAT_KL  ALTER_HH  ALTERSKATEGORIE_FEIN  ANZ_HAUSHALTE_AKTIV  \\\n",
      "0       2.0         1.0       8.0                   8.0                 15.0   \n",
      "1       1.0         4.0      13.0                  13.0                  1.0   \n",
      "2       1.0         1.0       9.0                   7.0                  0.0   \n",
      "3       2.0         1.0       6.0                   6.0                  4.0   \n",
      "4       2.0         1.0       9.0                   9.0                 53.0   \n",
      "\n",
      "   ANZ_HH_TITEL  ANZ_KINDER  ANZ_PERSONEN  ANZ_STATISTISCHE_HAUSHALTE  \\\n",
      "0           0.0         0.0           1.0                        13.0   \n",
      "1           0.0         0.0           2.0                         1.0   \n",
      "2           0.0         0.0           0.0                         1.0   \n",
      "3           0.0         0.0           2.0                         4.0   \n",
      "4           0.0         0.0           1.0                        44.0   \n",
      "\n",
      "   ANZ_TITEL          ...           VHN  VK_DHT4A  VK_DISTANZ  VK_ZG11  \\\n",
      "0        0.0          ...           2.0       5.0         2.0      1.0   \n",
      "1        0.0          ...           3.0       1.0         2.0      1.0   \n",
      "2        0.0          ...           1.0       6.0         4.0      2.0   \n",
      "3        0.0          ...           4.0       8.0        11.0     11.0   \n",
      "4        0.0          ...           4.0       2.0         2.0      1.0   \n",
      "\n",
      "   W_KEIT_KIND_HH  WOHNDAUER_2008  WOHNLAGE  ZABEOTYP  ANREDE_KZ  \\\n",
      "0             6.0             9.0       3.0       3.0        2.0   \n",
      "1             4.0             9.0       7.0       1.0        2.0   \n",
      "2             6.0             9.0       2.0       3.0        1.0   \n",
      "3             6.0             9.0       1.0       3.0        2.0   \n",
      "4             6.0             9.0       3.0       3.0        1.0   \n",
      "\n",
      "   ALTERSKATEGORIE_GROB  \n",
      "0                   4.0  \n",
      "1                   3.0  \n",
      "2                   4.0  \n",
      "3                   4.0  \n",
      "4                   3.0  \n",
      "\n",
      "[5 rows x 356 columns]\n"
     ]
    }
   ],
   "source": [
    "imputer = Imputer(strategy='most_frequent')\n",
    "x_col=list(x.columns.values)\n",
    "x = imputer.fit_transform(x)\n",
    "x = pd.DataFrame(x,columns=x_col)\n",
    "print('imputed mailout: ', x.head(5))"
   ]
  },
  {
   "cell_type": "code",
   "execution_count": 18,
   "metadata": {},
   "outputs": [],
   "source": [
    "corr_matrix = x.corr().abs()\n",
    "upper = corr_matrix.where(np.triu(np.ones(corr_matrix.shape), k=1).astype(np.bool))\n",
    "to_drop = [column for column in upper.columns if any(upper[column] > 0.9)]\n",
    "x=x.drop(to_drop,axis=1)"
   ]
  },
  {
   "cell_type": "code",
   "execution_count": 19,
   "metadata": {},
   "outputs": [],
   "source": [
    "#normalize data\n",
    "scaler=StandardScaler()\n",
    "x=pd.DataFrame(scaler.fit_transform(x.astype(float)))"
   ]
  },
  {
   "cell_type": "code",
   "execution_count": 20,
   "metadata": {},
   "outputs": [],
   "source": [
    "x.to_pickle('mailout_train_features.pickle')\n",
    "y.to_pickle('mailout_train_labels.pickle')"
   ]
  },
  {
   "cell_type": "code",
   "execution_count": 5,
   "metadata": {},
   "outputs": [],
   "source": [
    "x=pd.read_pickle('mailout_train_features.pickle')\n",
    "y=pd.read_pickle('mailout_train_labels.pickle')"
   ]
  },
  {
   "cell_type": "code",
   "execution_count": 6,
   "metadata": {
    "scrolled": true
   },
   "outputs": [
    {
     "name": "stdout",
     "output_type": "stream",
     "text": [
      "(42962, 333)\n",
      "(42962,)\n"
     ]
    }
   ],
   "source": [
    "print(x.shape)\n",
    "print(y.shape)"
   ]
  },
  {
   "cell_type": "code",
   "execution_count": 7,
   "metadata": {},
   "outputs": [
    {
     "data": {
      "image/png": "[encoded data removed]",
      "text/plain": [
       "<matplotlib.figure.Figure at 0x7f6bc06d3b00>"
      ]
     },
     "metadata": {
      "needs_background": "light"
     },
     "output_type": "display_data"
    }
   ],
   "source": [
    "y.value_counts().plot.bar();"
   ]
  },
  {
   "cell_type": "code",
   "execution_count": 24,
   "metadata": {},
   "outputs": [
    {
     "data": {
      "text/plain": [
       "0    42430\n",
       "1      532\n",
       "Name: RESPONSE, dtype: int64"
      ]
     },
     "execution_count": 24,
     "metadata": {},
     "output_type": "execute_result"
    }
   ],
   "source": [
    "y.value_counts()"
   ]
  },
  {
   "cell_type": "code",
   "execution_count": 8,
   "metadata": {},
   "outputs": [],
   "source": [
    "random = RandomForestClassifier()\n",
    "logreg = LogisticRegression()\n",
    "abc = AdaBoostClassifier()\n",
    "gbc = GradientBoostingClassifier()\n",
    "gnb=GaussianNB()"
   ]
  },
  {
   "cell_type": "code",
   "execution_count": 26,
   "metadata": {},
   "outputs": [
    {
     "name": "stdout",
     "output_type": "stream",
     "text": [
      "Fitting 5 folds for each of 1 candidates, totalling 5 fits\n",
      "[CV]  ................................................................\n",
      "[CV] ....................... , score=0.5201458807359455, total=   1.5s\n",
      "[CV]  ................................................................\n"
     ]
    },
    {
     "name": "stderr",
     "output_type": "stream",
     "text": [
      "[Parallel(n_jobs=-1)]: Done   1 out of   1 | elapsed:    1.6s remaining:    0.0s\n"
     ]
    },
    {
     "name": "stdout",
     "output_type": "stream",
     "text": [
      "[CV] ....................... , score=0.4920066255360671, total=   1.5s\n",
      "[CV]  ................................................................\n"
     ]
    },
    {
     "name": "stderr",
     "output_type": "stream",
     "text": [
      "[Parallel(n_jobs=-1)]: Done   2 out of   2 | elapsed:    3.3s remaining:    0.0s\n"
     ]
    },
    {
     "name": "stdout",
     "output_type": "stream",
     "text": [
      "[CV] ....................... , score=0.4915988153629285, total=   1.5s\n",
      "[CV]  ................................................................\n",
      "[CV] ....................... , score=0.5177267552772824, total=   1.6s\n",
      "[CV]  ................................................................\n",
      "[CV] ....................... , score=0.5551407645889567, total=   1.5s\n"
     ]
    },
    {
     "name": "stderr",
     "output_type": "stream",
     "text": [
      "[Parallel(n_jobs=-1)]: Done   5 out of   5 | elapsed:    8.2s finished\n"
     ]
    },
    {
     "name": "stdout",
     "output_type": "stream",
     "text": [
      "RandomForestClassifier(bootstrap=True, class_weight=None, criterion='gini',\n",
      "            max_depth=None, max_features='auto', max_leaf_nodes=None,\n",
      "            min_impurity_decrease=0.0, min_impurity_split=None,\n",
      "            min_samples_leaf=1, min_samples_split=2,\n",
      "            min_weight_fraction_leaf=0.0, n_estimators=10, n_jobs=1,\n",
      "            oob_score=False, random_state=None, verbose=0,\n",
      "            warm_start=False) \n",
      " 0.515323337803 \n",
      " 10\n",
      "Fitting 5 folds for each of 1 candidates, totalling 5 fits\n",
      "[CV]  ................................................................\n",
      "[CV] ....................... , score=0.6419974845870382, total=  10.4s\n",
      "[CV]  ................................................................\n"
     ]
    },
    {
     "name": "stderr",
     "output_type": "stream",
     "text": [
      "[Parallel(n_jobs=-1)]: Done   1 out of   1 | elapsed:   10.4s remaining:    0.0s\n"
     ]
    },
    {
     "name": "stdout",
     "output_type": "stream",
     "text": [
      "[CV] ....................... , score=0.6572496536351242, total=   9.5s\n",
      "[CV]  ................................................................\n"
     ]
    },
    {
     "name": "stderr",
     "output_type": "stream",
     "text": [
      "[Parallel(n_jobs=-1)]: Done   2 out of   2 | elapsed:   20.0s remaining:    0.0s\n"
     ]
    },
    {
     "name": "stdout",
     "output_type": "stream",
     "text": [
      "[CV] ....................... , score=0.6908682002321249, total=   9.3s\n",
      "[CV]  ................................................................\n",
      "[CV] ....................... , score=0.6693116075756296, total=   9.6s\n",
      "[CV]  ................................................................\n",
      "[CV] ....................... , score=0.6750168979762451, total=   9.7s\n"
     ]
    },
    {
     "name": "stderr",
     "output_type": "stream",
     "text": [
      "[Parallel(n_jobs=-1)]: Done   5 out of   5 | elapsed:   48.8s finished\n"
     ]
    },
    {
     "name": "stdout",
     "output_type": "stream",
     "text": [
      "LogisticRegression(C=1.0, class_weight=None, dual=False, fit_intercept=True,\n",
      "          intercept_scaling=1, max_iter=100, multi_class='ovr', n_jobs=1,\n",
      "          penalty='l2', random_state=None, solver='liblinear', tol=0.0001,\n",
      "          verbose=0, warm_start=False) \n",
      " 0.666887965058 \n",
      " 61\n",
      "Fitting 5 folds for each of 1 candidates, totalling 5 fits\n",
      "[CV]  ................................................................\n",
      "[CV] ....................... , score=0.7052467946105845, total=  14.5s\n",
      "[CV]  ................................................................\n"
     ]
    },
    {
     "name": "stderr",
     "output_type": "stream",
     "text": [
      "[Parallel(n_jobs=-1)]: Done   1 out of   1 | elapsed:   15.1s remaining:    0.0s\n"
     ]
    },
    {
     "name": "stdout",
     "output_type": "stream",
     "text": [
      "[CV] ....................... , score=0.7235766000515417, total=  14.7s\n",
      "[CV]  ................................................................\n"
     ]
    },
    {
     "name": "stderr",
     "output_type": "stream",
     "text": [
      "[Parallel(n_jobs=-1)]: Done   2 out of   2 | elapsed:   30.3s remaining:    0.0s\n"
     ]
    },
    {
     "name": "stdout",
     "output_type": "stream",
     "text": [
      "[CV] ....................... , score=0.7862233690117797, total=  14.6s\n",
      "[CV]  ................................................................\n",
      "[CV] ....................... , score=0.7212034027187953, total=  14.8s\n",
      "[CV]  ................................................................\n",
      "[CV] ....................... , score=0.7286857598975449, total=  14.5s\n"
     ]
    },
    {
     "name": "stderr",
     "output_type": "stream",
     "text": [
      "[Parallel(n_jobs=-1)]: Done   5 out of   5 | elapsed:  1.3min finished\n"
     ]
    },
    {
     "name": "stdout",
     "output_type": "stream",
     "text": [
      "AdaBoostClassifier(algorithm='SAMME.R', base_estimator=None,\n",
      "          learning_rate=1.0, n_estimators=50, random_state=None) \n",
      " 0.732986320518 \n",
      " 95\n",
      "Fitting 5 folds for each of 1 candidates, totalling 5 fits\n",
      "[CV]  ................................................................\n",
      "[CV] ....................... , score=0.7230281431098169, total=  43.1s\n",
      "[CV]  ................................................................\n"
     ]
    },
    {
     "name": "stderr",
     "output_type": "stream",
     "text": [
      "[Parallel(n_jobs=-1)]: Done   1 out of   1 | elapsed:   43.3s remaining:    0.0s\n"
     ]
    },
    {
     "name": "stdout",
     "output_type": "stream",
     "text": [
      "[CV] ....................... , score=0.7272412395567411, total=  43.7s\n",
      "[CV]  ................................................................\n"
     ]
    },
    {
     "name": "stderr",
     "output_type": "stream",
     "text": [
      "[Parallel(n_jobs=-1)]: Done   2 out of   2 | elapsed:  1.5min remaining:    0.0s\n"
     ]
    },
    {
     "name": "stdout",
     "output_type": "stream",
     "text": [
      "[CV] ....................... , score=0.7968785435723211, total=  43.2s\n",
      "[CV]  ................................................................\n",
      "[CV] ....................... , score=0.7510122110112549, total=  42.5s\n",
      "[CV]  ................................................................\n",
      "[CV] ....................... , score=0.7557019552737249, total=  42.9s\n"
     ]
    },
    {
     "name": "stderr",
     "output_type": "stream",
     "text": [
      "[Parallel(n_jobs=-1)]: Done   5 out of   5 | elapsed:  3.6min finished\n"
     ]
    },
    {
     "name": "stdout",
     "output_type": "stream",
     "text": [
      "GradientBoostingClassifier(criterion='friedman_mse', init=None,\n",
      "              learning_rate=0.1, loss='deviance', max_depth=3,\n",
      "              max_features=None, max_leaf_nodes=None,\n",
      "              min_impurity_decrease=0.0, min_impurity_split=None,\n",
      "              min_samples_leaf=1, min_samples_split=2,\n",
      "              min_weight_fraction_leaf=0.0, n_estimators=100,\n",
      "              presort='auto', random_state=None, subsample=1.0, verbose=0,\n",
      "              warm_start=False) \n",
      " 0.750771224998 \n",
      " 271\n",
      "Fitting 5 folds for each of 1 candidates, totalling 5 fits\n",
      "[CV]  ................................................................\n",
      "[CV] ....................... , score=0.5782178893879087, total=   0.4s\n",
      "[CV]  ................................................................\n"
     ]
    },
    {
     "name": "stderr",
     "output_type": "stream",
     "text": [
      "[Parallel(n_jobs=-1)]: Done   1 out of   1 | elapsed:    0.8s remaining:    0.0s\n"
     ]
    },
    {
     "name": "stdout",
     "output_type": "stream",
     "text": [
      "[CV] ....................... , score=0.5933874594989879, total=   0.4s\n",
      "[CV]  ................................................................\n"
     ]
    },
    {
     "name": "stderr",
     "output_type": "stream",
     "text": [
      "[Parallel(n_jobs=-1)]: Done   2 out of   2 | elapsed:    1.6s remaining:    0.0s\n"
     ]
    },
    {
     "name": "stdout",
     "output_type": "stream",
     "text": [
      "[CV] ........................ , score=0.663909813722046, total=   0.4s\n",
      "[CV]  ................................................................\n",
      "[CV] ....................... , score=0.5988614988504929, total=   0.4s\n",
      "[CV]  ................................................................\n",
      "[CV] ....................... , score=0.6243357538943164, total=   0.4s\n"
     ]
    },
    {
     "name": "stderr",
     "output_type": "stream",
     "text": [
      "[Parallel(n_jobs=-1)]: Done   5 out of   5 | elapsed:    4.1s finished\n"
     ]
    },
    {
     "name": "stdout",
     "output_type": "stream",
     "text": [
      "GaussianNB(priors=None) \n",
      " 0.611741275501 \n",
      " 4\n"
     ]
    }
   ],
   "source": [
    "class_list = [random,logreg,abc,gbc,gnb]\n",
    "for model in class_list:\n",
    "        start = time.time()\n",
    "        grid = GridSearchCV(estimator=model, param_grid={}, scoring='roc_auc', cv=5, n_jobs=-1,verbose=3)\n",
    "        grid.fit(x, y)\n",
    "        end = time.time()\n",
    "        print(model, '\\n', grid.best_score_,'\\n', round(end-start))"
   ]
  },
  {
   "cell_type": "code",
   "execution_count": 27,
   "metadata": {
    "scrolled": true
   },
   "outputs": [
    {
     "name": "stdout",
     "output_type": "stream",
     "text": [
      "Fitting 3 folds for each of 9 candidates, totalling 27 fits\n",
      "[CV] learning_rate=0.01, n_estimators=50 .............................\n",
      "[CV]  learning_rate=0.01, n_estimators=50, score=0.765464730349789, total=  12.0s\n",
      "[CV] learning_rate=0.01, n_estimators=50 .............................\n"
     ]
    },
    {
     "name": "stderr",
     "output_type": "stream",
     "text": [
      "[Parallel(n_jobs=-1)]: Done   1 out of   1 | elapsed:   12.4s remaining:    0.0s\n"
     ]
    },
    {
     "name": "stdout",
     "output_type": "stream",
     "text": [
      "[CV]  learning_rate=0.01, n_estimators=50, score=0.756008742022066, total=  11.9s\n",
      "[CV] learning_rate=0.01, n_estimators=50 .............................\n"
     ]
    },
    {
     "name": "stderr",
     "output_type": "stream",
     "text": [
      "[Parallel(n_jobs=-1)]: Done   2 out of   2 | elapsed:   24.7s remaining:    0.0s\n"
     ]
    },
    {
     "name": "stdout",
     "output_type": "stream",
     "text": [
      "[CV]  learning_rate=0.01, n_estimators=50, score=0.7402933554800023, total=  11.9s\n",
      "[CV] learning_rate=0.01, n_estimators=100 ............................\n",
      "[CV]  learning_rate=0.01, n_estimators=100, score=0.7646111504779094, total=  24.2s\n",
      "[CV] learning_rate=0.01, n_estimators=100 ............................\n",
      "[CV]  learning_rate=0.01, n_estimators=100, score=0.756008742022066, total=  23.7s\n",
      "[CV] learning_rate=0.01, n_estimators=100 ............................\n",
      "[CV]  learning_rate=0.01, n_estimators=100, score=0.754812925761122, total=  24.0s\n",
      "[CV] learning_rate=0.01, n_estimators=150 ............................\n",
      "[CV]  learning_rate=0.01, n_estimators=150, score=0.7646111504779094, total=  35.7s\n",
      "[CV] learning_rate=0.01, n_estimators=150 ............................\n",
      "[CV]  learning_rate=0.01, n_estimators=150, score=0.7564166018525066, total=  35.7s\n",
      "[CV] learning_rate=0.01, n_estimators=150 ............................\n",
      "[CV]  learning_rate=0.01, n_estimators=150, score=0.7562176653240449, total=  35.7s\n",
      "[CV] learning_rate=0.1, n_estimators=50 ..............................\n",
      "[CV]  learning_rate=0.1, n_estimators=50, score=0.7623177255452742, total=  11.9s\n",
      "[CV] learning_rate=0.1, n_estimators=50 ..............................\n",
      "[CV]  learning_rate=0.1, n_estimators=50, score=0.7652225392689922, total=  12.0s\n",
      "[CV] learning_rate=0.1, n_estimators=50 ..............................\n",
      "[CV]  learning_rate=0.1, n_estimators=50, score=0.7658776716117175, total=  11.9s\n",
      "[CV] learning_rate=0.1, n_estimators=100 .............................\n",
      "[CV]  learning_rate=0.1, n_estimators=100, score=0.7644246657176267, total=  23.7s\n",
      "[CV] learning_rate=0.1, n_estimators=100 .............................\n",
      "[CV]  learning_rate=0.1, n_estimators=100, score=0.7558873028560973, total=  24.0s\n",
      "[CV] learning_rate=0.1, n_estimators=100 .............................\n",
      "[CV]  learning_rate=0.1, n_estimators=100, score=0.7471470784093546, total=  23.7s\n",
      "[CV] learning_rate=0.1, n_estimators=150 .............................\n",
      "[CV]  learning_rate=0.1, n_estimators=150, score=0.7639404805785754, total=  35.7s\n",
      "[CV] learning_rate=0.1, n_estimators=150 .............................\n",
      "[CV]  learning_rate=0.1, n_estimators=150, score=0.7502733379911646, total=  35.5s\n",
      "[CV] learning_rate=0.1, n_estimators=150 .............................\n",
      "[CV]  learning_rate=0.1, n_estimators=150, score=0.7488256553021179, total=  35.4s\n",
      "[CV] learning_rate=1.0, n_estimators=50 ..............................\n",
      "[CV]  learning_rate=1.0, n_estimators=50, score=0.742054637055773, total=  12.1s\n",
      "[CV] learning_rate=1.0, n_estimators=50 ..............................\n",
      "[CV]  learning_rate=1.0, n_estimators=50, score=0.7040739244943995, total=  12.0s\n",
      "[CV] learning_rate=1.0, n_estimators=50 ..............................\n",
      "[CV]  learning_rate=1.0, n_estimators=50, score=0.7197475663231616, total=  11.9s\n",
      "[CV] learning_rate=1.0, n_estimators=100 .............................\n",
      "[CV]  learning_rate=1.0, n_estimators=100, score=0.7352764423076923, total=  24.1s\n",
      "[CV] learning_rate=1.0, n_estimators=100 .............................\n",
      "[CV]  learning_rate=1.0, n_estimators=100, score=0.6942994697822205, total=  23.6s\n",
      "[CV] learning_rate=1.0, n_estimators=100 .............................\n",
      "[CV]  learning_rate=1.0, n_estimators=100, score=0.7239537955931166, total=  23.8s\n",
      "[CV] learning_rate=1.0, n_estimators=150 .............................\n",
      "[CV]  learning_rate=1.0, n_estimators=150, score=0.7270347691799277, total=  35.5s\n",
      "[CV] learning_rate=1.0, n_estimators=150 .............................\n",
      "[CV]  learning_rate=1.0, n_estimators=150, score=0.7102379608446574, total=  35.6s\n",
      "[CV] learning_rate=1.0, n_estimators=150 .............................\n",
      "[CV]  learning_rate=1.0, n_estimators=150, score=0.7109556103896, total=  35.3s\n"
     ]
    },
    {
     "name": "stderr",
     "output_type": "stream",
     "text": [
      "[Parallel(n_jobs=-1)]: Done  27 out of  27 | elapsed: 11.1min finished\n"
     ]
    },
    {
     "name": "stdout",
     "output_type": "stream",
     "text": [
      "0.764472545158 AdaBoostClassifier(algorithm='SAMME.R', base_estimator=None,\n",
      "          learning_rate=0.1, n_estimators=50, random_state=None)\n"
     ]
    }
   ],
   "source": [
    "param_grid = {'learning_rate': [0.01, 0.1,1.0],\n",
    "              'n_estimators': [50,100,150]}\n",
    "kfold = StratifiedKFold(n_splits=3, shuffle=True, random_state=1)\n",
    "\n",
    "best = GridSearchCV(estimator=AdaBoostClassifier(), param_grid=param_grid, scoring='roc_auc', cv=kfold, n_jobs=-1,verbose=3)\n",
    "best.fit(x, y)\n",
    "\n",
    "print(best.best_score_,best.best_estimator_)"
   ]
  },
  {
   "cell_type": "code",
   "execution_count": 9,
   "metadata": {
    "scrolled": true
   },
   "outputs": [
    {
     "name": "stdout",
     "output_type": "stream",
     "text": [
      "Fitting 3 folds for each of 36 candidates, totalling 108 fits\n",
      "[CV] learning_rate=0.01, max_depth=3, min_samples_split=2, n_estimators=50 \n",
      "[CV]  learning_rate=0.01, max_depth=3, min_samples_split=2, n_estimators=50, score=0.7408211366871726, total=  20.7s\n",
      "[CV] learning_rate=0.01, max_depth=3, min_samples_split=2, n_estimators=50 \n"
     ]
    },
    {
     "name": "stderr",
     "output_type": "stream",
     "text": [
      "[Parallel(n_jobs=-1)]: Done   1 out of   1 | elapsed:   20.8s remaining:    0.0s\n"
     ]
    },
    {
     "name": "stdout",
     "output_type": "stream",
     "text": [
      "[CV]  learning_rate=0.01, max_depth=3, min_samples_split=2, n_estimators=50, score=0.7755450681117927, total=  20.8s\n",
      "[CV] learning_rate=0.01, max_depth=3, min_samples_split=2, n_estimators=50 \n"
     ]
    },
    {
     "name": "stderr",
     "output_type": "stream",
     "text": [
      "[Parallel(n_jobs=-1)]: Done   2 out of   2 | elapsed:   41.7s remaining:    0.0s\n"
     ]
    },
    {
     "name": "stdout",
     "output_type": "stream",
     "text": [
      "[CV]  learning_rate=0.01, max_depth=3, min_samples_split=2, n_estimators=50, score=0.7499785284369381, total=  21.3s\n",
      "[CV] learning_rate=0.01, max_depth=3, min_samples_split=2, n_estimators=100 \n",
      "[CV]  learning_rate=0.01, max_depth=3, min_samples_split=2, n_estimators=100, score=0.7370838947074076, total=  41.4s\n",
      "[CV] learning_rate=0.01, max_depth=3, min_samples_split=2, n_estimators=100 \n",
      "[CV]  learning_rate=0.01, max_depth=3, min_samples_split=2, n_estimators=100, score=0.7870672081894738, total=  41.6s\n",
      "[CV] learning_rate=0.01, max_depth=3, min_samples_split=2, n_estimators=100 \n",
      "[CV]  learning_rate=0.01, max_depth=3, min_samples_split=2, n_estimators=100, score=0.7501017652221396, total=  41.8s\n",
      "[CV] learning_rate=0.01, max_depth=3, min_samples_split=2, n_estimators=150 \n",
      "[CV]  learning_rate=0.01, max_depth=3, min_samples_split=2, n_estimators=150, score=0.7396186178122934, total= 1.0min\n",
      "[CV] learning_rate=0.01, max_depth=3, min_samples_split=2, n_estimators=150 \n",
      "[CV]  learning_rate=0.01, max_depth=3, min_samples_split=2, n_estimators=150, score=0.7823995899830265, total= 1.0min\n",
      "[CV] learning_rate=0.01, max_depth=3, min_samples_split=2, n_estimators=150 \n",
      "[CV]  learning_rate=0.01, max_depth=3, min_samples_split=2, n_estimators=150, score=0.7501936435384976, total=  59.0s\n",
      "[CV] learning_rate=0.01, max_depth=3, min_samples_split=4, n_estimators=50 \n",
      "[CV]  learning_rate=0.01, max_depth=3, min_samples_split=4, n_estimators=50, score=0.7408211366871726, total=  20.9s\n",
      "[CV] learning_rate=0.01, max_depth=3, min_samples_split=4, n_estimators=50 \n",
      "[CV]  learning_rate=0.01, max_depth=3, min_samples_split=4, n_estimators=50, score=0.7755450681117927, total=  20.7s\n",
      "[CV] learning_rate=0.01, max_depth=3, min_samples_split=4, n_estimators=50 \n",
      "[CV]  learning_rate=0.01, max_depth=3, min_samples_split=4, n_estimators=50, score=0.7499785284369381, total=  21.5s\n",
      "[CV] learning_rate=0.01, max_depth=3, min_samples_split=4, n_estimators=100 \n",
      "[CV]  learning_rate=0.01, max_depth=3, min_samples_split=4, n_estimators=100, score=0.7370838947074076, total=  41.6s\n",
      "[CV] learning_rate=0.01, max_depth=3, min_samples_split=4, n_estimators=100 \n",
      "[CV]  learning_rate=0.01, max_depth=3, min_samples_split=4, n_estimators=100, score=0.7870672081894738, total=  41.8s\n",
      "[CV] learning_rate=0.01, max_depth=3, min_samples_split=4, n_estimators=100 \n",
      "[CV]  learning_rate=0.01, max_depth=3, min_samples_split=4, n_estimators=100, score=0.7501017652221396, total=  41.5s\n",
      "[CV] learning_rate=0.01, max_depth=3, min_samples_split=4, n_estimators=150 \n",
      "[CV]  learning_rate=0.01, max_depth=3, min_samples_split=4, n_estimators=150, score=0.7396186178122934, total= 1.0min\n",
      "[CV] learning_rate=0.01, max_depth=3, min_samples_split=4, n_estimators=150 \n",
      "[CV]  learning_rate=0.01, max_depth=3, min_samples_split=4, n_estimators=150, score=0.7823995899830265, total= 1.0min\n",
      "[CV] learning_rate=0.01, max_depth=3, min_samples_split=4, n_estimators=150 \n",
      "[CV]  learning_rate=0.01, max_depth=3, min_samples_split=4, n_estimators=150, score=0.7493441685831285, total=  58.8s\n",
      "[CV] learning_rate=0.01, max_depth=5, min_samples_split=2, n_estimators=50 \n",
      "[CV]  learning_rate=0.01, max_depth=5, min_samples_split=2, n_estimators=50, score=0.7468772243123697, total=  47.1s\n",
      "[CV] learning_rate=0.01, max_depth=5, min_samples_split=2, n_estimators=50 \n",
      "[CV]  learning_rate=0.01, max_depth=5, min_samples_split=2, n_estimators=50, score=0.7803936466543709, total=  45.4s\n",
      "[CV] learning_rate=0.01, max_depth=5, min_samples_split=2, n_estimators=50 \n",
      "[CV]  learning_rate=0.01, max_depth=5, min_samples_split=2, n_estimators=50, score=0.748684242589115, total=  51.4s\n",
      "[CV] learning_rate=0.01, max_depth=5, min_samples_split=2, n_estimators=100 \n",
      "[CV]  learning_rate=0.01, max_depth=5, min_samples_split=2, n_estimators=100, score=0.7437510724363212, total= 1.6min\n",
      "[CV] learning_rate=0.01, max_depth=5, min_samples_split=2, n_estimators=100 \n",
      "[CV]  learning_rate=0.01, max_depth=5, min_samples_split=2, n_estimators=100, score=0.7775657918652537, total= 1.6min\n",
      "[CV] learning_rate=0.01, max_depth=5, min_samples_split=2, n_estimators=100 \n",
      "[CV]  learning_rate=0.01, max_depth=5, min_samples_split=2, n_estimators=100, score=0.7443845371190396, total= 1.7min\n",
      "[CV] learning_rate=0.01, max_depth=5, min_samples_split=2, n_estimators=150 \n",
      "[CV]  learning_rate=0.01, max_depth=5, min_samples_split=2, n_estimators=150, score=0.7434178227795007, total= 2.4min\n",
      "[CV] learning_rate=0.01, max_depth=5, min_samples_split=2, n_estimators=150 \n",
      "[CV]  learning_rate=0.01, max_depth=5, min_samples_split=2, n_estimators=150, score=0.7766885536795068, total= 2.4min\n",
      "[CV] learning_rate=0.01, max_depth=5, min_samples_split=2, n_estimators=150 \n",
      "[CV]  learning_rate=0.01, max_depth=5, min_samples_split=4, n_estimators=50, score=0.7467640227006965, total=  47.1s\n",
      "[CV] learning_rate=0.01, max_depth=5, min_samples_split=4, n_estimators=50 \n",
      "[CV]  learning_rate=0.01, max_depth=5, min_samples_split=4, n_estimators=50, score=0.7804739403134489, total=  45.5s\n",
      "[CV] learning_rate=0.01, max_depth=5, min_samples_split=4, n_estimators=50 \n",
      "[CV]  learning_rate=0.01, max_depth=5, min_samples_split=4, n_estimators=50, score=0.7517118328485752, total=  50.9s\n",
      "[CV] learning_rate=0.01, max_depth=5, min_samples_split=4, n_estimators=100 \n",
      "[CV]  learning_rate=0.01, max_depth=5, min_samples_split=4, n_estimators=100, score=0.7439035967131019, total= 1.6min\n",
      "[CV] learning_rate=0.01, max_depth=5, min_samples_split=4, n_estimators=100 \n",
      "[CV]  learning_rate=0.01, max_depth=5, min_samples_split=4, n_estimators=100, score=0.7773620616855038, total= 1.6min\n",
      "[CV] learning_rate=0.01, max_depth=5, min_samples_split=4, n_estimators=100 \n",
      "[CV]  learning_rate=0.01, max_depth=5, min_samples_split=4, n_estimators=100, score=0.7462486682637515, total= 1.7min\n",
      "[CV] learning_rate=0.01, max_depth=5, min_samples_split=4, n_estimators=150 \n",
      "[CV]  learning_rate=0.01, max_depth=5, min_samples_split=4, n_estimators=150, score=0.7446211360516548, total= 2.4min\n",
      "[CV] learning_rate=0.01, max_depth=5, min_samples_split=4, n_estimators=150 \n",
      "[CV]  learning_rate=0.01, max_depth=5, min_samples_split=4, n_estimators=150, score=0.7786465604952801, total= 2.4min\n",
      "[CV] learning_rate=0.01, max_depth=5, min_samples_split=4, n_estimators=150 \n",
      "[CV]  learning_rate=0.01, max_depth=5, min_samples_split=4, n_estimators=150, score=0.7434260065968631, total= 2.5min\n",
      "[CV] learning_rate=0.1, max_depth=3, min_samples_split=2, n_estimators=50 \n",
      "[CV]  learning_rate=0.1, max_depth=3, min_samples_split=2, n_estimators=50, score=0.749957556212552, total=  17.9s\n",
      "[CV] learning_rate=0.1, max_depth=3, min_samples_split=2, n_estimators=100 \n",
      "[CV]  learning_rate=0.1, max_depth=3, min_samples_split=2, n_estimators=100, score=0.7427628422263461, total=  36.1s\n",
      "[CV] learning_rate=0.1, max_depth=3, min_samples_split=2, n_estimators=100 \n",
      "[CV]  learning_rate=0.1, max_depth=3, min_samples_split=2, n_estimators=100, score=0.7774205841783142, total=  35.2s\n",
      "[CV] learning_rate=0.1, max_depth=3, min_samples_split=2, n_estimators=100 \n",
      "[CV]  learning_rate=0.1, max_depth=3, min_samples_split=2, n_estimators=100, score=0.7479627980702358, total=  34.2s\n",
      "[CV] learning_rate=0.1, max_depth=3, min_samples_split=2, n_estimators=150 \n",
      "[CV]  learning_rate=0.1, max_depth=3, min_samples_split=2, n_estimators=150, score=0.7354440601326963, total=  52.5s\n",
      "[CV] learning_rate=0.1, max_depth=3, min_samples_split=2, n_estimators=150 \n",
      "[CV]  learning_rate=0.1, max_depth=3, min_samples_split=2, n_estimators=150, score=0.7635653340715556, total=  51.5s\n",
      "[CV] learning_rate=0.1, max_depth=3, min_samples_split=2, n_estimators=150 \n",
      "[CV]  learning_rate=0.1, max_depth=3, min_samples_split=2, n_estimators=150, score=0.7447854062080181, total=  50.4s\n",
      "[CV] learning_rate=0.1, max_depth=3, min_samples_split=4, n_estimators=50 \n",
      "[CV]  learning_rate=0.1, max_depth=3, min_samples_split=4, n_estimators=50, score=0.7443081435253445, total=  18.9s\n",
      "[CV] learning_rate=0.1, max_depth=3, min_samples_split=4, n_estimators=50 \n",
      "[CV]  learning_rate=0.1, max_depth=3, min_samples_split=4, n_estimators=50, score=0.7812812710845757, total=  19.0s\n",
      "[CV] learning_rate=0.1, max_depth=3, min_samples_split=4, n_estimators=50 \n",
      "[CV]  learning_rate=0.1, max_depth=3, min_samples_split=4, n_estimators=50, score=0.7513431211703221, total=  17.8s\n",
      "[CV] learning_rate=0.1, max_depth=3, min_samples_split=4, n_estimators=100 \n"
     ]
    },
    {
     "name": "stdout",
     "output_type": "stream",
     "text": [
      "[CV]  learning_rate=0.1, max_depth=3, min_samples_split=4, n_estimators=100, score=0.7358688640754486, total=  35.6s\n",
      "[CV] learning_rate=0.1, max_depth=3, min_samples_split=4, n_estimators=100 \n",
      "[CV]  learning_rate=0.1, max_depth=3, min_samples_split=4, n_estimators=100, score=0.7763226382978383, total=  35.8s\n",
      "[CV] learning_rate=0.1, max_depth=3, min_samples_split=4, n_estimators=100 \n",
      "[CV]  learning_rate=0.1, max_depth=3, min_samples_split=4, n_estimators=100, score=0.7442750820812917, total=  34.1s\n",
      "[CV] learning_rate=0.1, max_depth=3, min_samples_split=4, n_estimators=150 \n",
      "[CV]  learning_rate=0.1, max_depth=3, min_samples_split=4, n_estimators=150, score=0.7325198837637907, total=  52.7s\n",
      "[CV] learning_rate=0.1, max_depth=3, min_samples_split=4, n_estimators=150 \n",
      "[CV]  learning_rate=0.1, max_depth=3, min_samples_split=4, n_estimators=150, score=0.7691617222150985, total=  53.7s\n",
      "[CV] learning_rate=0.1, max_depth=3, min_samples_split=4, n_estimators=150 \n",
      "[CV]  learning_rate=0.1, max_depth=3, min_samples_split=4, n_estimators=150, score=0.7376516541492447, total=  49.8s\n",
      "[CV] learning_rate=0.1, max_depth=5, min_samples_split=2, n_estimators=50 \n",
      "[CV]  learning_rate=0.1, max_depth=5, min_samples_split=2, n_estimators=50, score=0.7301293437642993, total=  49.2s\n",
      "[CV] learning_rate=0.1, max_depth=5, min_samples_split=2, n_estimators=50 \n",
      "[CV]  learning_rate=0.1, max_depth=5, min_samples_split=2, n_estimators=50, score=0.7775282415968292, total=  48.1s\n",
      "[CV] learning_rate=0.1, max_depth=5, min_samples_split=2, n_estimators=50 \n",
      "[CV]  learning_rate=0.1, max_depth=5, min_samples_split=2, n_estimators=50, score=0.7505192123551568, total=  48.1s\n",
      "[CV] learning_rate=0.1, max_depth=5, min_samples_split=2, n_estimators=100 \n",
      "[CV]  learning_rate=0.1, max_depth=5, min_samples_split=2, n_estimators=100, score=0.711716406528039, total= 1.6min\n",
      "[CV] learning_rate=0.1, max_depth=5, min_samples_split=2, n_estimators=100 \n",
      "[CV]  learning_rate=0.1, max_depth=5, min_samples_split=2, n_estimators=100, score=0.7450516535899854, total= 1.6min\n",
      "[CV] learning_rate=0.1, max_depth=5, min_samples_split=2, n_estimators=100 \n",
      "[CV]  learning_rate=0.1, max_depth=5, min_samples_split=2, n_estimators=100, score=0.7202351206062689, total= 1.6min\n",
      "[CV] learning_rate=0.1, max_depth=5, min_samples_split=2, n_estimators=150 \n",
      "[CV]  learning_rate=0.1, max_depth=5, min_samples_split=2, n_estimators=150, score=0.6963833475265647, total= 2.4min\n",
      "[CV] learning_rate=0.1, max_depth=5, min_samples_split=2, n_estimators=150 \n",
      "[CV]  learning_rate=0.1, max_depth=5, min_samples_split=2, n_estimators=150, score=0.7479879647394989, total= 2.3min\n",
      "[CV] learning_rate=0.1, max_depth=5, min_samples_split=2, n_estimators=150 \n",
      "[CV]  learning_rate=0.1, max_depth=5, min_samples_split=2, n_estimators=150, score=0.7182235846844439, total= 2.3min\n",
      "[CV] learning_rate=0.1, max_depth=5, min_samples_split=4, n_estimators=50 \n",
      "[CV]  learning_rate=0.1, max_depth=5, min_samples_split=4, n_estimators=50, score=0.7329925501423561, total=  48.1s\n",
      "[CV] learning_rate=0.1, max_depth=5, min_samples_split=4, n_estimators=50 \n",
      "[CV]  learning_rate=0.1, max_depth=5, min_samples_split=4, n_estimators=50, score=0.7813771441103403, total=  47.4s\n",
      "[CV] learning_rate=0.1, max_depth=5, min_samples_split=4, n_estimators=50 \n",
      "[CV]  learning_rate=0.1, max_depth=5, min_samples_split=4, n_estimators=50, score=0.7545171175295439, total=  47.9s\n",
      "[CV] learning_rate=0.1, max_depth=5, min_samples_split=4, n_estimators=100 \n",
      "[CV]  learning_rate=0.1, max_depth=5, min_samples_split=4, n_estimators=100, score=0.7115162184147643, total= 1.6min\n",
      "[CV] learning_rate=0.1, max_depth=5, min_samples_split=4, n_estimators=100 \n",
      "[CV]  learning_rate=0.1, max_depth=5, min_samples_split=4, n_estimators=100, score=0.7630262480370995, total= 1.5min\n",
      "[CV] learning_rate=0.1, max_depth=5, min_samples_split=4, n_estimators=100 \n",
      "[CV]  learning_rate=0.1, max_depth=5, min_samples_split=4, n_estimators=100, score=0.7314936098630973, total= 1.6min\n",
      "[CV] learning_rate=0.1, max_depth=5, min_samples_split=4, n_estimators=150 \n",
      "[CV]  learning_rate=0.1, max_depth=5, min_samples_split=4, n_estimators=150, score=0.7023514556535666, total= 2.3min\n",
      "[CV] learning_rate=0.1, max_depth=5, min_samples_split=4, n_estimators=150 \n",
      "[CV]  learning_rate=0.1, max_depth=5, min_samples_split=4, n_estimators=150, score=0.7472004077799363, total= 2.3min\n",
      "[CV] learning_rate=0.1, max_depth=5, min_samples_split=4, n_estimators=150 \n",
      "[CV]  learning_rate=0.1, max_depth=5, min_samples_split=4, n_estimators=150, score=0.7191853109741458, total= 2.3min\n",
      "[CV] learning_rate=1.0, max_depth=3, min_samples_split=2, n_estimators=50 \n",
      "[CV]  learning_rate=1.0, max_depth=3, min_samples_split=2, n_estimators=50, score=0.6798144049646652, total=  14.6s\n",
      "[CV] learning_rate=1.0, max_depth=3, min_samples_split=2, n_estimators=50 \n",
      "[CV]  learning_rate=1.0, max_depth=3, min_samples_split=2, n_estimators=50, score=0.6903249336578635, total=  14.7s\n",
      "[CV] learning_rate=1.0, max_depth=3, min_samples_split=2, n_estimators=50 \n",
      "[CV]  learning_rate=1.0, max_depth=3, min_samples_split=2, n_estimators=50, score=0.711601355165219, total=  14.6s\n",
      "[CV] learning_rate=1.0, max_depth=3, min_samples_split=2, n_estimators=100 \n",
      "[CV]  learning_rate=1.0, max_depth=3, min_samples_split=2, n_estimators=100, score=0.6776051861431693, total=  26.5s\n",
      "[CV] learning_rate=1.0, max_depth=3, min_samples_split=2, n_estimators=100 \n",
      "[CV]  learning_rate=1.0, max_depth=3, min_samples_split=2, n_estimators=100, score=0.6941418784961199, total=  26.2s\n",
      "[CV] learning_rate=1.0, max_depth=3, min_samples_split=2, n_estimators=100 \n",
      "[CV]  learning_rate=1.0, max_depth=3, min_samples_split=2, n_estimators=100, score=0.6790079219082248, total=  29.0s\n",
      "[CV] learning_rate=1.0, max_depth=3, min_samples_split=2, n_estimators=150 \n",
      "[CV]  learning_rate=1.0, max_depth=3, min_samples_split=2, n_estimators=150, score=0.67406952247191, total=  38.6s\n",
      "[CV] learning_rate=1.0, max_depth=3, min_samples_split=2, n_estimators=150 \n",
      "[CV]  learning_rate=1.0, max_depth=3, min_samples_split=2, n_estimators=150, score=0.6875743764957691, total=  37.3s\n",
      "[CV] learning_rate=1.0, max_depth=3, min_samples_split=2, n_estimators=150 \n",
      "[CV]  learning_rate=1.0, max_depth=3, min_samples_split=2, n_estimators=150, score=0.6509307073711577, total=  43.6s\n",
      "[CV] learning_rate=1.0, max_depth=3, min_samples_split=4, n_estimators=50 \n",
      "[CV]  learning_rate=1.0, max_depth=3, min_samples_split=4, n_estimators=50, score=0.6508316147872286, total=  15.3s\n",
      "[CV] learning_rate=1.0, max_depth=3, min_samples_split=4, n_estimators=50 \n",
      "[CV]  learning_rate=1.0, max_depth=3, min_samples_split=4, n_estimators=50, score=0.6815641364576754, total=  15.5s\n",
      "[CV] learning_rate=1.0, max_depth=3, min_samples_split=4, n_estimators=50 \n",
      "[CV]  learning_rate=1.0, max_depth=3, min_samples_split=4, n_estimators=50, score=0.6987515734161677, total=  14.4s\n",
      "[CV] learning_rate=1.0, max_depth=3, min_samples_split=4, n_estimators=100 \n",
      "[CV]  learning_rate=1.0, max_depth=3, min_samples_split=4, n_estimators=100, score=0.6510417328664396, total=  26.4s\n",
      "[CV] learning_rate=1.0, max_depth=3, min_samples_split=4, n_estimators=100 \n",
      "[CV]  learning_rate=1.0, max_depth=3, min_samples_split=4, n_estimators=100, score=0.6638749639976813, total=  29.7s\n",
      "[CV] learning_rate=1.0, max_depth=3, min_samples_split=4, n_estimators=100 \n",
      "[CV]  learning_rate=1.0, max_depth=3, min_samples_split=4, n_estimators=100, score=0.6776956598680708, total=  27.1s\n",
      "[CV] learning_rate=1.0, max_depth=3, min_samples_split=4, n_estimators=150 \n",
      "[CV]  learning_rate=1.0, max_depth=3, min_samples_split=4, n_estimators=150, score=0.651034980489603, total=  38.0s\n",
      "[CV] learning_rate=1.0, max_depth=3, min_samples_split=4, n_estimators=150 \n",
      "[CV]  learning_rate=1.0, max_depth=3, min_samples_split=4, n_estimators=150, score=0.6378947721637465, total=  43.8s\n",
      "[CV] learning_rate=1.0, max_depth=3, min_samples_split=4, n_estimators=150 \n",
      "[CV]  learning_rate=1.0, max_depth=3, min_samples_split=4, n_estimators=150, score=0.6561134433556198, total=  38.9s\n",
      "[CV] learning_rate=1.0, max_depth=5, min_samples_split=2, n_estimators=50 \n",
      "[CV]  learning_rate=1.0, max_depth=5, min_samples_split=2, n_estimators=50, score=0.6248538309014184, total=  35.8s\n",
      "[CV] learning_rate=1.0, max_depth=5, min_samples_split=2, n_estimators=50 \n"
     ]
    },
    {
     "name": "stdout",
     "output_type": "stream",
     "text": [
      "[CV]  learning_rate=1.0, max_depth=5, min_samples_split=2, n_estimators=50, score=0.6024978518450165, total=  39.6s\n",
      "[CV] learning_rate=1.0, max_depth=5, min_samples_split=2, n_estimators=50 \n",
      "[CV]  learning_rate=1.0, max_depth=5, min_samples_split=2, n_estimators=50, score=0.5910649935225787, total=  35.8s\n",
      "[CV] learning_rate=1.0, max_depth=5, min_samples_split=2, n_estimators=100 \n",
      "[CV]  learning_rate=1.0, max_depth=5, min_samples_split=2, n_estimators=100, score=0.6227169022319388, total= 1.0min\n",
      "[CV] learning_rate=1.0, max_depth=5, min_samples_split=2, n_estimators=100 \n",
      "[CV]  learning_rate=1.0, max_depth=5, min_samples_split=2, n_estimators=100, score=0.6490174413007412, total=  54.3s\n",
      "[CV] learning_rate=1.0, max_depth=5, min_samples_split=2, n_estimators=100 \n",
      "[CV]  learning_rate=1.0, max_depth=5, min_samples_split=2, n_estimators=100, score=0.5948344013188933, total=  54.6s\n",
      "[CV] learning_rate=1.0, max_depth=5, min_samples_split=2, n_estimators=150 \n",
      "[CV]  learning_rate=1.0, max_depth=5, min_samples_split=2, n_estimators=150, score=0.5990571695942853, total= 1.5min\n",
      "[CV] learning_rate=1.0, max_depth=5, min_samples_split=2, n_estimators=150 \n",
      "[CV]  learning_rate=1.0, max_depth=5, min_samples_split=2, n_estimators=150, score=0.6518632722821895, total= 1.3min\n",
      "[CV] learning_rate=1.0, max_depth=5, min_samples_split=2, n_estimators=150 \n",
      "[CV]  learning_rate=1.0, max_depth=5, min_samples_split=2, n_estimators=150, score=0.6099014465242234, total= 1.4min\n",
      "[CV] learning_rate=1.0, max_depth=5, min_samples_split=4, n_estimators=50 \n",
      "[CV]  learning_rate=1.0, max_depth=5, min_samples_split=4, n_estimators=50, score=0.6033606182317351, total=  37.8s\n",
      "[CV] learning_rate=1.0, max_depth=5, min_samples_split=4, n_estimators=50 \n",
      "[CV]  learning_rate=1.0, max_depth=5, min_samples_split=4, n_estimators=50, score=0.6173120319448921, total=  37.4s\n",
      "[CV] learning_rate=1.0, max_depth=5, min_samples_split=4, n_estimators=50 \n",
      "[CV]  learning_rate=1.0, max_depth=5, min_samples_split=4, n_estimators=50, score=0.5941898549560962, total=  40.8s\n",
      "[CV] learning_rate=1.0, max_depth=5, min_samples_split=4, n_estimators=100 \n",
      "[CV]  learning_rate=1.0, max_depth=5, min_samples_split=4, n_estimators=100, score=0.5972536891809446, total= 1.1min\n",
      "[CV] learning_rate=1.0, max_depth=5, min_samples_split=4, n_estimators=100 \n",
      "[CV]  learning_rate=1.0, max_depth=5, min_samples_split=4, n_estimators=100, score=0.6559059182019333, total=  50.1s\n",
      "[CV] learning_rate=1.0, max_depth=5, min_samples_split=4, n_estimators=100 \n",
      "[CV]  learning_rate=1.0, max_depth=5, min_samples_split=4, n_estimators=100, score=0.5971870854240644, total= 1.2min\n",
      "[CV] learning_rate=1.0, max_depth=5, min_samples_split=4, n_estimators=150 \n",
      "[CV]  learning_rate=1.0, max_depth=5, min_samples_split=4, n_estimators=150, score=0.6017738096751233, total= 1.5min\n",
      "[CV] learning_rate=1.0, max_depth=5, min_samples_split=4, n_estimators=150 \n",
      "[CV]  learning_rate=1.0, max_depth=5, min_samples_split=4, n_estimators=150, score=0.6373169374480439, total= 1.3min\n",
      "[CV] learning_rate=1.0, max_depth=5, min_samples_split=4, n_estimators=150 \n",
      "[CV]  learning_rate=1.0, max_depth=5, min_samples_split=4, n_estimators=150, score=0.6203164528897926, total= 1.3min\n"
     ]
    },
    {
     "name": "stderr",
     "output_type": "stream",
     "text": [
      "[Parallel(n_jobs=-1)]: Done 108 out of 108 | elapsed: 106.8min finished\n"
     ]
    },
    {
     "name": "stdout",
     "output_type": "stream",
     "text": [
      "0.75964933208 GradientBoostingClassifier(criterion='friedman_mse', init=None,\n",
      "              learning_rate=0.01, loss='deviance', max_depth=5,\n",
      "              max_features=None, max_leaf_nodes=None,\n",
      "              min_impurity_decrease=0.0, min_impurity_split=None,\n",
      "              min_samples_leaf=1, min_samples_split=4,\n",
      "              min_weight_fraction_leaf=0.0, n_estimators=50,\n",
      "              presort='auto', random_state=None, subsample=1.0, verbose=0,\n",
      "              warm_start=False)\n"
     ]
    }
   ],
   "source": [
    "param_grid = {'learning_rate': [0.01,0.1,1.0],\n",
    "              'n_estimators': [50, 100,150],\n",
    "              'max_depth': [3,5],\n",
    "              'min_samples_split' : [2,4]}\n",
    "\n",
    "best = GridSearchCV(estimator=GradientBoostingClassifier(), param_grid=param_grid, scoring='roc_auc', cv=3, n_jobs=-1,verbose=3)\n",
    "best.fit(x, y)\n",
    "\n",
    "print(best.best_score_,best.best_estimator_)"
   ]
  },
  {
   "cell_type": "code",
   "execution_count": 28,
   "metadata": {},
   "outputs": [],
   "source": [
    "classifier = AdaBoostClassifier(learning_rate=0.1,n_estimators=50)\n",
    "best_model = classifier.fit(x,y)"
   ]
  },
  {
   "cell_type": "code",
   "execution_count": 10,
   "metadata": {},
   "outputs": [],
   "source": [
    "classifier = GradientBoostingClassifier(learning_rate=0.01, max_depth=5,\n",
    "              min_samples_split=4, n_estimators=50,)\n",
    "best_model = classifier.fit(x,y)"
   ]
  },
  {
   "cell_type": "markdown",
   "metadata": {},
   "source": [
    "## Part 3: Kaggle Competition\n",
    "\n",
    "Now that you've created a model to predict which individuals are most likely to respond to a mailout campaign, it's time to test that model in competition through Kaggle. If you click on the link [here](http://www.kaggle.com/t/21e6d45d4c574c7fa2d868f0e8c83140), you'll be taken to the competition page where, if you have a Kaggle account, you can enter. If you're one of the top performers, you may have the chance to be contacted by a hiring manager from Arvato or Bertelsmann for an interview!\n",
    "\n",
    "Your entry to the competition should be a CSV file with two columns. The first column should be a copy of \"LNR\", which acts as an ID number for each individual in the \"TEST\" partition. The second column, \"RESPONSE\", should be some measure of how likely each individual became a customer – this might not be a straightforward probability. As you should have found in Part 2, there is a large output class imbalance, where most individuals did not respond to the mailout. Thus, predicting individual classes and using accuracy does not seem to be an appropriate performance evaluation method. Instead, the competition will be using AUC to evaluate performance. The exact values of the \"RESPONSE\" column do not matter as much: only that the higher values try to capture as many of the actual customers as possible, early in the ROC curve sweep."
   ]
  },
  {
   "cell_type": "code",
   "execution_count": null,
   "metadata": {},
   "outputs": [],
   "source": []
  },
  {
   "cell_type": "code",
   "execution_count": 11,
   "metadata": {},
   "outputs": [
    {
     "name": "stderr",
     "output_type": "stream",
     "text": [
      "/opt/conda/lib/python3.6/site-packages/IPython/core/interactiveshell.py:2785: DtypeWarning: Columns (18,19) have mixed types. Specify dtype option on import or set low_memory=False.\n",
      "  interactivity=interactivity, compiler=compiler, result=result)\n"
     ]
    }
   ],
   "source": [
    "mailout_test = pd.read_csv('../../data/Term2/capstone/arvato_data/Udacity_MAILOUT_052018_TEST.csv', sep=';')"
   ]
  },
  {
   "cell_type": "code",
   "execution_count": 12,
   "metadata": {},
   "outputs": [],
   "source": [
    "mailout_test=Handle_category_values(mailout_test)"
   ]
  },
  {
   "cell_type": "code",
   "execution_count": 13,
   "metadata": {},
   "outputs": [
    {
     "name": "stdout",
     "output_type": "stream",
     "text": [
      "columns to drop :  ['ALTER_KIND1', 'ALTER_KIND2', 'ALTER_KIND3', 'ALTER_KIND4', 'EXTSEL992', 'KK_KUNDENTYP']\n"
     ]
    },
    {
     "data": {
      "text/html": [
       "<div>\n",
       "<style scoped>\n",
       "    .dataframe tbody tr th:only-of-type {\n",
       "        vertical-align: middle;\n",
       "    }\n",
       "\n",
       "    .dataframe tbody tr th {\n",
       "        vertical-align: top;\n",
       "    }\n",
       "\n",
       "    .dataframe thead th {\n",
       "        text-align: right;\n",
       "    }\n",
       "</style>\n",
       "<table border=\"1\" class=\"dataframe\">\n",
       "  <thead>\n",
       "    <tr style=\"text-align: right;\">\n",
       "      <th></th>\n",
       "      <th>LNR</th>\n",
       "      <th>AGER_TYP</th>\n",
       "      <th>AKT_DAT_KL</th>\n",
       "      <th>ALTER_HH</th>\n",
       "      <th>ALTERSKATEGORIE_FEIN</th>\n",
       "      <th>ANZ_HAUSHALTE_AKTIV</th>\n",
       "      <th>ANZ_HH_TITEL</th>\n",
       "      <th>ANZ_KINDER</th>\n",
       "      <th>ANZ_PERSONEN</th>\n",
       "      <th>ANZ_STATISTISCHE_HAUSHALTE</th>\n",
       "      <th>...</th>\n",
       "      <th>VHN</th>\n",
       "      <th>VK_DHT4A</th>\n",
       "      <th>VK_DISTANZ</th>\n",
       "      <th>VK_ZG11</th>\n",
       "      <th>W_KEIT_KIND_HH</th>\n",
       "      <th>WOHNDAUER_2008</th>\n",
       "      <th>WOHNLAGE</th>\n",
       "      <th>ZABEOTYP</th>\n",
       "      <th>ANREDE_KZ</th>\n",
       "      <th>ALTERSKATEGORIE_GROB</th>\n",
       "    </tr>\n",
       "  </thead>\n",
       "  <tbody>\n",
       "    <tr>\n",
       "      <th>0</th>\n",
       "      <td>1754</td>\n",
       "      <td>2</td>\n",
       "      <td>1.0</td>\n",
       "      <td>7.0</td>\n",
       "      <td>6.0</td>\n",
       "      <td>2.0</td>\n",
       "      <td>0.0</td>\n",
       "      <td>0.0</td>\n",
       "      <td>2.0</td>\n",
       "      <td>2.0</td>\n",
       "      <td>...</td>\n",
       "      <td>4.0</td>\n",
       "      <td>5.0</td>\n",
       "      <td>6.0</td>\n",
       "      <td>3.0</td>\n",
       "      <td>6.0</td>\n",
       "      <td>9.0</td>\n",
       "      <td>3.0</td>\n",
       "      <td>3</td>\n",
       "      <td>1</td>\n",
       "      <td>4</td>\n",
       "    </tr>\n",
       "    <tr>\n",
       "      <th>1</th>\n",
       "      <td>1770</td>\n",
       "      <td>-1</td>\n",
       "      <td>1.0</td>\n",
       "      <td>0.0</td>\n",
       "      <td>0.0</td>\n",
       "      <td>20.0</td>\n",
       "      <td>0.0</td>\n",
       "      <td>0.0</td>\n",
       "      <td>1.0</td>\n",
       "      <td>21.0</td>\n",
       "      <td>...</td>\n",
       "      <td>1.0</td>\n",
       "      <td>5.0</td>\n",
       "      <td>2.0</td>\n",
       "      <td>1.0</td>\n",
       "      <td>6.0</td>\n",
       "      <td>9.0</td>\n",
       "      <td>5.0</td>\n",
       "      <td>3</td>\n",
       "      <td>1</td>\n",
       "      <td>4</td>\n",
       "    </tr>\n",
       "    <tr>\n",
       "      <th>2</th>\n",
       "      <td>1465</td>\n",
       "      <td>2</td>\n",
       "      <td>9.0</td>\n",
       "      <td>16.0</td>\n",
       "      <td>11.0</td>\n",
       "      <td>2.0</td>\n",
       "      <td>0.0</td>\n",
       "      <td>0.0</td>\n",
       "      <td>4.0</td>\n",
       "      <td>2.0</td>\n",
       "      <td>...</td>\n",
       "      <td>3.0</td>\n",
       "      <td>9.0</td>\n",
       "      <td>6.0</td>\n",
       "      <td>3.0</td>\n",
       "      <td>2.0</td>\n",
       "      <td>9.0</td>\n",
       "      <td>4.0</td>\n",
       "      <td>3</td>\n",
       "      <td>2</td>\n",
       "      <td>4</td>\n",
       "    </tr>\n",
       "    <tr>\n",
       "      <th>3</th>\n",
       "      <td>1470</td>\n",
       "      <td>-1</td>\n",
       "      <td>7.0</td>\n",
       "      <td>0.0</td>\n",
       "      <td>0.0</td>\n",
       "      <td>1.0</td>\n",
       "      <td>0.0</td>\n",
       "      <td>0.0</td>\n",
       "      <td>0.0</td>\n",
       "      <td>1.0</td>\n",
       "      <td>...</td>\n",
       "      <td>2.0</td>\n",
       "      <td>6.0</td>\n",
       "      <td>6.0</td>\n",
       "      <td>3.0</td>\n",
       "      <td>NaN</td>\n",
       "      <td>9.0</td>\n",
       "      <td>2.0</td>\n",
       "      <td>3</td>\n",
       "      <td>2</td>\n",
       "      <td>4</td>\n",
       "    </tr>\n",
       "    <tr>\n",
       "      <th>4</th>\n",
       "      <td>1478</td>\n",
       "      <td>1</td>\n",
       "      <td>1.0</td>\n",
       "      <td>21.0</td>\n",
       "      <td>13.0</td>\n",
       "      <td>1.0</td>\n",
       "      <td>0.0</td>\n",
       "      <td>0.0</td>\n",
       "      <td>4.0</td>\n",
       "      <td>1.0</td>\n",
       "      <td>...</td>\n",
       "      <td>1.0</td>\n",
       "      <td>2.0</td>\n",
       "      <td>4.0</td>\n",
       "      <td>3.0</td>\n",
       "      <td>3.0</td>\n",
       "      <td>9.0</td>\n",
       "      <td>7.0</td>\n",
       "      <td>4</td>\n",
       "      <td>2</td>\n",
       "      <td>4</td>\n",
       "    </tr>\n",
       "  </tbody>\n",
       "</table>\n",
       "<p>5 rows × 357 columns</p>\n",
       "</div>"
      ],
      "text/plain": [
       "    LNR  AGER_TYP  AKT_DAT_KL  ALTER_HH  ALTERSKATEGORIE_FEIN  \\\n",
       "0  1754         2         1.0       7.0                   6.0   \n",
       "1  1770        -1         1.0       0.0                   0.0   \n",
       "2  1465         2         9.0      16.0                  11.0   \n",
       "3  1470        -1         7.0       0.0                   0.0   \n",
       "4  1478         1         1.0      21.0                  13.0   \n",
       "\n",
       "   ANZ_HAUSHALTE_AKTIV  ANZ_HH_TITEL  ANZ_KINDER  ANZ_PERSONEN  \\\n",
       "0                  2.0           0.0         0.0           2.0   \n",
       "1                 20.0           0.0         0.0           1.0   \n",
       "2                  2.0           0.0         0.0           4.0   \n",
       "3                  1.0           0.0         0.0           0.0   \n",
       "4                  1.0           0.0         0.0           4.0   \n",
       "\n",
       "   ANZ_STATISTISCHE_HAUSHALTE          ...           VHN  VK_DHT4A  \\\n",
       "0                         2.0          ...           4.0       5.0   \n",
       "1                        21.0          ...           1.0       5.0   \n",
       "2                         2.0          ...           3.0       9.0   \n",
       "3                         1.0          ...           2.0       6.0   \n",
       "4                         1.0          ...           1.0       2.0   \n",
       "\n",
       "   VK_DISTANZ  VK_ZG11  W_KEIT_KIND_HH  WOHNDAUER_2008  WOHNLAGE  ZABEOTYP  \\\n",
       "0         6.0      3.0             6.0             9.0       3.0         3   \n",
       "1         2.0      1.0             6.0             9.0       5.0         3   \n",
       "2         6.0      3.0             2.0             9.0       4.0         3   \n",
       "3         6.0      3.0             NaN             9.0       2.0         3   \n",
       "4         4.0      3.0             3.0             9.0       7.0         4   \n",
       "\n",
       "   ANREDE_KZ  ALTERSKATEGORIE_GROB  \n",
       "0          1                     4  \n",
       "1          1                     4  \n",
       "2          2                     4  \n",
       "3          2                     4  \n",
       "4          2                     4  \n",
       "\n",
       "[5 rows x 357 columns]"
      ]
     },
     "execution_count": 13,
     "metadata": {},
     "output_type": "execute_result"
    }
   ],
   "source": [
    "mailout_test=Cleaning_dataframe(mailout_test,azdias=False,cust=False)\n",
    "mailout_test.head(5)"
   ]
  },
  {
   "cell_type": "code",
   "execution_count": 14,
   "metadata": {},
   "outputs": [],
   "source": [
    "LNR = mailout_test['LNR']\n",
    "mailout_test=mailout_test.drop('LNR',axis=1)"
   ]
  },
  {
   "cell_type": "code",
   "execution_count": 15,
   "metadata": {},
   "outputs": [],
   "source": [
    "mailout_test =mailout_test.astype(float)"
   ]
  },
  {
   "cell_type": "code",
   "execution_count": 16,
   "metadata": {},
   "outputs": [
    {
     "name": "stdout",
     "output_type": "stream",
     "text": [
      "imputed mailout:     AGER_TYP  AKT_DAT_KL  ALTER_HH  ALTERSKATEGORIE_FEIN  ANZ_HAUSHALTE_AKTIV  \\\n",
      "0       2.0         1.0       7.0                   6.0                  2.0   \n",
      "1      -1.0         1.0       0.0                   0.0                 20.0   \n",
      "2       2.0         9.0      16.0                  11.0                  2.0   \n",
      "3      -1.0         7.0       0.0                   0.0                  1.0   \n",
      "4       1.0         1.0      21.0                  13.0                  1.0   \n",
      "\n",
      "   ANZ_HH_TITEL  ANZ_KINDER  ANZ_PERSONEN  ANZ_STATISTISCHE_HAUSHALTE  \\\n",
      "0           0.0         0.0           2.0                         2.0   \n",
      "1           0.0         0.0           1.0                        21.0   \n",
      "2           0.0         0.0           4.0                         2.0   \n",
      "3           0.0         0.0           0.0                         1.0   \n",
      "4           0.0         0.0           4.0                         1.0   \n",
      "\n",
      "   ANZ_TITEL          ...           VHN  VK_DHT4A  VK_DISTANZ  VK_ZG11  \\\n",
      "0        0.0          ...           4.0       5.0         6.0      3.0   \n",
      "1        0.0          ...           1.0       5.0         2.0      1.0   \n",
      "2        0.0          ...           3.0       9.0         6.0      3.0   \n",
      "3        0.0          ...           2.0       6.0         6.0      3.0   \n",
      "4        0.0          ...           1.0       2.0         4.0      3.0   \n",
      "\n",
      "   W_KEIT_KIND_HH  WOHNDAUER_2008  WOHNLAGE  ZABEOTYP  ANREDE_KZ  \\\n",
      "0             6.0             9.0       3.0       3.0        1.0   \n",
      "1             6.0             9.0       5.0       3.0        1.0   \n",
      "2             2.0             9.0       4.0       3.0        2.0   \n",
      "3             6.0             9.0       2.0       3.0        2.0   \n",
      "4             3.0             9.0       7.0       4.0        2.0   \n",
      "\n",
      "   ALTERSKATEGORIE_GROB  \n",
      "0                   4.0  \n",
      "1                   4.0  \n",
      "2                   4.0  \n",
      "3                   4.0  \n",
      "4                   4.0  \n",
      "\n",
      "[5 rows x 356 columns]\n"
     ]
    }
   ],
   "source": [
    "imputer = Imputer(strategy='most_frequent')\n",
    "mailout_test_col=list(mailout_test.columns.values)\n",
    "mailout_test = imputer.fit_transform(mailout_test)\n",
    "mailout_test = pd.DataFrame(mailout_test,columns=mailout_test_col)\n",
    "print('imputed mailout: ', mailout_test.head(5))"
   ]
  },
  {
   "cell_type": "code",
   "execution_count": 17,
   "metadata": {},
   "outputs": [],
   "source": [
    "corr_matrix = mailout_test.corr().abs()\n",
    "upper = corr_matrix.where(np.triu(np.ones(corr_matrix.shape), k=1).astype(np.bool))\n",
    "to_drop = [column for column in upper.columns if any(upper[column] > 0.9)]\n",
    "mailout_test=mailout_test.drop(to_drop,axis=1)"
   ]
  },
  {
   "cell_type": "code",
   "execution_count": 18,
   "metadata": {},
   "outputs": [],
   "source": [
    "scaler=StandardScaler()\n",
    "mailout_test=pd.DataFrame(scaler.fit_transform(mailout_test.astype(float)))"
   ]
  },
  {
   "cell_type": "code",
   "execution_count": 19,
   "metadata": {},
   "outputs": [
    {
     "data": {
      "text/plain": [
       "(42833, 333)"
      ]
     },
     "execution_count": 19,
     "metadata": {},
     "output_type": "execute_result"
    }
   ],
   "source": [
    "mailout_test.shape"
   ]
  },
  {
   "cell_type": "code",
   "execution_count": 20,
   "metadata": {},
   "outputs": [],
   "source": [
    "probab = best_model.predict_proba(mailout_test)"
   ]
  },
  {
   "cell_type": "code",
   "execution_count": 21,
   "metadata": {},
   "outputs": [],
   "source": [
    "predictions = pd.DataFrame(LNR)"
   ]
  },
  {
   "cell_type": "code",
   "execution_count": 22,
   "metadata": {},
   "outputs": [],
   "source": [
    "predictions['RESPONSE'] = probab[:,1]"
   ]
  },
  {
   "cell_type": "code",
   "execution_count": 23,
   "metadata": {},
   "outputs": [],
   "source": [
    "predictions.to_csv('submission-grad-0.01-5-4-50.csv', index = False)"
   ]
  },
  {
   "cell_type": "code",
   "execution_count": 24,
   "metadata": {},
   "outputs": [
    {
     "data": {
      "text/plain": [
       "(42833, 2)"
      ]
     },
     "execution_count": 24,
     "metadata": {},
     "output_type": "execute_result"
    }
   ],
   "source": [
    "predictions.shape"
   ]
  },
  {
   "cell_type": "code",
   "execution_count": null,
   "metadata": {},
   "outputs": [],
   "source": []
  }
 ],
 "metadata": {
  "kernelspec": {
   "display_name": "Python 3",
   "language": "python",
   "name": "python3"
  },
  "language_info": {
   "codemirror_mode": {
    "name": "ipython",
    "version": 3
   },
   "file_extension": ".py",
   "mimetype": "text/x-python",
   "name": "python",
   "nbconvert_exporter": "python",
   "pygments_lexer": "ipython3",
   "version": "3.6.3"
  }
 },
 "nbformat": 4,
 "nbformat_minor": 2
}
